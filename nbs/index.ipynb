{
 "cells": [
  {
   "cell_type": "code",
   "execution_count": null,
   "metadata": {},
   "outputs": [],
   "source": [
    "#| hide\n",
    "import numpy as np\n",
    "import matplotlib.pyplot as plt\n",
    "\n",
    "from colortextpy import Color\n",
    "from colortextpy import Fore, Back, Style, RESET_ALL, AnsiColor\n",
    "from colortextpy import ColorStream, colorize\n",
    "from colortextpy import Printer, colorprint\n",
    "\n",
    "from nbdev import show_doc\n",
    "\n",
    "import warnings\n",
    "warnings.filterwarnings('ignore')"
   ]
  },
  {
   "cell_type": "markdown",
   "metadata": {},
   "source": [
    "# colortextpy\n",
    "\n",
    "> Colortextpy is a Python package for adding colors and styles to terminal output, allowing you to create more visually appealing and organized command-line applications. The full `colortextpy` documentation is available at  [https://susuky.github.io/colortextpy/](https://susuky.github.io/colortextpy/)"
   ]
  },
  {
   "cell_type": "markdown",
   "metadata": {},
   "source": [
    "## Install"
   ]
  },
  {
   "cell_type": "markdown",
   "metadata": {},
   "source": [
    "Tested on python 3.6-3.11, win11, win11 WSL2, Ubuntu\n",
    "\n",
    "It doesn't support win32"
   ]
  },
  {
   "cell_type": "markdown",
   "metadata": {},
   "source": [
    "```sh\n",
    "pip install colortextpy\n",
    "```"
   ]
  },
  {
   "cell_type": "markdown",
   "metadata": {},
   "source": [
    "## Usage"
   ]
  },
  {
   "cell_type": "markdown",
   "metadata": {},
   "source": [
    "### Color printer"
   ]
  },
  {
   "cell_type": "code",
   "execution_count": null,
   "metadata": {},
   "outputs": [],
   "source": [
    "#| output: false\n",
    "from colortextpy import Printer, colorprint\n",
    "\n",
    "Printer.blue_print('blue')\n",
    "Printer.blue_print('blue', bold=True)\n",
    "\n",
    "colorprint('default')\n",
    "colorprint('#ff3567', color='#ff3567')\n",
    "colorprint('#123456', color=Fore['#123456'])\n",
    "colorprint(4, color=4)\n",
    "colorprint(137, color=Fore['137'])\n",
    "colorprint('(50, 234, 33)', color=(50, 234, 33))\n",
    "colorprint('(50, 24, 133)', color='(50, 24, 133)')\n",
    "colorprint('dark_green', color=Fore.dark_green)\n",
    "\n",
    "colorprint('violet', background='violet', bold=False)\n",
    "colorprint('violet', background='violet', bold=True)\n",
    "colorprint('violet', color=Fore.green, background='violet', bold=True)"
   ]
  },
  {
   "cell_type": "markdown",
   "metadata": {},
   "source": [
    "![](images/index-0.png)"
   ]
  },
  {
   "cell_type": "markdown",
   "metadata": {},
   "source": [
    "Use `Printer.available` to see other color printers "
   ]
  },
  {
   "cell_type": "markdown",
   "metadata": {},
   "source": [
    "### `Fore`, `Back`, `Style`"
   ]
  },
  {
   "cell_type": "code",
   "execution_count": null,
   "metadata": {},
   "outputs": [
    {
     "data": {
      "text/plain": [
       "(<AnsiColor: 'FORE'>, <AnsiColor: 'BACK'>, <AnsiColor: 'STYLE'>)"
      ]
     },
     "execution_count": null,
     "metadata": {},
     "output_type": "execute_result"
    }
   ],
   "source": [
    "from colortextpy import Fore, Back, Style, AnsiColor, RESET_ALL\n",
    "\n",
    "Fore, Back, Style"
   ]
  },
  {
   "cell_type": "markdown",
   "metadata": {},
   "source": [
    "You could use `Style` to get style ansi escape code:"
   ]
  },
  {
   "cell_type": "code",
   "execution_count": null,
   "metadata": {},
   "outputs": [],
   "source": [
    "#| output: false\n",
    "print(f'{Style[\"bold\"]+Style.underline}bold + underline{Style.end}')\n",
    "Style['bold'], Style.underline"
   ]
  },
  {
   "cell_type": "markdown",
   "metadata": {},
   "source": [
    "![](images/index-1.png)"
   ]
  },
  {
   "cell_type": "markdown",
   "metadata": {},
   "source": [
    "Other style see `Style.availble`, but __bold__, __underline__ would be the most used"
   ]
  },
  {
   "cell_type": "markdown",
   "metadata": {},
   "source": [
    "You could use `Fore` and `Back` to get the text foreground and background ansi escape code:"
   ]
  },
  {
   "cell_type": "code",
   "execution_count": null,
   "metadata": {},
   "outputs": [
    {
     "data": {
      "text/plain": [
       "('\\x1b[38;2;255;0;0m',\n",
       " '\\x1b[38;2;0;0;0m',\n",
       " '\\x1b[48;2;210;105;30m',\n",
       " '\\x1b[48;2;255;105;180m')"
      ]
     },
     "execution_count": null,
     "metadata": {},
     "output_type": "execute_result"
    }
   ],
   "source": [
    "Fore['red'], Fore.black, Back.chocolate, Back['hotpink']"
   ]
  },
  {
   "cell_type": "markdown",
   "metadata": {},
   "source": [
    "Both `Fore` and `Back` could also support __8-bits__, __hex__, __rgb__ color."
   ]
  },
  {
   "cell_type": "code",
   "execution_count": null,
   "metadata": {},
   "outputs": [
    {
     "data": {
      "text/plain": [
       "('\\x1b[38;5;50m', '\\x1b[38;2;255;255;255m', '\\x1b[38;2;123;45;67m')"
      ]
     },
     "execution_count": null,
     "metadata": {},
     "output_type": "execute_result"
    }
   ],
   "source": [
    "Fore[50], Fore['#ffffff'], Fore['123, 45, 67']"
   ]
  },
  {
   "cell_type": "code",
   "execution_count": null,
   "metadata": {},
   "outputs": [
    {
     "data": {
      "text/plain": [
       "('\\x1b[48;5;144m', '\\x1b[48;2;18;52;86m', '\\x1b[48;2;55;244;31m')"
      ]
     },
     "execution_count": null,
     "metadata": {},
     "output_type": "execute_result"
    }
   ],
   "source": [
    "Back['144'], Back['#123456'], Back['(55, 244, 31)']"
   ]
  },
  {
   "cell_type": "markdown",
   "metadata": {},
   "source": [
    "Here's demo of supported 8-bits colors:"
   ]
  },
  {
   "cell_type": "code",
   "execution_count": null,
   "metadata": {},
   "outputs": [],
   "source": [
    "#| output: false\n",
    "#| code-fold: true\n",
    "for i in range(256):\n",
    "    end = '\\n' if (i+1)%8 == 0 else ' '*2\n",
    "    print(f'{i:3}: {Back[i]}           {Back.reset}', end=end)"
   ]
  },
  {
   "cell_type": "markdown",
   "metadata": {},
   "source": [
    "![](images/index-3.png)"
   ]
  },
  {
   "cell_type": "markdown",
   "metadata": {},
   "source": [
    "Other available colors are in `Fore.availble` and `Back.available`"
   ]
  },
  {
   "cell_type": "markdown",
   "metadata": {},
   "source": [
    "You could combine `Fore`, `Back`, `Style` to colorize your output:"
   ]
  },
  {
   "cell_type": "code",
   "execution_count": null,
   "metadata": {},
   "outputs": [],
   "source": [
    "#| output: false\n",
    "text = 'something123'\n",
    "print(Fore[50] + text + Fore.reset)\n",
    "print(Back['black'] + Fore.aliceblue + Style.underline + text)"
   ]
  },
  {
   "cell_type": "markdown",
   "metadata": {},
   "source": [
    "![](images/index-2.png)"
   ]
  },
  {
   "cell_type": "markdown",
   "metadata": {},
   "source": [
    "`colortextpy` also provides `AnsiColor` api to combine `Fore`, `Back` and `Style` together."
   ]
  },
  {
   "cell_type": "code",
   "execution_count": null,
   "metadata": {},
   "outputs": [
    {
     "data": {
      "text/markdown": [
       "---\n",
       "\n",
       "[source](https://github.com/susuky/colortextpy/blob/main/colortextpy/ansicolor.py#LNone){target=\"_blank\" style=\"float:right; font-size:smaller\"}\n",
       "\n",
       "### AnsiColor\n",
       "\n",
       ">      AnsiColor (fore:str=None, back:str=None, style:str=None)\n",
       "\n",
       "Integrate with `Fore`, `Back`, `Style`.\n",
       "\n",
       "|    | **Type** | **Default** | **Details** |\n",
       "| -- | -------- | ----------- | ----------- |\n",
       "| fore | str | None | Foreground color. Could be hex, rgb string or tuple, `Fore`, 8-bits color |\n",
       "| back | str | None | Background color, Could be hex, rgb string or tuple, `Back`, 8-bits color |\n",
       "| style | str | None | Text style. Seee `Style.available`. |"
      ],
      "text/plain": [
       "---\n",
       "\n",
       "[source](https://github.com/susuky/colortextpy/blob/main/colortextpy/ansicolor.py#LNone){target=\"_blank\" style=\"float:right; font-size:smaller\"}\n",
       "\n",
       "### AnsiColor\n",
       "\n",
       ">      AnsiColor (fore:str=None, back:str=None, style:str=None)\n",
       "\n",
       "Integrate with `Fore`, `Back`, `Style`.\n",
       "\n",
       "|    | **Type** | **Default** | **Details** |\n",
       "| -- | -------- | ----------- | ----------- |\n",
       "| fore | str | None | Foreground color. Could be hex, rgb string or tuple, `Fore`, 8-bits color |\n",
       "| back | str | None | Background color, Could be hex, rgb string or tuple, `Back`, 8-bits color |\n",
       "| style | str | None | Text style. Seee `Style.available`. |"
      ]
     },
     "execution_count": null,
     "metadata": {},
     "output_type": "execute_result"
    }
   ],
   "source": [
    "show_doc(AnsiColor)"
   ]
  },
  {
   "cell_type": "code",
   "execution_count": null,
   "metadata": {},
   "outputs": [],
   "source": [
    "#| output: false\n",
    "ansi = AnsiColor(fore='#0c0caa', back='aliceblue', style='underline')\n",
    "print(ansi.ansi_fmt + '123456789' + RESET_ALL)\n",
    "\n",
    "\n",
    "ansi = AnsiColor(fore=Fore['123, 234, 56'], back=(20, 29, 12), style=('bold', 'underline'))\n",
    "print(ansi.ansi_fmt + '123' + RESET_ALL)\n",
    "ansi.fore, ansi.back, ansi.style, ansi.ansi_fmt"
   ]
  },
  {
   "cell_type": "markdown",
   "metadata": {},
   "source": [
    "![](images/index-4.png)"
   ]
  },
  {
   "cell_type": "markdown",
   "metadata": {},
   "source": [
    "Without setting any color, `AnsiColor` would give emtpy string:"
   ]
  },
  {
   "cell_type": "code",
   "execution_count": null,
   "metadata": {},
   "outputs": [
    {
     "data": {
      "text/plain": [
       "''"
      ]
     },
     "execution_count": null,
     "metadata": {},
     "output_type": "execute_result"
    }
   ],
   "source": [
    "AnsiColor().ansi_fmt"
   ]
  },
  {
   "cell_type": "markdown",
   "metadata": {},
   "source": [
    "### `ColorStream`"
   ]
  },
  {
   "cell_type": "markdown",
   "metadata": {},
   "source": [
    "Enables context managers to work as decorators \n",
    "to colorize the `sys.stdout` or `sys.stderr`\n",
    "\n",
    "Some usage:\n",
    "\n",
    "```python\n",
    "    with ColorStream(fore='red'):\n",
    "        print('text')        \n",
    "\n",
    "    @ColorStream(fore=Fore.dark_orange)\n",
    "    def foo():\n",
    "        print('FOO')\n",
    "```"
   ]
  },
  {
   "cell_type": "code",
   "execution_count": null,
   "metadata": {},
   "outputs": [],
   "source": [
    "#| output: false\n",
    "with ColorStream(fore=Fore.dark_violet, autoreset=False):\n",
    "    print('autoreset off, affect next text')\n",
    "    with ColorStream(back=Back.light_green, style=(Style.underline, Style.bold)):\n",
    "        print('add background, underline, bold and autoreset')\n",
    "        with ColorStream(fore='red'):\n",
    "            print('Due to autoreset above, It only have red color')\n",
    "print('Already leave context, show default color')"
   ]
  },
  {
   "cell_type": "markdown",
   "metadata": {},
   "source": [
    "![](images/index-5.png)"
   ]
  },
  {
   "cell_type": "code",
   "execution_count": null,
   "metadata": {},
   "outputs": [],
   "source": [
    "#| output: false\n",
    "@ColorStream(fore=Fore.dark_cyan)\n",
    "def foo():\n",
    "    print('dark_cyan')\n",
    "    print('colortextpy')\n",
    "\n",
    "foo()"
   ]
  },
  {
   "cell_type": "markdown",
   "metadata": {},
   "source": [
    "![](images/index-6.png)"
   ]
  },
  {
   "cell_type": "markdown",
   "metadata": {},
   "source": [
    "### `colorize`"
   ]
  },
  {
   "cell_type": "markdown",
   "metadata": {},
   "source": [
    "you can add color tag. Start with \\<tag> end with \\</tag>.\n",
    "\n",
    "Some usage:"
   ]
  },
  {
   "cell_type": "code",
   "execution_count": null,
   "metadata": {},
   "outputs": [],
   "source": [
    "#| output: false\n",
    "text = 'something'\n",
    "text_w_tag = f'{text}-<fg red><bg #f0ffff>{text}</fg></bg>-{text}'\n",
    "print(colorize(text_w_tag))"
   ]
  },
  {
   "cell_type": "markdown",
   "metadata": {},
   "source": [
    "![](images/index-7.png)"
   ]
  },
  {
   "cell_type": "markdown",
   "metadata": {},
   "source": [
    "And some other \\<tag> complex uasge:"
   ]
  },
  {
   "cell_type": "code",
   "execution_count": null,
   "metadata": {},
   "outputs": [],
   "source": [
    "#| code-fold: true\n",
    "#| output: false\n",
    "test_strings = ('one', 'two', 'three', 'four', 'five')\n",
    "test_templates = [\n",
    "    '{0}',\n",
    "    '<blue>{0}</fg>',\n",
    "    '<red>{0}</red>--<bg green>{1}</bg green>',\n",
    "    '{0}--<red>{1}</red>--<fg red><bg green>{2}</bg>--{3}</fg>',\n",
    "    '{0}--<50>{1}</fg>--<fg 155><bg 78>{2}</bg></fg>',\n",
    "    '<bold>{0}--<fg 180, 46, 78>{1}</fg></bold>--<bg 152, 167, 52>{2}</bg>',\n",
    "    '<underline>{0}--<180, 46, 78>{1}</fg>--<bold>{1}--<bg 152, 167, 52>{2}</underline>--{3}</bold>--{4}</bg>',\n",
    "    '<bg #59FFAE>{0}--<#AAAA00>{1}--</bg>{2}</fg>--{3}',\n",
    "]\n",
    "\n",
    "for template in test_templates:\n",
    "    print(colorize(template.format(*test_strings)))"
   ]
  },
  {
   "cell_type": "markdown",
   "metadata": {},
   "source": [
    "![](images/index-8.png)"
   ]
  },
  {
   "cell_type": "markdown",
   "metadata": {},
   "source": [
    "`colorize` also integrates with `AnsiColor`:"
   ]
  },
  {
   "cell_type": "code",
   "execution_count": null,
   "metadata": {},
   "outputs": [],
   "source": [
    "#| output: false\n",
    "print(colorize('something1', fore=5, back='#ffeeaa', style='bold'))\n",
    "print(colorize('something2', fore='r', back='y', style='underline'))"
   ]
  },
  {
   "cell_type": "markdown",
   "metadata": {},
   "source": [
    "![](images/index-9.png)"
   ]
  },
  {
   "cell_type": "markdown",
   "metadata": {},
   "source": [
    "### `Color`"
   ]
  },
  {
   "cell_type": "markdown",
   "metadata": {},
   "source": [
    "Some Constant of color with **hex**, **rgb**, **bgr** format"
   ]
  },
  {
   "cell_type": "code",
   "execution_count": null,
   "metadata": {},
   "outputs": [
    {
     "data": {
      "text/plain": [
       "('red', '#ff0000', (255, 0, 0), <Color.red>)"
      ]
     },
     "execution_count": null,
     "metadata": {},
     "output_type": "execute_result"
    }
   ],
   "source": [
    "Color.red.name, Color.red.hex, Color.red.rgb, Color['red']"
   ]
  },
  {
   "cell_type": "markdown",
   "metadata": {},
   "source": [
    "You could also pass the hex constant from `Color` into `matplotlib.pyplot`:"
   ]
  },
  {
   "cell_type": "code",
   "execution_count": null,
   "metadata": {},
   "outputs": [
    {
     "data": {
      "text/plain": [
       "[<matplotlib.lines.Line2D>]"
      ]
     },
     "execution_count": null,
     "metadata": {},
     "output_type": "execute_result"
    },
    {
     "data": {
      "image/png": "[encoded data removed]",
      "text/plain": [
       "<Figure size 900x600 with 1 Axes>"
      ]
     },
     "metadata": {},
     "output_type": "display_data"
    }
   ],
   "source": [
    "plt.plot(np.sin(np.linspace(-4, 4, 50)), color=Color.red.hex)"
   ]
  },
  {
   "cell_type": "markdown",
   "metadata": {},
   "source": [
    "Here are other colors in `Color.available` : \n",
    "\n",
    "![](images/index-10.png)"
   ]
  },
  {
   "cell_type": "code",
   "execution_count": null,
   "metadata": {},
   "outputs": [],
   "source": []
  }
 ],
 "metadata": {
  "kernelspec": {
   "display_name": "python3",
   "language": "python",
   "name": "python3"
  }
 },
 "nbformat": 4,
 "nbformat_minor": 4
}
