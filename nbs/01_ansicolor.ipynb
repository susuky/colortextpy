{
 "cells": [
  {
   "cell_type": "markdown",
   "id": "185aa9d1",
   "metadata": {},
   "source": [
    "# ansicolor\n",
    "\n",
    "> Store color with ansi escape code"
   ]
  },
  {
   "cell_type": "markdown",
   "id": "64a0a5de",
   "metadata": {},
   "source": [
    "- Fore: foreground\n",
    "- Back: background\n",
    "- Style: font style\n",
    "\n",
    "Basic usage:\n",
    "```python\n",
    "Fore['red'], Fore.blue\n",
    "Back['yellow'], Back.black\n",
    "Style['bold'], Style.underline\n",
    "```\n",
    "\n",
    "\n",
    "`Fore` and `Back` also suport __rgb__ and __hex__ format:\n",
    "```python\n",
    "Fore['123, 242, 5'], Fore['(123, 242, 5)'], Fore['#ffffff']\n",
    "Back['123, 242, 5'], Back['(123, 242, 5)'], Back['#ffffff']\n",
    "```"
   ]
  },
  {
   "cell_type": "code",
   "execution_count": null,
   "id": "de30db01",
   "metadata": {},
   "outputs": [],
   "source": [
    "#| default_exp ansicolor"
   ]
  },
  {
   "cell_type": "code",
   "execution_count": null,
   "id": "5a97ca7b",
   "metadata": {},
   "outputs": [],
   "source": [
    "#| hide\n",
    "import warnings\n",
    "warnings.filterwarnings('ignore')\n",
    "\n",
    "from nbdev.showdoc import *\n",
    "from fastcore.utils import *"
   ]
  },
  {
   "cell_type": "code",
   "execution_count": null,
   "id": "ef1a8e7e",
   "metadata": {},
   "outputs": [],
   "source": [
    "#| export\n",
    "import re\n",
    "\n",
    "from colortextpy.color import enum, _EnumMeta, Color, hex2rgb\n",
    "from colortextpy.color import _ClassPropertyDescriptor\n",
    "\n",
    "\n",
    "class _Style(_EnumMeta):\n",
    "    reset_all =        (enum.auto(), '00', True)\n",
    "    end =              (enum.auto(), '00', True)\n",
    "    bold =             (enum.auto(), '01', True)\n",
    "    no_bold =          (enum.auto(), '21', True)\n",
    "    dim =              (enum.auto(), '02', False) # Not widely supported.\n",
    "    faint =            (enum.auto(), '02', False) # Not widely supported.\n",
    "    normal_intensity = (enum.auto(), '22', False)\n",
    "    italic =           (enum.auto(), '03', False) # Not widely supported.\n",
    "    no_italic =        (enum.auto(), '23', False)\n",
    "    underline =        (enum.auto(), '04', True)\n",
    "    no_underline =     (enum.auto(), '24', True)\n",
    "    blink =            (enum.auto(), '05', True)\n",
    "    no_blink =         (enum.auto(), '25', True)\n",
    "    slow_blink =       (enum.auto(), '05', False)\n",
    "    rapid_blink =      (enum.auto(), '06', False) # # Not widely supported.\n",
    "    invert =           (enum.auto(), '07', True)\n",
    "    no_invert =        (enum.auto(), '27', True)\n",
    "    hidden =           (enum.auto(), '08', False) # Not widely supported.\n",
    "    no_hidden =        (enum.auto(), '28', False)\n",
    "    cross_out =        (enum.auto(), '09', False) # Not widely supported.\n",
    "    strike =           (enum.auto(), '09', False) # Not widely supported.\n",
    "    no_strike =        (enum.auto(), '29', False)\n",
    "    \n",
    "    def __init__(self, value, n, widely):\n",
    "        self._value_ = value\n",
    "        self._n = n\n",
    "        self._widely = widely\n",
    "        \n",
    "    @property\n",
    "    def n(self):\n",
    "        return self._n\n",
    "    \n",
    "    @property\n",
    "    def widely(self):\n",
    "        return self._widely\n",
    "    \n",
    "    @_ClassPropertyDescriptor\n",
    "    @classmethod\n",
    "    def available(cls):\n",
    "        return tuple(c.name for c in cls if c.widely)\n",
    "    \n",
    "\n",
    "class _AnsiColor:\n",
    "    templates = dict(\n",
    "        style = '\\033[{0}m',\n",
    "        fore = '\\033[38;2;{0};{1};{2}m',\n",
    "        back = '\\033[48;2;{0};{1};{2}m',       \n",
    "    )    \n",
    "    \n",
    "    def __init__(self, name='fore'):\n",
    "        '''\n",
    "        name: style, fore, back\n",
    "        '''\n",
    "        if name not in ('fore', 'back', 'style'):\n",
    "            raise ValueError(f'Does not support {name}')\n",
    "            \n",
    "        self.name = name\n",
    "        self._template = self.get_template(name=name)\n",
    "        \n",
    "        if name in ('fore', 'back'):\n",
    "            for c in Color.available:\n",
    "                setattr(self, c, self.rgb2ansi(Color[c].rgb))\n",
    "                \n",
    "            reset = '39' if name == 'fore' else '49'\n",
    "            self.reset = f'\\033[{reset}m'\n",
    "            self.reset_all = '\\033[00m'\n",
    "            self.available = Color.available\n",
    "        else:\n",
    "            for c in _Style:\n",
    "                if c.widely:\n",
    "                #if 1:\n",
    "                    setattr(self, c.name, self._template.format(c.n))\n",
    "            self.available = _Style.available\n",
    "            \n",
    "    def __repr__(self):\n",
    "        return f'<AnsiColor: \\'{self.name.upper()}\\'>'\n",
    "    \n",
    "    def __getitem__(self, name):\n",
    "        return getattr(self, f'{name}', '') if name is not None else ''\n",
    "    \n",
    "    def __getattr__(self, name):\n",
    "        return self.get_ansi(name)\n",
    "    \n",
    "    def __call__(self, name):\n",
    "        if isinstance(name, (tuple, int)):\n",
    "            name = f'{name}'\n",
    "        return self[name]\n",
    "    \n",
    "    def __contains__(self, item):\n",
    "        return item in self.available\n",
    "\n",
    "    def get_ansi(self, color: str) -> str:\n",
    "        if self.name in ('back', 'style'):\n",
    "            color = color.lower()\n",
    "        if color in self: return self.__dict__[color]\n",
    "        elif self.name in ('fore', 'back'):\n",
    "            # 8-bits\n",
    "            if color.isdigit() and int(color) <= 255:\n",
    "                code = 38 if self.name == 'fore' else '48'\n",
    "                return self.get_8bit_ansi(code, color)\n",
    "\n",
    "            # HEX 24-bits\n",
    "            elif re.match(r'#(?:[a-f0-9]{3}){1,2}$', color):\n",
    "                return self.hex2ansi(color)\n",
    "\n",
    "            # 24-bits\n",
    "            elif color.count(',') == 2:\n",
    "                try:\n",
    "                    color = eval(color)\n",
    "                except:\n",
    "                    return ''\n",
    "                if all(int(x) <= 255 for x in color):\n",
    "                    return self.rgb2ansi(color)\n",
    "        return ''\n",
    "    \n",
    "    def get_8bit_ansi(self, code, color) -> str:\n",
    "        return f'\\033[{code};5;{color}m'\n",
    "    \n",
    "    def rgb2ansi(self, rgb: tuple) -> str:\n",
    "        return self._template.format(*rgb)\n",
    "    \n",
    "    def hex2ansi(self, h: str) -> str:\n",
    "        return self.rgb2ansi(hex2rgb(h))\n",
    "    \n",
    "    def get_template(self, name='style'):\n",
    "        '''\n",
    "        name: style, fore, back\n",
    "        '''\n",
    "        return self.templates[name]\n",
    "    \n",
    "    \n",
    "Fore = _AnsiColor('fore')\n",
    "Back = _AnsiColor('back')\n",
    "Style = _AnsiColor('style')\n",
    "RESET_ALL = '\\033[00m'\n",
    "\n",
    "class AnsiColor:\n",
    "    r'''\n",
    "    Integrate with `Fore`, `Back`, `Style`.\n",
    "    \n",
    "    Parameters\n",
    "    ----------\n",
    "    fore : `Fore`, str, int, optional\n",
    "        Foreground color. Could be hex, rgb string or tuple, `Fore`, 8-bits color\n",
    "        \n",
    "    back : `Back`, str, rgb, int, optional\n",
    "        Background color, Could be hex, rgb string or tuple, `Back`, 8-bits color\n",
    "        \n",
    "    style : `Style`, str, tuple, optional\n",
    "        Text style. Seee `Style.available`.\n",
    "        \n",
    "    Examples\n",
    "    --------\n",
    "    >>> AnsiColor(fore='#ccccff', back=Back['red'], style='bold').ansi_fmt\n",
    "    >>> '\\x1b[38;2;204;204;255m\\x1b[48;2;255;0;0m\\x1b[01m'\n",
    "    \n",
    "    >>> AnsiColor(fore=Fore.blue, back=Back['(2, 2, 2)'], style='bold').ansi_fmt\n",
    "    >>> '\\x1b[38;2;0;0;255m\\x1b[48;2;2;2;2m\\x1b[01m'\n",
    "    \n",
    "    >>> ansi = AnsiColor(fore=Fore['0, 0, 0'], back=(2, 2, 2), style=('bold', 'underline'))\n",
    "    >>> ansi.fore, ansi.back, ansi.style\n",
    "    >>> ('\\x1b[38;2;0;0;0m', '\\x1b[48;2;2;2;2m', '\\x1b[01m\\x1b[04m')\n",
    "    \n",
    "    8-bits color:\n",
    "    >>> ansi = AnsiColor(fore='108', back=177)\n",
    "    >>> ansi.fore, ansi.back    \n",
    "    >>> ('\\x1b[38;5;108m', '\\x1b[48;5;177m')\n",
    "    '''\n",
    "    \n",
    "    def __init__(\n",
    "        self, \n",
    "        fore: str = None, \n",
    "        back: str = None, \n",
    "        style: str = None\n",
    "    ):\n",
    "        self.fore = self.set_color(fore, Fore)\n",
    "        self.back = self.set_color(back, Back)\n",
    "        self.style = (\n",
    "            ''.join(self.set_color(s, Style) for s in style) \n",
    "            if isinstance(style, (tuple, list)) else \n",
    "            self.set_color(style, Style)\n",
    "        )\n",
    "        self.ansi_fmt = f'{self.fore}{self.back}{self.style}'\n",
    "        \n",
    "    def set_color(self, color, Color):\n",
    "        color = f'{color}'\n",
    "        if color is None: return ''\n",
    "        elif '[' in color: return color\n",
    "        else: return Color[color]"
   ]
  },
  {
   "cell_type": "code",
   "execution_count": null,
   "id": "7b52f612",
   "metadata": {},
   "outputs": [],
   "source": []
  },
  {
   "cell_type": "code",
   "execution_count": null,
   "id": "cbfdadc0",
   "metadata": {},
   "outputs": [
    {
     "data": {
      "text/markdown": [
       "---\n",
       "\n",
       "[source](https://github.com/susuky/colortextpy/blob/main/colortextpy/ansicolor.py#L56){target=\"_blank\" style=\"float:right; font-size:smaller\"}\n",
       "\n",
       "### _AnsiColor\n",
       "\n",
       ">      _AnsiColor (name='fore')\n",
       "\n",
       "name: style, fore, back"
      ],
      "text/plain": [
       "---\n",
       "\n",
       "[source](https://github.com/susuky/colortextpy/blob/main/colortextpy/ansicolor.py#L56){target=\"_blank\" style=\"float:right; font-size:smaller\"}\n",
       "\n",
       "### _AnsiColor\n",
       "\n",
       ">      _AnsiColor (name='fore')\n",
       "\n",
       "name: style, fore, back"
      ]
     },
     "execution_count": null,
     "metadata": {},
     "output_type": "execute_result"
    }
   ],
   "source": [
    "show_doc(_AnsiColor)"
   ]
  },
  {
   "cell_type": "markdown",
   "id": "62b5eed8",
   "metadata": {},
   "source": [
    "You could use `Fore`, `Back` and `Style` to get the text foreground, background and style ansi escape code. If the input is not accepted, they would return empty string `''`\n",
    "\n",
    "Some ansi escape code example:"
   ]
  },
  {
   "cell_type": "code",
   "execution_count": null,
   "id": "4a324bb8",
   "metadata": {},
   "outputs": [
    {
     "data": {
      "text/plain": [
       "('\\x1b[38;2;240;248;255m', '\\x1b[48;2;0;0;255m', '\\x1b[01m')"
      ]
     },
     "execution_count": null,
     "metadata": {},
     "output_type": "execute_result"
    }
   ],
   "source": [
    "Fore.aliceblue, Back.blue, Style.bold"
   ]
  },
  {
   "cell_type": "markdown",
   "id": "53b2c76c",
   "metadata": {},
   "source": [
    "Only `Back` and `Style` support uppercase."
   ]
  },
  {
   "cell_type": "code",
   "execution_count": null,
   "id": "f36bbb21",
   "metadata": {},
   "outputs": [
    {
     "data": {
      "text/plain": [
       "('', '\\x1b[48;2;0;0;0m', '\\x1b[01m')"
      ]
     },
     "execution_count": null,
     "metadata": {},
     "output_type": "execute_result"
    }
   ],
   "source": [
    "Fore.BLACK, Back.BLACK, Style['BOLD']"
   ]
  },
  {
   "cell_type": "code",
   "execution_count": null,
   "id": "86bbb0ec",
   "metadata": {},
   "outputs": [
    {
     "data": {
      "text/markdown": [
       "---\n",
       "\n",
       "### Fore\n",
       "\n"
      ],
      "text/plain": [
       "---\n",
       "\n",
       "### Fore\n"
      ]
     },
     "execution_count": null,
     "metadata": {},
     "output_type": "execute_result"
    }
   ],
   "source": [
    "show_doc(Fore, name='Fore')"
   ]
  },
  {
   "cell_type": "markdown",
   "id": "5d3ddc9b",
   "metadata": {},
   "source": [
    "Basic usage:"
   ]
  },
  {
   "cell_type": "code",
   "execution_count": null,
   "id": "298b5259",
   "metadata": {},
   "outputs": [
    {
     "data": {
      "text/plain": [
       "('\\x1b[38;2;255;0;0m', '\\x1b[38;2;0;0;255m')"
      ]
     },
     "execution_count": null,
     "metadata": {},
     "output_type": "execute_result"
    }
   ],
   "source": [
    "Fore['red'], Fore.blue"
   ]
  },
  {
   "cell_type": "markdown",
   "id": "442ecb84",
   "metadata": {},
   "source": [
    "Other available colors are in `Fore.available`: "
   ]
  },
  {
   "cell_type": "code",
   "execution_count": null,
   "id": "dc28213d",
   "metadata": {},
   "outputs": [],
   "source": [
    "#| output: false\n",
    "#| code-fold: true\n",
    "\n",
    "def _get_background(color):\n",
    "    background = (\n",
    "        Back['75, 70, 75'] \n",
    "        if sum(Color[color].rgb) / 3 > 165 else \n",
    "        Back['240, 250, 250']\n",
    "    )\n",
    "    return background\n",
    "\n",
    "\n",
    "for i, c in enumerate(Fore.available):\n",
    "    background = _get_background(c)\n",
    "    print(background, end='')\n",
    "    end = '\\n' if (i+1) % 4 == 0 else '\\t'\n",
    "    print(f'{Fore[c]}{c:21s}{Fore.reset}', end=end)\n",
    "print(Back.reset_all)"
   ]
  },
  {
   "cell_type": "markdown",
   "id": "9ade9cba",
   "metadata": {},
   "source": [
    "![](images/ansicolor-0.png)"
   ]
  },
  {
   "cell_type": "markdown",
   "id": "b4d4ab2a",
   "metadata": {},
   "source": [
    "`Fore` also support __rgb__ and __hex__ format:"
   ]
  },
  {
   "cell_type": "code",
   "execution_count": null,
   "id": "405eeef9",
   "metadata": {},
   "outputs": [
    {
     "data": {
      "text/plain": [
       "('\\x1b[38;2;1;2;3m', '\\x1b[38;2;255;255;255m', '\\x1b[38;2;111;222;55m')"
      ]
     },
     "execution_count": null,
     "metadata": {},
     "output_type": "execute_result"
    }
   ],
   "source": [
    "Fore['(1, 2, 3)'], Fore['#ffffff'], Fore((111, 222, 55))"
   ]
  },
  {
   "cell_type": "code",
   "execution_count": null,
   "id": "ebd8acd2",
   "metadata": {},
   "outputs": [
    {
     "name": "stdout",
     "output_type": "stream",
     "text": [
      "\u001b[38;2;55;244;56mForeground: rgb(55, 244, 56)\u001b[39m\n",
      "\u001b[38;2;0;80;0mForeground: #005000\u001b[39m\n"
     ]
    }
   ],
   "source": [
    "#| output: false\n",
    "print(Fore['55, 244, 56'] + 'Foreground: rgb(55, 244, 56)' + Fore.reset)\n",
    "print(Fore['#005000'] + 'Foreground: #005000' + Fore.reset)"
   ]
  },
  {
   "cell_type": "markdown",
   "id": "56f7c41b",
   "metadata": {},
   "source": [
    "![](images/ansicolor-1.png)"
   ]
  },
  {
   "cell_type": "code",
   "execution_count": null,
   "id": "5d83219e",
   "metadata": {},
   "outputs": [
    {
     "data": {
      "text/markdown": [
       "---\n",
       "\n",
       "### Back\n",
       "\n"
      ],
      "text/plain": [
       "---\n",
       "\n",
       "### Back\n"
      ]
     },
     "execution_count": null,
     "metadata": {},
     "output_type": "execute_result"
    }
   ],
   "source": [
    "show_doc(Fore, name='Back')"
   ]
  },
  {
   "cell_type": "markdown",
   "id": "64a6ceee",
   "metadata": {},
   "source": [
    "Basic usage:"
   ]
  },
  {
   "cell_type": "code",
   "execution_count": null,
   "id": "58902e13",
   "metadata": {},
   "outputs": [
    {
     "data": {
      "text/plain": [
       "('\\x1b[48;2;255;0;0m', '\\x1b[48;2;0;0;255m')"
      ]
     },
     "execution_count": null,
     "metadata": {},
     "output_type": "execute_result"
    }
   ],
   "source": [
    "Back['red'], Back.blue"
   ]
  },
  {
   "cell_type": "markdown",
   "id": "adc86bdc",
   "metadata": {},
   "source": [
    "Other available colors are in `Back.available`: "
   ]
  },
  {
   "cell_type": "code",
   "execution_count": null,
   "id": "0f3dfaf4",
   "metadata": {},
   "outputs": [],
   "source": [
    "#| output: false\n",
    "#| code-fold: true\n",
    "\n",
    "def _get_foreground(color):\n",
    "    foreground = (\n",
    "        Fore['5, 7, 7'] \n",
    "        if sum(Color[color].rgb) / 3 > 160 else \n",
    "        Fore['255, 250, 250']\n",
    "    )\n",
    "    return foreground\n",
    "\n",
    "for i, c in enumerate(Back.available):\n",
    "    foreground = _get_foreground(c)\n",
    "    print(foreground, end='')\n",
    "    end = '\\n' if (i+1) % 4 == 0 else '\\t'\n",
    "    print(f'{Back[c]}{c:21s}{Back.reset}', end=end)\n",
    "print(Fore.reset)"
   ]
  },
  {
   "cell_type": "markdown",
   "id": "613358c1",
   "metadata": {},
   "source": [
    "![](images/ansicolor-2.png)"
   ]
  },
  {
   "cell_type": "markdown",
   "id": "a1e86d2e",
   "metadata": {},
   "source": [
    "`Back` also support __rgb__ and __hex__ format:"
   ]
  },
  {
   "cell_type": "code",
   "execution_count": null,
   "id": "67bbf4f5",
   "metadata": {},
   "outputs": [
    {
     "data": {
      "text/plain": [
       "('\\x1b[48;2;1;2;3m', '\\x1b[48;2;255;255;255m', '\\x1b[48;2;111;222;55m')"
      ]
     },
     "execution_count": null,
     "metadata": {},
     "output_type": "execute_result"
    }
   ],
   "source": [
    "Back['(1, 2, 3)'], Back['#ffffff'], Back((111, 222, 55))"
   ]
  },
  {
   "cell_type": "code",
   "execution_count": null,
   "id": "3a1f92eb",
   "metadata": {},
   "outputs": [],
   "source": [
    "#| output: false\n",
    "print(Back['55, 244, 56'] + 'Background: rgb(55, 244, 56)' + Fore.reset)\n",
    "print(Back['#ff5000'] + 'Background: #ff5000' + Fore.reset)"
   ]
  },
  {
   "cell_type": "markdown",
   "id": "ddd6efec",
   "metadata": {},
   "source": [
    "![](images/ansicolor-3.png)"
   ]
  },
  {
   "cell_type": "markdown",
   "id": "f1dbe026",
   "metadata": {},
   "source": [
    "`Fore` and `Back` also support 8-bits color:"
   ]
  },
  {
   "cell_type": "code",
   "execution_count": null,
   "id": "b4e36cf7",
   "metadata": {},
   "outputs": [],
   "source": [
    "#| output: false\n",
    "#| code-fold: true\n",
    "for i in range(256):\n",
    "    end = '\\n' if (i+1)%8 == 0 else ' '*2\n",
    "    print(f'{i:3}: {Back[i]}          {Back.reset}', end=end)"
   ]
  },
  {
   "cell_type": "markdown",
   "id": "1113ce5d",
   "metadata": {},
   "source": [
    "![](images/ansicolor-4.png)"
   ]
  },
  {
   "cell_type": "code",
   "execution_count": null,
   "id": "970e53f3",
   "metadata": {},
   "outputs": [
    {
     "data": {
      "text/markdown": [
       "---\n",
       "\n",
       "### Style\n",
       "\n"
      ],
      "text/plain": [
       "---\n",
       "\n",
       "### Style\n"
      ]
     },
     "execution_count": null,
     "metadata": {},
     "output_type": "execute_result"
    }
   ],
   "source": [
    "show_doc(Style, name='Style')"
   ]
  },
  {
   "cell_type": "markdown",
   "id": "ad526e82",
   "metadata": {},
   "source": [
    "Basic usage:"
   ]
  },
  {
   "cell_type": "code",
   "execution_count": null,
   "id": "f04610f7",
   "metadata": {},
   "outputs": [
    {
     "data": {
      "text/plain": [
       "('\\x1b[01m', '\\x1b[04m')"
      ]
     },
     "execution_count": null,
     "metadata": {},
     "output_type": "execute_result"
    }
   ],
   "source": [
    "Style['bold'], Style.underline"
   ]
  },
  {
   "cell_type": "markdown",
   "id": "b5e4e286",
   "metadata": {},
   "source": [
    "Only list the commonly used styles"
   ]
  },
  {
   "cell_type": "code",
   "execution_count": null,
   "id": "98f98495",
   "metadata": {},
   "outputs": [],
   "source": [
    "#| hide\n",
    "for i, c in enumerate(('reset_all', 'end', 'bold', 'no_bold', 'underline', 'no_underline', 'blink', 'no_blink', 'invert', 'no_invert')):\n",
    "    print(f'{Style[c]}{c}{Style.end}', end=' | ')\n",
    "print(end='\\n\\n')"
   ]
  },
  {
   "cell_type": "markdown",
   "id": "22a04d67",
   "metadata": {},
   "source": [
    "![](images/ansicolor-5.png)"
   ]
  },
  {
   "cell_type": "markdown",
   "id": "4ac7a8a2",
   "metadata": {},
   "source": [
    "\"reset_all\" and \"end\" would reset all the ansi escape code function"
   ]
  },
  {
   "cell_type": "code",
   "execution_count": null,
   "id": "40f07dc1",
   "metadata": {},
   "outputs": [
    {
     "data": {
      "text/markdown": [
       "---\n",
       "\n",
       "[source](https://github.com/susuky/colortextpy/blob/main/colortextpy/ansicolor.py#L150){target=\"_blank\" style=\"float:right; font-size:smaller\"}\n",
       "\n",
       "### AnsiColor\n",
       "\n",
       ">      AnsiColor (fore:str=None, back:str=None, style:str=None)\n",
       "\n",
       "Integrate with `Fore`, `Back`, `Style`.\n",
       "\n",
       "|    | **Type** | **Default** | **Details** |\n",
       "| -- | -------- | ----------- | ----------- |\n",
       "| fore | str | None | Foreground color. Could be hex, rgb string or tuple, `Fore`, 8-bits color |\n",
       "| back | str | None | Background color, Could be hex, rgb string or tuple, `Back`, 8-bits color |\n",
       "| style | str | None | Text style. Seee `Style.available`. |"
      ],
      "text/plain": [
       "---\n",
       "\n",
       "[source](https://github.com/susuky/colortextpy/blob/main/colortextpy/ansicolor.py#L150){target=\"_blank\" style=\"float:right; font-size:smaller\"}\n",
       "\n",
       "### AnsiColor\n",
       "\n",
       ">      AnsiColor (fore:str=None, back:str=None, style:str=None)\n",
       "\n",
       "Integrate with `Fore`, `Back`, `Style`.\n",
       "\n",
       "|    | **Type** | **Default** | **Details** |\n",
       "| -- | -------- | ----------- | ----------- |\n",
       "| fore | str | None | Foreground color. Could be hex, rgb string or tuple, `Fore`, 8-bits color |\n",
       "| back | str | None | Background color, Could be hex, rgb string or tuple, `Back`, 8-bits color |\n",
       "| style | str | None | Text style. Seee `Style.available`. |"
      ]
     },
     "execution_count": null,
     "metadata": {},
     "output_type": "execute_result"
    }
   ],
   "source": [
    "show_doc(AnsiColor)"
   ]
  },
  {
   "cell_type": "markdown",
   "id": "07bca4fc",
   "metadata": {},
   "source": [
    "Basic usage:"
   ]
  },
  {
   "cell_type": "code",
   "execution_count": null,
   "id": "acbaca3b",
   "metadata": {},
   "outputs": [],
   "source": [
    "# #| output: false\n",
    "ansi_fmt = AnsiColor(fore='#ccccff', back=Back['red'], style='bold').ansi_fmt\n",
    "print(repr(ansi_fmt))\n",
    "print(ansi_fmt + 'something123')"
   ]
  },
  {
   "cell_type": "markdown",
   "id": "5f356c59",
   "metadata": {},
   "source": [
    "![](images/ansicolor-6.png)"
   ]
  },
  {
   "cell_type": "code",
   "execution_count": null,
   "id": "c63ab5e3",
   "metadata": {},
   "outputs": [],
   "source": [
    "# #| output: false\n",
    "ansi_fmt = AnsiColor(fore=Fore.antiquewhite, back=Back['(2, 2, 2)'], style='bold').ansi_fmt\n",
    "print(repr(ansi_fmt))\n",
    "print(ansi_fmt + 'something123')"
   ]
  },
  {
   "cell_type": "markdown",
   "id": "05a7d736",
   "metadata": {},
   "source": [
    "![](images/ansicolor-7.png)"
   ]
  },
  {
   "cell_type": "code",
   "execution_count": null,
   "id": "9e8cb181",
   "metadata": {},
   "outputs": [
    {
     "data": {
      "text/plain": [
       "('\\x1b[38;2;56;12;34m', '\\x1b[48;2;78;90;120m', '\\x1b[01m\\x1b[04m')"
      ]
     },
     "execution_count": null,
     "metadata": {},
     "output_type": "execute_result"
    }
   ],
   "source": [
    "ansi = AnsiColor(fore=Fore['56, 12, 34'], back=(78, 90, 120), style=('bold', 'underline'))\n",
    "ansi.fore, ansi.back, ansi.style"
   ]
  },
  {
   "cell_type": "code",
   "execution_count": null,
   "id": "90d88f65",
   "metadata": {},
   "outputs": [
    {
     "data": {
      "text/plain": [
       "('\\x1b[38;5;108m', '\\x1b[48;5;177m')"
      ]
     },
     "execution_count": null,
     "metadata": {},
     "output_type": "execute_result"
    }
   ],
   "source": [
    "ansi = AnsiColor(fore='108', back=177)\n",
    "ansi.fore, ansi.back"
   ]
  },
  {
   "cell_type": "code",
   "execution_count": null,
   "id": "d4cef74a",
   "metadata": {},
   "outputs": [],
   "source": [
    "#| hide\n",
    "import nbdev; nbdev.nbdev_export()"
   ]
  },
  {
   "cell_type": "code",
   "execution_count": null,
   "id": "5a90979d",
   "metadata": {},
   "outputs": [],
   "source": []
  },
  {
   "cell_type": "code",
   "execution_count": null,
   "id": "5930eaed",
   "metadata": {},
   "outputs": [],
   "source": []
  }
 ],
 "metadata": {
  "kernelspec": {
   "display_name": "python3",
   "language": "python",
   "name": "python3"
  }
 },
 "nbformat": 4,
 "nbformat_minor": 5
}
