{
 "cells": [
  {
   "cell_type": "markdown",
   "id": "9c223add",
   "metadata": {},
   "source": [
    "# ansicolor\n",
    "\n",
    "> Store color with ansi escape code\n",
    "- Fore: foreground\n",
    "- Back: background\n",
    "- style: font style"
   ]
  },
  {
   "cell_type": "code",
   "execution_count": null,
   "id": "7bb3a97a",
   "metadata": {},
   "outputs": [],
   "source": [
    "#| default_exp ansicolor"
   ]
  },
  {
   "cell_type": "code",
   "execution_count": null,
   "id": "0a176348",
   "metadata": {},
   "outputs": [],
   "source": [
    "#| hide\n",
    "from nbdev.showdoc import *\n",
    "from fastcore.utils import *"
   ]
  },
  {
   "cell_type": "code",
   "execution_count": null,
   "id": "55ac5dda",
   "metadata": {},
   "outputs": [],
   "source": [
    "#| export\n",
    "from colortextpy.color import enum, _EnumMeta, Color\n",
    "\n",
    "\n",
    "class _Style(_EnumMeta):\n",
    "    reset_all =        (enum.auto(), '00', True)\n",
    "    end =              (enum.auto(), '00', True)\n",
    "    bold =             (enum.auto(), '01', True)\n",
    "    dim =              (enum.auto(), '02', False) # Not widely supported.\n",
    "    faint =            (enum.auto(), '02', False) # Not widely supported.\n",
    "    normal_intensity = (enum.auto(), '22', True)\n",
    "    italic =           (enum.auto(), '03', False) # Not widely supported.\n",
    "    no_italic =        (enum.auto(), '23', True)\n",
    "    underline =        (enum.auto(), '04', True)\n",
    "    no_underline =     (enum.auto(), '24', True)\n",
    "    blink =            (enum.auto(), '05', True)\n",
    "    slow_blink =       (enum.auto(), '05', True)\n",
    "    rapid_blink =      (enum.auto(), '06', False) # # Not widely supported.\n",
    "    no_blink =         (enum.auto(), '25', True)\n",
    "    invert =           (enum.auto(), '07', True)\n",
    "    no_invert =        (enum.auto(), '27', True)\n",
    "    hidden =           (enum.auto(), '08', False) # Not widely supported.\n",
    "    no_hidden =        (enum.auto(), '28', False)\n",
    "    cross_out =        (enum.auto(), '09', False) # Not widely supported.\n",
    "    strike =           (enum.auto(), '09', False) # Not widely supported.\n",
    "    no_strike =        (enum.auto(), '29', False)\n",
    "    \n",
    "    def __init__(self, value, n, widely):\n",
    "        self._value_ = value\n",
    "        self._n = n\n",
    "        self._widely = widely\n",
    "        \n",
    "    @property\n",
    "    def n(self):\n",
    "        return self._n\n",
    "    \n",
    "    @property\n",
    "    def widely(self):\n",
    "        return self._widely\n",
    "    \n",
    "    @classmethod\n",
    "    @property\n",
    "    def available(cls):\n",
    "        return tuple(c.name for c in cls if c.widely)\n",
    "    \n",
    "class _AnsiColor:\n",
    "    templates = dict(\n",
    "        style = '\\033[{0}m',\n",
    "        fore = '\\033[38;2;{0};{1};{2}m',\n",
    "        back = '\\033[48;2;{0};{1};{2}m',       \n",
    "    )    \n",
    "    \n",
    "    def __init__(self, name='fore'):\n",
    "        '''\n",
    "        name: style, fore, back\n",
    "        '''        \n",
    "        self.name = name\n",
    "        template = self.get_template(name=name)\n",
    "        \n",
    "        if name in ('fore', 'back'):\n",
    "            for c in Color.available:\n",
    "                setattr(self, c, template.format(*Color[c].rgb))\n",
    "                \n",
    "            reset = '39' if name == 'fore' else '49'\n",
    "            self.reset = f'\\033[{reset}m'\n",
    "            self.reset_all = '\\033[00m'\n",
    "            self.available = Color.available\n",
    "        else:\n",
    "            for c in _Style:\n",
    "                #if c.widely:\n",
    "                if 1:\n",
    "                    setattr(self, c.name, template.format(c.n))\n",
    "            self.available = _Style.available\n",
    "            \n",
    "    def __repr__(self):\n",
    "        return f'<AnsiColor: \\'{self.name.upper()}\\'>'\n",
    "    \n",
    "    def __getitem__(self, name):\n",
    "        return getattr(self, name, '') if name is not None else ''\n",
    "    \n",
    "    def __getattr__(self, name):\n",
    "        return self.__dict__[name] if name in self.__dict__ else ''\n",
    "    \n",
    "    def __contains__(self, item):\n",
    "        return item in self.available\n",
    "    \n",
    "    def get_template(self, name='style'):\n",
    "        '''\n",
    "        name: style, fore, back\n",
    "        '''\n",
    "        return self.templates[name]\n",
    "    \n",
    "Fore = _AnsiColor('fore')\n",
    "Back = _AnsiColor('back')\n",
    "Style = _AnsiColor('style')"
   ]
  },
  {
   "cell_type": "markdown",
   "id": "448bae79",
   "metadata": {},
   "source": [
    "Some ansi escape code example:"
   ]
  },
  {
   "cell_type": "code",
   "execution_count": null,
   "id": "8b8a48b4",
   "metadata": {},
   "outputs": [
    {
     "data": {
      "text/plain": [
       "('\\x1b[38;2;240;248;255m', '\\x1b[48;2;0;0;255m', '\\x1b[01m')"
      ]
     },
     "execution_count": null,
     "metadata": {},
     "output_type": "execute_result"
    }
   ],
   "source": [
    "Fore.aliceblue, Back.blue, Style.bold"
   ]
  },
  {
   "cell_type": "markdown",
   "id": "dfcc1199",
   "metadata": {},
   "source": [
    "Available color in `Fore`: "
   ]
  },
  {
   "cell_type": "code",
   "execution_count": null,
   "id": "c561424f",
   "metadata": {},
   "outputs": [],
   "source": [
    "#| output false\n",
    "Fore.available"
   ]
  },
  {
   "cell_type": "code",
   "execution_count": null,
   "id": "930e6234",
   "metadata": {},
   "outputs": [
    {
     "name": "stdout",
     "output_type": "stream",
     "text": [
      "\u001b[48;2;10;10;10m\n",
      "\u001b[38;2;240;248;255maliceblue            \u001b[39m\t\u001b[38;2;250;235;215mantiquewhite         \u001b[39m\t\u001b[38;2;0;255;255maqua                 \u001b[39m\t\u001b[38;2;127;255;212maquamarine           \u001b[39m\t\u001b[38;2;240;255;255mazure                \u001b[39m\n",
      "\u001b[38;2;255;228;196mbisque               \u001b[39m\t\u001b[38;2;0;0;0mblack                \u001b[39m\t\u001b[38;2;255;235;205mblanchedalmond       \u001b[39m\t\u001b[38;2;0;0;255mblue                 \u001b[39m\t\u001b[38;2;138;43;226mblueviolet           \u001b[39m\n",
      "\u001b[38;2;165;42;42mbrown                \u001b[39m\t\u001b[38;2;222;184;135mburlywood            \u001b[39m\t\u001b[38;2;95;158;160mcadetblue            \u001b[39m\t\u001b[38;2;127;255;0mchartreuse           \u001b[39m\t\u001b[38;2;210;105;30mchocolate            \u001b[39m\n",
      "\u001b[38;2;255;127;80mcoral                \u001b[39m\t\u001b[38;2;100;149;237mcornflowerblue       \u001b[39m\t\u001b[38;2;255;248;220mcornsilk             \u001b[39m\t\u001b[38;2;220;20;60mcrimson              \u001b[39m\t\u001b[38;2;0;255;255mcyan                 \u001b[39m\n",
      "\u001b[38;2;0;255;255mc                    \u001b[39m\t\u001b[38;2;0;0;139mdark_blue            \u001b[39m\t\u001b[38;2;0;139;139mdark_cyan            \u001b[39m\t\u001b[38;2;184;134;11mdark_goldenrod       \u001b[39m\t\u001b[38;2;169;169;169mdark_gray            \u001b[39m\n",
      "\u001b[38;2;0;100;0mdark_green           \u001b[39m\t\u001b[38;2;189;183;107mdark_khaki           \u001b[39m\t\u001b[38;2;139;0;139mdark_magenta         \u001b[39m\t\u001b[38;2;85;107;47mdark_olivegreen      \u001b[39m\t\u001b[38;2;255;140;0mdark_orange          \u001b[39m\n",
      "\u001b[38;2;153;50;204mdark_orchid          \u001b[39m\t\u001b[38;2;139;0;0mdark_red             \u001b[39m\t\u001b[38;2;233;150;122mdark_salmon          \u001b[39m\t\u001b[38;2;143;188;143mdark_seagreen        \u001b[39m\t\u001b[38;2;72;61;139mdark_slateblue       \u001b[39m\n",
      "\u001b[38;2;47;79;79mdark_slategray       \u001b[39m\t\u001b[38;2;0;206;209mdark_turquoise       \u001b[39m\t\u001b[38;2;148;0;211mdark_violet          \u001b[39m\t\u001b[38;2;255;20;147mdeep_pink            \u001b[39m\t\u001b[38;2;0;191;255mdeep_skyblue         \u001b[39m\n",
      "\u001b[38;2;105;105;105mdim_gray             \u001b[39m\t\u001b[38;2;30;144;255mdodgerblue           \u001b[39m\t\u001b[38;2;178;34;34mfirebrick            \u001b[39m\t\u001b[38;2;255;250;240mfloralwhite          \u001b[39m\t\u001b[38;2;34;139;34mforestgreen          \u001b[39m\n",
      "\u001b[38;2;255;0;255mfuchsia              \u001b[39m\t\u001b[38;2;220;220;220mgainsboro            \u001b[39m\t\u001b[38;2;248;248;255mghostwhite           \u001b[39m\t\u001b[38;2;255;215;0mgold                 \u001b[39m\t\u001b[38;2;218;165;32mgoldenrod            \u001b[39m\n",
      "\u001b[38;2;128;128;128mgray                 \u001b[39m\t\u001b[38;2;0;128;0mgreen                \u001b[39m\t\u001b[38;2;0;128;0mg                    \u001b[39m\t\u001b[38;2;173;255;47mgreenyellow          \u001b[39m\t\u001b[38;2;240;255;240mhoneydew             \u001b[39m\n",
      "\u001b[38;2;255;105;180mhotpink              \u001b[39m\t\u001b[38;2;205;92;92mindianred            \u001b[39m\t\u001b[38;2;75;0;130mindigo               \u001b[39m\t\u001b[38;2;255;255;240mivory                \u001b[39m\t\u001b[38;2;240;230;140mkhaki                \u001b[39m\n",
      "\u001b[38;2;230;230;250mlavender             \u001b[39m\t\u001b[38;2;255;240;245mlavenderblush        \u001b[39m\t\u001b[38;2;124;252;0mlawngreen            \u001b[39m\t\u001b[38;2;255;250;205mlemonchiffon         \u001b[39m\t\u001b[38;2;173;216;230mlight_blue           \u001b[39m\n",
      "\u001b[38;2;240;128;128mlight_coral          \u001b[39m\t\u001b[38;2;224;255;255mlight_cyan           \u001b[39m\t\u001b[38;2;250;250;210mlight_goldenrodyellow\u001b[39m\t\u001b[38;2;144;238;144mlight_green          \u001b[39m\t\u001b[38;2;211;211;211mlight_grey           \u001b[39m\n",
      "\u001b[38;2;255;182;193mlight_pink           \u001b[39m\t\u001b[38;2;255;160;122mlight_salmon         \u001b[39m\t\u001b[38;2;32;178;170mlight_seagreen       \u001b[39m\t\u001b[38;2;135;206;250mlight_skyblue        \u001b[39m\t\u001b[38;2;119;136;153mlight_slategray      \u001b[39m\n",
      "\u001b[38;2;176;196;222mlight_steelblue      \u001b[39m\t\u001b[38;2;255;255;224mlight_yellow         \u001b[39m\t\u001b[38;2;0;255;0mlime                 \u001b[39m\t\u001b[38;2;50;205;50mlimegreen            \u001b[39m\t\u001b[38;2;250;240;230mlinen                \u001b[39m\n",
      "\u001b[38;2;255;0;255mmagenta              \u001b[39m\t\u001b[38;2;128;0;0mmaroon               \u001b[39m\t\u001b[38;2;102;205;170mmedium_aquamarine    \u001b[39m\t\u001b[38;2;0;0;205mmedium_blue          \u001b[39m\t\u001b[38;2;186;85;211mmedium_orchid        \u001b[39m\n",
      "\u001b[38;2;147;112;219mmedium_purple        \u001b[39m\t\u001b[38;2;60;179;113mmedium_seagreen      \u001b[39m\t\u001b[38;2;123;104;238mmedium_slateblue     \u001b[39m\t\u001b[38;2;0;250;154mmedium_springgreen   \u001b[39m\t\u001b[38;2;72;209;204mmedium_turquoise     \u001b[39m\n",
      "\u001b[38;2;199;21;133mmedium_violetred     \u001b[39m\t\u001b[38;2;25;25;112mmidnightblue         \u001b[39m\t\u001b[38;2;245;255;250mmintcream            \u001b[39m\t\u001b[38;2;255;228;225mmistyrose            \u001b[39m\t\u001b[38;2;255;228;181mmoccasin             \u001b[39m\n",
      "\u001b[38;2;255;222;173mnavajowhite          \u001b[39m\t\u001b[38;2;0;0;128mnavy                 \u001b[39m\t\u001b[38;2;253;245;230moldlace              \u001b[39m\t\u001b[38;2;128;128;0molive                \u001b[39m\t\u001b[38;2;107;142;35molivedrab            \u001b[39m\n",
      "\u001b[38;2;255;165;0morange               \u001b[39m\t\u001b[38;2;255;69;0morangered            \u001b[39m\t\u001b[38;2;218;112;214morchid               \u001b[39m\t\u001b[38;2;238;232;170mpalegoldenrod        \u001b[39m\t\u001b[38;2;152;251;152mpalegreen            \u001b[39m\n",
      "\u001b[38;2;175;238;238mpaleturquoise        \u001b[39m\t\u001b[38;2;219;112;147mpalevioletred        \u001b[39m\t\u001b[38;2;255;239;213mpapayawhip           \u001b[39m\t\u001b[38;2;255;218;185mpeachpuff            \u001b[39m\t\u001b[38;2;205;133;63mperu                 \u001b[39m\n",
      "\u001b[38;2;255;192;203mpink                 \u001b[39m\t\u001b[38;2;221;160;221mplum                 \u001b[39m\t\u001b[38;2;176;224;230mpowderblue           \u001b[39m\t\u001b[38;2;128;0;128mpurple               \u001b[39m\t\u001b[38;2;255;0;0mred                  \u001b[39m\n",
      "\u001b[38;2;255;0;0mr                    \u001b[39m\t\u001b[38;2;188;143;143mrosybrown            \u001b[39m\t\u001b[38;2;65;105;225mroyalblue            \u001b[39m\t\u001b[38;2;139;69;19msaddlebrown          \u001b[39m\t\u001b[38;2;250;128;114msalmon               \u001b[39m\n",
      "\u001b[38;2;244;164;96msandybrown           \u001b[39m\t\u001b[38;2;46;139;87mseagreen             \u001b[39m\t\u001b[38;2;255;245;238mseashell             \u001b[39m\t\u001b[38;2;160;82;45msienna               \u001b[39m\t\u001b[38;2;192;192;192msilver               \u001b[39m\n",
      "\u001b[38;2;135;206;235mskyblue              \u001b[39m\t\u001b[38;2;106;90;205mslateblue            \u001b[39m\t\u001b[38;2;112;128;144mslategray            \u001b[39m\t\u001b[38;2;255;250;250msnow                 \u001b[39m\t\u001b[38;2;0;255;127mspringgreen          \u001b[39m\n",
      "\u001b[38;2;70;130;180msteelblue            \u001b[39m\t\u001b[38;2;210;180;140mtan                  \u001b[39m\t\u001b[38;2;0;128;128mteal                 \u001b[39m\t\u001b[38;2;216;191;216mthistle              \u001b[39m\t\u001b[38;2;255;99;71mtomato               \u001b[39m\n",
      "\u001b[38;2;64;224;208mturquoise            \u001b[39m\t\u001b[38;2;238;130;238mviolet               \u001b[39m\t\u001b[38;2;245;222;179mwheat                \u001b[39m\t\u001b[38;2;255;255;255mwhite                \u001b[39m\t\u001b[38;2;255;255;255mw                    \u001b[39m\n",
      "\u001b[38;2;245;245;245mwhitesmoke           \u001b[39m\t\u001b[38;2;255;255;0myellow               \u001b[39m\t\u001b[38;2;255;255;0my                    \u001b[39m\t\u001b[00m\n"
     ]
    }
   ],
   "source": [
    "#| echo: false\n",
    "print('\\033[48;2;10;10;10m')\n",
    "for i, c in enumerate(Fore.available):\n",
    "    end = '\\n' if (i+1) % 5 == 0 else '\\t'\n",
    "    print(f'{Fore[c]}{c:21s}{Fore.reset}', end=end)\n",
    "print(Back.reset_all)"
   ]
  },
  {
   "cell_type": "markdown",
   "id": "24fd900e",
   "metadata": {},
   "source": [
    "Available color in `Back`:"
   ]
  },
  {
   "cell_type": "code",
   "execution_count": null,
   "id": "cda72317",
   "metadata": {},
   "outputs": [],
   "source": [
    "#| output false\n",
    "Back.available"
   ]
  },
  {
   "cell_type": "code",
   "execution_count": null,
   "id": "c55be9e6",
   "metadata": {},
   "outputs": [
    {
     "name": "stdout",
     "output_type": "stream",
     "text": [
      "\u001b[48;2;240;248;255maliceblue            \u001b[49m\t\u001b[48;2;250;235;215mantiquewhite         \u001b[49m\t\u001b[48;2;0;255;255maqua                 \u001b[49m\t\u001b[48;2;127;255;212maquamarine           \u001b[49m\t\u001b[48;2;240;255;255mazure                \u001b[49m\n",
      "\u001b[48;2;255;228;196mbisque               \u001b[49m\t\u001b[48;2;0;0;0mblack                \u001b[49m\t\u001b[48;2;255;235;205mblanchedalmond       \u001b[49m\t\u001b[48;2;0;0;255mblue                 \u001b[49m\t\u001b[48;2;138;43;226mblueviolet           \u001b[49m\n",
      "\u001b[48;2;165;42;42mbrown                \u001b[49m\t\u001b[48;2;222;184;135mburlywood            \u001b[49m\t\u001b[48;2;95;158;160mcadetblue            \u001b[49m\t\u001b[48;2;127;255;0mchartreuse           \u001b[49m\t\u001b[48;2;210;105;30mchocolate            \u001b[49m\n",
      "\u001b[48;2;255;127;80mcoral                \u001b[49m\t\u001b[48;2;100;149;237mcornflowerblue       \u001b[49m\t\u001b[48;2;255;248;220mcornsilk             \u001b[49m\t\u001b[48;2;220;20;60mcrimson              \u001b[49m\t\u001b[48;2;0;255;255mcyan                 \u001b[49m\n",
      "\u001b[48;2;0;255;255mc                    \u001b[49m\t\u001b[48;2;0;0;139mdark_blue            \u001b[49m\t\u001b[48;2;0;139;139mdark_cyan            \u001b[49m\t\u001b[48;2;184;134;11mdark_goldenrod       \u001b[49m\t\u001b[48;2;169;169;169mdark_gray            \u001b[49m\n",
      "\u001b[48;2;0;100;0mdark_green           \u001b[49m\t\u001b[48;2;189;183;107mdark_khaki           \u001b[49m\t\u001b[48;2;139;0;139mdark_magenta         \u001b[49m\t\u001b[48;2;85;107;47mdark_olivegreen      \u001b[49m\t\u001b[48;2;255;140;0mdark_orange          \u001b[49m\n",
      "\u001b[48;2;153;50;204mdark_orchid          \u001b[49m\t\u001b[48;2;139;0;0mdark_red             \u001b[49m\t\u001b[48;2;233;150;122mdark_salmon          \u001b[49m\t\u001b[48;2;143;188;143mdark_seagreen        \u001b[49m\t\u001b[48;2;72;61;139mdark_slateblue       \u001b[49m\n",
      "\u001b[48;2;47;79;79mdark_slategray       \u001b[49m\t\u001b[48;2;0;206;209mdark_turquoise       \u001b[49m\t\u001b[48;2;148;0;211mdark_violet          \u001b[49m\t\u001b[48;2;255;20;147mdeep_pink            \u001b[49m\t\u001b[48;2;0;191;255mdeep_skyblue         \u001b[49m\n",
      "\u001b[48;2;105;105;105mdim_gray             \u001b[49m\t\u001b[48;2;30;144;255mdodgerblue           \u001b[49m\t\u001b[48;2;178;34;34mfirebrick            \u001b[49m\t\u001b[48;2;255;250;240mfloralwhite          \u001b[49m\t\u001b[48;2;34;139;34mforestgreen          \u001b[49m\n",
      "\u001b[48;2;255;0;255mfuchsia              \u001b[49m\t\u001b[48;2;220;220;220mgainsboro            \u001b[49m\t\u001b[48;2;248;248;255mghostwhite           \u001b[49m\t\u001b[48;2;255;215;0mgold                 \u001b[49m\t\u001b[48;2;218;165;32mgoldenrod            \u001b[49m\n",
      "\u001b[48;2;128;128;128mgray                 \u001b[49m\t\u001b[48;2;0;128;0mgreen                \u001b[49m\t\u001b[48;2;0;128;0mg                    \u001b[49m\t\u001b[48;2;173;255;47mgreenyellow          \u001b[49m\t\u001b[48;2;240;255;240mhoneydew             \u001b[49m\n",
      "\u001b[48;2;255;105;180mhotpink              \u001b[49m\t\u001b[48;2;205;92;92mindianred            \u001b[49m\t\u001b[48;2;75;0;130mindigo               \u001b[49m\t\u001b[48;2;255;255;240mivory                \u001b[49m\t\u001b[48;2;240;230;140mkhaki                \u001b[49m\n",
      "\u001b[48;2;230;230;250mlavender             \u001b[49m\t\u001b[48;2;255;240;245mlavenderblush        \u001b[49m\t\u001b[48;2;124;252;0mlawngreen            \u001b[49m\t\u001b[48;2;255;250;205mlemonchiffon         \u001b[49m\t\u001b[48;2;173;216;230mlight_blue           \u001b[49m\n",
      "\u001b[48;2;240;128;128mlight_coral          \u001b[49m\t\u001b[48;2;224;255;255mlight_cyan           \u001b[49m\t\u001b[48;2;250;250;210mlight_goldenrodyellow\u001b[49m\t\u001b[48;2;144;238;144mlight_green          \u001b[49m\t\u001b[48;2;211;211;211mlight_grey           \u001b[49m\n",
      "\u001b[48;2;255;182;193mlight_pink           \u001b[49m\t\u001b[48;2;255;160;122mlight_salmon         \u001b[49m\t\u001b[48;2;32;178;170mlight_seagreen       \u001b[49m\t\u001b[48;2;135;206;250mlight_skyblue        \u001b[49m\t\u001b[48;2;119;136;153mlight_slategray      \u001b[49m\n",
      "\u001b[48;2;176;196;222mlight_steelblue      \u001b[49m\t\u001b[48;2;255;255;224mlight_yellow         \u001b[49m\t\u001b[48;2;0;255;0mlime                 \u001b[49m\t\u001b[48;2;50;205;50mlimegreen            \u001b[49m\t\u001b[48;2;250;240;230mlinen                \u001b[49m\n",
      "\u001b[48;2;255;0;255mmagenta              \u001b[49m\t\u001b[48;2;128;0;0mmaroon               \u001b[49m\t\u001b[48;2;102;205;170mmedium_aquamarine    \u001b[49m\t\u001b[48;2;0;0;205mmedium_blue          \u001b[49m\t\u001b[48;2;186;85;211mmedium_orchid        \u001b[49m\n",
      "\u001b[48;2;147;112;219mmedium_purple        \u001b[49m\t\u001b[48;2;60;179;113mmedium_seagreen      \u001b[49m\t\u001b[48;2;123;104;238mmedium_slateblue     \u001b[49m\t\u001b[48;2;0;250;154mmedium_springgreen   \u001b[49m\t\u001b[48;2;72;209;204mmedium_turquoise     \u001b[49m\n",
      "\u001b[48;2;199;21;133mmedium_violetred     \u001b[49m\t\u001b[48;2;25;25;112mmidnightblue         \u001b[49m\t\u001b[48;2;245;255;250mmintcream            \u001b[49m\t\u001b[48;2;255;228;225mmistyrose            \u001b[49m\t\u001b[48;2;255;228;181mmoccasin             \u001b[49m\n",
      "\u001b[48;2;255;222;173mnavajowhite          \u001b[49m\t\u001b[48;2;0;0;128mnavy                 \u001b[49m\t\u001b[48;2;253;245;230moldlace              \u001b[49m\t\u001b[48;2;128;128;0molive                \u001b[49m\t\u001b[48;2;107;142;35molivedrab            \u001b[49m\n",
      "\u001b[48;2;255;165;0morange               \u001b[49m\t\u001b[48;2;255;69;0morangered            \u001b[49m\t\u001b[48;2;218;112;214morchid               \u001b[49m\t\u001b[48;2;238;232;170mpalegoldenrod        \u001b[49m\t\u001b[48;2;152;251;152mpalegreen            \u001b[49m\n",
      "\u001b[48;2;175;238;238mpaleturquoise        \u001b[49m\t\u001b[48;2;219;112;147mpalevioletred        \u001b[49m\t\u001b[48;2;255;239;213mpapayawhip           \u001b[49m\t\u001b[48;2;255;218;185mpeachpuff            \u001b[49m\t\u001b[48;2;205;133;63mperu                 \u001b[49m\n",
      "\u001b[48;2;255;192;203mpink                 \u001b[49m\t\u001b[48;2;221;160;221mplum                 \u001b[49m\t\u001b[48;2;176;224;230mpowderblue           \u001b[49m\t\u001b[48;2;128;0;128mpurple               \u001b[49m\t\u001b[48;2;255;0;0mred                  \u001b[49m\n",
      "\u001b[48;2;255;0;0mr                    \u001b[49m\t\u001b[48;2;188;143;143mrosybrown            \u001b[49m\t\u001b[48;2;65;105;225mroyalblue            \u001b[49m\t\u001b[48;2;139;69;19msaddlebrown          \u001b[49m\t\u001b[48;2;250;128;114msalmon               \u001b[49m\n",
      "\u001b[48;2;244;164;96msandybrown           \u001b[49m\t\u001b[48;2;46;139;87mseagreen             \u001b[49m\t\u001b[48;2;255;245;238mseashell             \u001b[49m\t\u001b[48;2;160;82;45msienna               \u001b[49m\t\u001b[48;2;192;192;192msilver               \u001b[49m\n",
      "\u001b[48;2;135;206;235mskyblue              \u001b[49m\t\u001b[48;2;106;90;205mslateblue            \u001b[49m\t\u001b[48;2;112;128;144mslategray            \u001b[49m\t\u001b[48;2;255;250;250msnow                 \u001b[49m\t\u001b[48;2;0;255;127mspringgreen          \u001b[49m\n",
      "\u001b[48;2;70;130;180msteelblue            \u001b[49m\t\u001b[48;2;210;180;140mtan                  \u001b[49m\t\u001b[48;2;0;128;128mteal                 \u001b[49m\t\u001b[48;2;216;191;216mthistle              \u001b[49m\t\u001b[48;2;255;99;71mtomato               \u001b[49m\n",
      "\u001b[48;2;64;224;208mturquoise            \u001b[49m\t\u001b[48;2;238;130;238mviolet               \u001b[49m\t\u001b[48;2;245;222;179mwheat                \u001b[49m\t\u001b[48;2;255;255;255mwhite                \u001b[49m\t\u001b[48;2;255;255;255mw                    \u001b[49m\n",
      "\u001b[48;2;245;245;245mwhitesmoke           \u001b[49m\t\u001b[48;2;255;255;0myellow               \u001b[49m\t\u001b[48;2;255;255;0my                    \u001b[49m\t"
     ]
    }
   ],
   "source": [
    "#| echo: false\n",
    "for i, c in enumerate(Back.available):\n",
    "    end = '\\n' if (i+1) % 5 == 0 else '\\t'\n",
    "    print(f'{Back[c]}{c:21s}{Back.reset}', end=end)"
   ]
  },
  {
   "cell_type": "code",
   "execution_count": null,
   "id": "b2a65bbb",
   "metadata": {},
   "outputs": [],
   "source": [
    "#| output false\n",
    "Style.available"
   ]
  },
  {
   "cell_type": "code",
   "execution_count": null,
   "id": "976f6425",
   "metadata": {},
   "outputs": [
    {
     "name": "stdout",
     "output_type": "stream",
     "text": [
      "\u001b[01mbold\u001b[00m | \u001b[02mdim\u001b[00m | \u001b[22mnormal_intensity\u001b[00m | \u001b[04munderline\u001b[00m | \u001b[05mblink\u001b[00m | \u001b[07minvert\u001b[00m | "
     ]
    }
   ],
   "source": [
    "#| echo: false\n",
    "for i, c in enumerate(('bold', 'dim', 'normal_intensity', 'underline', 'blink', 'invert')):\n",
    "    print(f'{Style[c]}{c}{Style.end}', end=' | ')"
   ]
  },
  {
   "cell_type": "code",
   "execution_count": null,
   "id": "1adf17f3",
   "metadata": {},
   "outputs": [],
   "source": [
    "#| hide\n",
    "import nbdev; nbdev.nbdev_export()"
   ]
  },
  {
   "cell_type": "code",
   "execution_count": null,
   "id": "a5788c1f",
   "metadata": {},
   "outputs": [],
   "source": []
  }
 ],
 "metadata": {
  "kernelspec": {
   "display_name": "python3",
   "language": "python",
   "name": "python3"
  }
 },
 "nbformat": 4,
 "nbformat_minor": 5
}
