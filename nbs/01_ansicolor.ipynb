{
 "cells": [
  {
   "cell_type": "markdown",
   "id": "185aa9d1",
   "metadata": {},
   "source": [
    "# ansicolor\n",
    "\n",
    "> Store color with ansi escape code"
   ]
  },
  {
   "cell_type": "markdown",
   "id": "64a0a5de",
   "metadata": {},
   "source": [
    "- Fore: foreground\n",
    "- Back: background\n",
    "- Style: font style\n",
    "\n",
    "Basic usage:\n",
    "```python\n",
    "Fore['red'], Fore.blue\n",
    "Back['yellow'], Back.black\n",
    "Style['bold'], Style.underline\n",
    "```\n",
    "\n",
    "\n",
    "`Fore` and `Back` also suport __rgb__ and __hex__ format:\n",
    "```python\n",
    "Fore['123, 242, 5'], Fore['(123, 242, 5)'], Fore['#ffffff']\n",
    "Back['123, 242, 5'], Back['(123, 242, 5)'], Back['#ffffff']\n",
    "```"
   ]
  },
  {
   "cell_type": "code",
   "execution_count": null,
   "id": "de30db01",
   "metadata": {},
   "outputs": [],
   "source": [
    "#| default_exp ansicolor"
   ]
  },
  {
   "cell_type": "code",
   "execution_count": null,
   "id": "5a97ca7b",
   "metadata": {},
   "outputs": [],
   "source": [
    "#| hide\n",
    "from nbdev.showdoc import *\n",
    "from fastcore.utils import *"
   ]
  },
  {
   "cell_type": "code",
   "execution_count": null,
   "id": "ef1a8e7e",
   "metadata": {},
   "outputs": [],
   "source": [
    "#| export\n",
    "import re\n",
    "\n",
    "from colortextpy.color import enum, _EnumMeta, Color, hex2rgb\n",
    "from colortextpy.color import _ClassPropertyDescriptor\n",
    "\n",
    "\n",
    "class _Style(_EnumMeta):\n",
    "    reset_all =        (enum.auto(), '00', True)\n",
    "    end =              (enum.auto(), '00', True)\n",
    "    bold =             (enum.auto(), '01', True)\n",
    "    no_bold =          (enum.auto(), '21', True)\n",
    "    dim =              (enum.auto(), '02', False) # Not widely supported.\n",
    "    faint =            (enum.auto(), '02', False) # Not widely supported.\n",
    "    normal_intensity = (enum.auto(), '22', False)\n",
    "    italic =           (enum.auto(), '03', False) # Not widely supported.\n",
    "    no_italic =        (enum.auto(), '23', False)\n",
    "    underline =        (enum.auto(), '04', True)\n",
    "    no_underline =     (enum.auto(), '24', True)\n",
    "    blink =            (enum.auto(), '05', True)\n",
    "    no_blink =         (enum.auto(), '25', True)\n",
    "    slow_blink =       (enum.auto(), '05', False)\n",
    "    rapid_blink =      (enum.auto(), '06', False) # # Not widely supported.\n",
    "    invert =           (enum.auto(), '07', True)\n",
    "    no_invert =        (enum.auto(), '27', True)\n",
    "    hidden =           (enum.auto(), '08', False) # Not widely supported.\n",
    "    no_hidden =        (enum.auto(), '28', False)\n",
    "    cross_out =        (enum.auto(), '09', False) # Not widely supported.\n",
    "    strike =           (enum.auto(), '09', False) # Not widely supported.\n",
    "    no_strike =        (enum.auto(), '29', False)\n",
    "    \n",
    "    def __init__(self, value, n, widely):\n",
    "        self._value_ = value\n",
    "        self._n = n\n",
    "        self._widely = widely\n",
    "        \n",
    "    @property\n",
    "    def n(self):\n",
    "        return self._n\n",
    "    \n",
    "    @property\n",
    "    def widely(self):\n",
    "        return self._widely\n",
    "    \n",
    "    @_ClassPropertyDescriptor\n",
    "    @classmethod\n",
    "    def available(cls):\n",
    "        return tuple(c.name for c in cls if c.widely)\n",
    "    \n",
    "\n",
    "class _AnsiColor:\n",
    "    templates = dict(\n",
    "        style = '\\033[{0}m',\n",
    "        fore = '\\033[38;2;{0};{1};{2}m',\n",
    "        back = '\\033[48;2;{0};{1};{2}m',       \n",
    "    )    \n",
    "    \n",
    "    def __init__(self, name='fore'):\n",
    "        '''\n",
    "        name: style, fore, back\n",
    "        '''\n",
    "        if name not in ('fore', 'back', 'style'):\n",
    "            raise ValueError(f'Does not support {name}')\n",
    "            \n",
    "        self.name = name\n",
    "        self._template = self.get_template(name=name)\n",
    "        \n",
    "        if name in ('fore', 'back'):\n",
    "            for c in Color.available:\n",
    "                setattr(self, c, self.rgb2ansi(Color[c].rgb))\n",
    "                \n",
    "            reset = '39' if name == 'fore' else '49'\n",
    "            self.reset = f'\\033[{reset}m'\n",
    "            self.reset_all = '\\033[00m'\n",
    "            self.available = Color.available\n",
    "        else:\n",
    "            for c in _Style:\n",
    "                if c.widely:\n",
    "                #if 1:\n",
    "                    setattr(self, c.name, self._template.format(c.n))\n",
    "            self.available = _Style.available\n",
    "            \n",
    "    def __repr__(self):\n",
    "        return f'<AnsiColor: \\'{self.name.upper()}\\'>'\n",
    "    \n",
    "    def __getitem__(self, name):\n",
    "        return getattr(self, f'{name}', '') if name is not None else ''\n",
    "    \n",
    "    def __getattr__(self, name):\n",
    "        return self.get_ansi(name)\n",
    "    \n",
    "    def __call__(self, name):\n",
    "        if isinstance(name, (tuple, int)):\n",
    "            name = f'{name}'\n",
    "        return self[name]\n",
    "    \n",
    "    def __contains__(self, item):\n",
    "        return item in self.available\n",
    "\n",
    "    def get_ansi(self, color: str) -> str:\n",
    "        if self.name in ('back', 'style'):\n",
    "            color = color.lower()\n",
    "        if color in self: return self.__dict__[color]\n",
    "        elif self.name in ('fore', 'back'):\n",
    "            # 8-bits\n",
    "            if color.isdigit() and int(color) <= 255:\n",
    "                code = 38 if self.name == 'fore' else '48'\n",
    "                return self.get_8bit_ansi(code, color)\n",
    "\n",
    "            # HEX 24-bits\n",
    "            elif re.match(r'#(?:[a-f0-9]{3}){1,2}$', color):\n",
    "                return self.hex2ansi(color)\n",
    "\n",
    "            # 24-bits\n",
    "            elif color.count(',') == 2:\n",
    "                try:\n",
    "                    color = eval(color)\n",
    "                except:\n",
    "                    return ''\n",
    "                if all(int(x) <= 255 for x in color):\n",
    "                    return self.rgb2ansi(color)\n",
    "        return ''\n",
    "    \n",
    "    def get_8bit_ansi(self, code, color) -> str:\n",
    "        return f'\\033[{code};5;{color}m'\n",
    "    \n",
    "    def rgb2ansi(self, rgb: tuple) -> str:\n",
    "        return self._template.format(*rgb)\n",
    "    \n",
    "    def hex2ansi(self, h: str) -> str:\n",
    "        return self.rgb2ansi(hex2rgb(h))\n",
    "    \n",
    "    def get_template(self, name='style'):\n",
    "        '''\n",
    "        name: style, fore, back\n",
    "        '''\n",
    "        return self.templates[name]\n",
    "    \n",
    "    \n",
    "Fore = _AnsiColor('fore')\n",
    "Back = _AnsiColor('back')\n",
    "Style = _AnsiColor('style')\n",
    "\n",
    "\n",
    "class AnsiColor:\n",
    "    r'''\n",
    "    Integrate with `Fore`, `Back`, `Style`.\n",
    "    \n",
    "    Parameters\n",
    "    ----------\n",
    "    fore : `Fore`, str, int, optional\n",
    "        Foreground color. Could be hex, rgb string or tuple, `Fore`, 8-bits color\n",
    "        \n",
    "    back : `Back`, str, rgb, int, optional\n",
    "        Background color, Could be hex, rgb string or tuple, `Back`, 8-bits color\n",
    "        \n",
    "    style : `Style`, str, tuple, optional\n",
    "        Text style. Seee `Style.available`.\n",
    "        \n",
    "    Examples\n",
    "    --------\n",
    "    >>> AnsiColor(fore='#ccccff', back=Back['red'], style='bold').ansi_fmt\n",
    "    >>> '\\x1b[38;2;204;204;255m\\x1b[48;2;255;0;0m\\x1b[01m'\n",
    "    \n",
    "    >>> AnsiColor(fore=Fore.blue, back=Back['(2, 2, 2)'], style='bold').ansi_fmt\n",
    "    >>> '\\x1b[38;2;0;0;255m\\x1b[48;2;2;2;2m\\x1b[01m'\n",
    "    \n",
    "    >>> ansi = AnsiColor(fore=Fore['0, 0, 0'], back=(2, 2, 2), style=('bold', 'underline'))\n",
    "    >>> ansi.fore, ansi.back, ansi.style\n",
    "    >>> ('\\x1b[38;2;0;0;0m', '\\x1b[48;2;2;2;2m', '\\x1b[01m\\x1b[04m')\n",
    "    \n",
    "    8-bits color:\n",
    "    >>> ansi = AnsiColor(fore='108', back=177)\n",
    "    >>> ansi.fore, ansi.back    \n",
    "    >>> ('\\x1b[38;5;108m', '\\x1b[48;5;177m')\n",
    "    '''\n",
    "    \n",
    "    def __init__(\n",
    "        self, \n",
    "        fore: str = None, \n",
    "        back: str = None, \n",
    "        style: str = None\n",
    "    ):\n",
    "        self.fore = self.set_color(fore, Fore)\n",
    "        self.back = self.set_color(back, Back)\n",
    "        self.style = (\n",
    "            ''.join(self.set_color(s, Style) for s in style) \n",
    "            if isinstance(style, (tuple, list)) else \n",
    "            self.set_color(style, Style)\n",
    "        )\n",
    "        self.ansi_fmt = f'{self.fore}{self.back}{self.style}'\n",
    "        \n",
    "    def set_color(self, color, Color):\n",
    "        color = f'{color}'\n",
    "        if color is None: return ''\n",
    "        elif '[' in color: return color\n",
    "        else: return Color[color]"
   ]
  },
  {
   "cell_type": "code",
   "execution_count": null,
   "id": "cbfdadc0",
   "metadata": {},
   "outputs": [
    {
     "data": {
      "text/markdown": [
       "---\n",
       "\n",
       "[source](https://github.com/susuky/colortextpy/blob/main/colortextpy/ansicolor.py#L55){target=\"_blank\" style=\"float:right; font-size:smaller\"}\n",
       "\n",
       "### _AnsiColor\n",
       "\n",
       ">      _AnsiColor (name='fore')\n",
       "\n",
       "name: style, fore, back"
      ],
      "text/plain": [
       "---\n",
       "\n",
       "[source](https://github.com/susuky/colortextpy/blob/main/colortextpy/ansicolor.py#L55){target=\"_blank\" style=\"float:right; font-size:smaller\"}\n",
       "\n",
       "### _AnsiColor\n",
       "\n",
       ">      _AnsiColor (name='fore')\n",
       "\n",
       "name: style, fore, back"
      ]
     },
     "execution_count": null,
     "metadata": {},
     "output_type": "execute_result"
    }
   ],
   "source": [
    "show_doc(_AnsiColor)"
   ]
  },
  {
   "cell_type": "markdown",
   "id": "62b5eed8",
   "metadata": {},
   "source": [
    "Some ansi escape code example:"
   ]
  },
  {
   "cell_type": "code",
   "execution_count": null,
   "id": "4a324bb8",
   "metadata": {},
   "outputs": [
    {
     "data": {
      "text/plain": [
       "('\\x1b[38;2;240;248;255m', '\\x1b[48;2;0;0;255m', '\\x1b[01m')"
      ]
     },
     "execution_count": null,
     "metadata": {},
     "output_type": "execute_result"
    }
   ],
   "source": [
    "Fore.aliceblue, Back.blue, Style.bold"
   ]
  },
  {
   "cell_type": "markdown",
   "id": "53b2c76c",
   "metadata": {},
   "source": [
    "Only `Back` and `Style` support uppercase."
   ]
  },
  {
   "cell_type": "code",
   "execution_count": null,
   "id": "aafdcce7",
   "metadata": {},
   "outputs": [
    {
     "data": {
      "text/plain": [
       "'\\x1b[01m'"
      ]
     },
     "execution_count": null,
     "metadata": {},
     "output_type": "execute_result"
    }
   ],
   "source": [
    "Style['bold']"
   ]
  },
  {
   "cell_type": "code",
   "execution_count": null,
   "id": "f36bbb21",
   "metadata": {},
   "outputs": [
    {
     "data": {
      "text/plain": [
       "('', '\\x1b[48;2;0;0;0m', '\\x1b[01m')"
      ]
     },
     "execution_count": null,
     "metadata": {},
     "output_type": "execute_result"
    }
   ],
   "source": [
    "Fore.BLACK, Back.BLACK, Style['BOLD']"
   ]
  },
  {
   "cell_type": "code",
   "execution_count": null,
   "id": "86bbb0ec",
   "metadata": {},
   "outputs": [
    {
     "data": {
      "text/markdown": [
       "---\n",
       "\n",
       "### Fore\n",
       "\n"
      ],
      "text/plain": [
       "---\n",
       "\n",
       "### Fore\n"
      ]
     },
     "execution_count": null,
     "metadata": {},
     "output_type": "execute_result"
    }
   ],
   "source": [
    "show_doc(Fore, name='Fore')"
   ]
  },
  {
   "cell_type": "markdown",
   "id": "5d3ddc9b",
   "metadata": {},
   "source": [
    "Basic usage:"
   ]
  },
  {
   "cell_type": "code",
   "execution_count": null,
   "id": "298b5259",
   "metadata": {},
   "outputs": [
    {
     "data": {
      "text/plain": [
       "('\\x1b[38;2;255;0;0m', '\\x1b[38;2;0;0;255m')"
      ]
     },
     "execution_count": null,
     "metadata": {},
     "output_type": "execute_result"
    }
   ],
   "source": [
    "Fore['red'], Fore.blue"
   ]
  },
  {
   "cell_type": "markdown",
   "id": "442ecb84",
   "metadata": {},
   "source": [
    "Other available colors are in `Fore.available`: "
   ]
  },
  {
   "cell_type": "code",
   "execution_count": null,
   "id": "767ab972",
   "metadata": {},
   "outputs": [
    {
     "name": "stdout",
     "output_type": "stream",
     "text": [
      "\u001b[48;2;75;75;75m\n",
      "\u001b[38;2;240;248;255maliceblue            \u001b[39m\t\u001b[38;2;250;235;215mantiquewhite         \u001b[39m\t\u001b[38;2;0;255;255maqua                 \u001b[39m\t\u001b[38;2;127;255;212maquamarine           \u001b[39m\n",
      "\u001b[38;2;240;255;255mazure                \u001b[39m\t\u001b[38;2;255;228;196mbisque               \u001b[39m\t\u001b[38;2;0;0;0mblack                \u001b[39m\t\u001b[38;2;255;235;205mblanchedalmond       \u001b[39m\n",
      "\u001b[38;2;0;0;255mblue                 \u001b[39m\t\u001b[38;2;138;43;226mblueviolet           \u001b[39m\t\u001b[38;2;165;42;42mbrown                \u001b[39m\t\u001b[38;2;222;184;135mburlywood            \u001b[39m\n",
      "\u001b[38;2;95;158;160mcadetblue            \u001b[39m\t\u001b[38;2;127;255;0mchartreuse           \u001b[39m\t\u001b[38;2;210;105;30mchocolate            \u001b[39m\t\u001b[38;2;255;127;80mcoral                \u001b[39m\n",
      "\u001b[38;2;100;149;237mcornflowerblue       \u001b[39m\t\u001b[38;2;255;248;220mcornsilk             \u001b[39m\t\u001b[38;2;220;20;60mcrimson              \u001b[39m\t\u001b[38;2;0;255;255mcyan                 \u001b[39m\n",
      "\u001b[38;2;0;255;255mc                    \u001b[39m\t\u001b[38;2;0;0;139mdark_blue            \u001b[39m\t\u001b[38;2;0;139;139mdark_cyan            \u001b[39m\t\u001b[38;2;184;134;11mdark_goldenrod       \u001b[39m\n",
      "\u001b[38;2;169;169;169mdark_gray            \u001b[39m\t\u001b[38;2;0;100;0mdark_green           \u001b[39m\t\u001b[38;2;189;183;107mdark_khaki           \u001b[39m\t\u001b[38;2;139;0;139mdark_magenta         \u001b[39m\n",
      "\u001b[38;2;85;107;47mdark_olivegreen      \u001b[39m\t\u001b[38;2;255;140;0mdark_orange          \u001b[39m\t\u001b[38;2;153;50;204mdark_orchid          \u001b[39m\t\u001b[38;2;139;0;0mdark_red             \u001b[39m\n",
      "\u001b[38;2;233;150;122mdark_salmon          \u001b[39m\t\u001b[38;2;143;188;143mdark_seagreen        \u001b[39m\t\u001b[38;2;72;61;139mdark_slateblue       \u001b[39m\t\u001b[38;2;47;79;79mdark_slategray       \u001b[39m\n",
      "\u001b[38;2;0;206;209mdark_turquoise       \u001b[39m\t\u001b[38;2;148;0;211mdark_violet          \u001b[39m\t\u001b[38;2;255;20;147mdeep_pink            \u001b[39m\t\u001b[38;2;0;191;255mdeep_skyblue         \u001b[39m\n",
      "\u001b[38;2;105;105;105mdim_gray             \u001b[39m\t\u001b[38;2;30;144;255mdodgerblue           \u001b[39m\t\u001b[38;2;178;34;34mfirebrick            \u001b[39m\t\u001b[38;2;255;250;240mfloralwhite          \u001b[39m\n",
      "\u001b[38;2;34;139;34mforestgreen          \u001b[39m\t\u001b[38;2;255;0;255mfuchsia              \u001b[39m\t\u001b[38;2;220;220;220mgainsboro            \u001b[39m\t\u001b[38;2;248;248;255mghostwhite           \u001b[39m\n",
      "\u001b[38;2;255;215;0mgold                 \u001b[39m\t\u001b[38;2;218;165;32mgoldenrod            \u001b[39m\t\u001b[38;2;128;128;128mgray                 \u001b[39m\t\u001b[38;2;0;128;0mgreen                \u001b[39m\n",
      "\u001b[38;2;0;128;0mg                    \u001b[39m\t\u001b[38;2;173;255;47mgreenyellow          \u001b[39m\t\u001b[38;2;240;255;240mhoneydew             \u001b[39m\t\u001b[38;2;255;105;180mhotpink              \u001b[39m\n",
      "\u001b[38;2;205;92;92mindianred            \u001b[39m\t\u001b[38;2;75;0;130mindigo               \u001b[39m\t\u001b[38;2;255;255;240mivory                \u001b[39m\t\u001b[38;2;240;230;140mkhaki                \u001b[39m\n",
      "\u001b[38;2;230;230;250mlavender             \u001b[39m\t\u001b[38;2;255;240;245mlavenderblush        \u001b[39m\t\u001b[38;2;124;252;0mlawngreen            \u001b[39m\t\u001b[38;2;255;250;205mlemonchiffon         \u001b[39m\n",
      "\u001b[38;2;173;216;230mlight_blue           \u001b[39m\t\u001b[38;2;240;128;128mlight_coral          \u001b[39m\t\u001b[38;2;224;255;255mlight_cyan           \u001b[39m\t\u001b[38;2;250;250;210mlight_goldenrodyellow\u001b[39m\n",
      "\u001b[38;2;144;238;144mlight_green          \u001b[39m\t\u001b[38;2;211;211;211mlight_grey           \u001b[39m\t\u001b[38;2;255;182;193mlight_pink           \u001b[39m\t\u001b[38;2;255;160;122mlight_salmon         \u001b[39m\n",
      "\u001b[38;2;32;178;170mlight_seagreen       \u001b[39m\t\u001b[38;2;135;206;250mlight_skyblue        \u001b[39m\t\u001b[38;2;119;136;153mlight_slategray      \u001b[39m\t\u001b[38;2;176;196;222mlight_steelblue      \u001b[39m\n",
      "\u001b[38;2;255;255;224mlight_yellow         \u001b[39m\t\u001b[38;2;0;255;0mlime                 \u001b[39m\t\u001b[38;2;50;205;50mlimegreen            \u001b[39m\t\u001b[38;2;250;240;230mlinen                \u001b[39m\n",
      "\u001b[38;2;255;0;255mmagenta              \u001b[39m\t\u001b[38;2;128;0;0mmaroon               \u001b[39m\t\u001b[38;2;102;205;170mmedium_aquamarine    \u001b[39m\t\u001b[38;2;0;0;205mmedium_blue          \u001b[39m\n",
      "\u001b[38;2;186;85;211mmedium_orchid        \u001b[39m\t\u001b[38;2;147;112;219mmedium_purple        \u001b[39m\t\u001b[38;2;60;179;113mmedium_seagreen      \u001b[39m\t\u001b[38;2;123;104;238mmedium_slateblue     \u001b[39m\n",
      "\u001b[38;2;0;250;154mmedium_springgreen   \u001b[39m\t\u001b[38;2;72;209;204mmedium_turquoise     \u001b[39m\t\u001b[38;2;199;21;133mmedium_violetred     \u001b[39m\t\u001b[38;2;25;25;112mmidnightblue         \u001b[39m\n",
      "\u001b[38;2;245;255;250mmintcream            \u001b[39m\t\u001b[38;2;255;228;225mmistyrose            \u001b[39m\t\u001b[38;2;255;228;181mmoccasin             \u001b[39m\t\u001b[38;2;255;222;173mnavajowhite          \u001b[39m\n",
      "\u001b[38;2;0;0;128mnavy                 \u001b[39m\t\u001b[38;2;253;245;230moldlace              \u001b[39m\t\u001b[38;2;128;128;0molive                \u001b[39m\t\u001b[38;2;107;142;35molivedrab            \u001b[39m\n",
      "\u001b[38;2;255;165;0morange               \u001b[39m\t\u001b[38;2;255;69;0morangered            \u001b[39m\t\u001b[38;2;218;112;214morchid               \u001b[39m\t\u001b[38;2;238;232;170mpalegoldenrod        \u001b[39m\n",
      "\u001b[38;2;152;251;152mpalegreen            \u001b[39m\t\u001b[38;2;175;238;238mpaleturquoise        \u001b[39m\t\u001b[38;2;219;112;147mpalevioletred        \u001b[39m\t\u001b[38;2;255;239;213mpapayawhip           \u001b[39m\n",
      "\u001b[38;2;255;218;185mpeachpuff            \u001b[39m\t\u001b[38;2;205;133;63mperu                 \u001b[39m\t\u001b[38;2;255;192;203mpink                 \u001b[39m\t\u001b[38;2;221;160;221mplum                 \u001b[39m\n",
      "\u001b[38;2;176;224;230mpowderblue           \u001b[39m\t\u001b[38;2;128;0;128mpurple               \u001b[39m\t\u001b[38;2;255;0;0mred                  \u001b[39m\t\u001b[38;2;255;0;0mr                    \u001b[39m\n",
      "\u001b[38;2;188;143;143mrosybrown            \u001b[39m\t\u001b[38;2;65;105;225mroyalblue            \u001b[39m\t\u001b[38;2;139;69;19msaddlebrown          \u001b[39m\t\u001b[38;2;250;128;114msalmon               \u001b[39m\n",
      "\u001b[38;2;244;164;96msandybrown           \u001b[39m\t\u001b[38;2;46;139;87mseagreen             \u001b[39m\t\u001b[38;2;255;245;238mseashell             \u001b[39m\t\u001b[38;2;160;82;45msienna               \u001b[39m\n",
      "\u001b[38;2;192;192;192msilver               \u001b[39m\t\u001b[38;2;135;206;235mskyblue              \u001b[39m\t\u001b[38;2;106;90;205mslateblue            \u001b[39m\t\u001b[38;2;112;128;144mslategray            \u001b[39m\n",
      "\u001b[38;2;255;250;250msnow                 \u001b[39m\t\u001b[38;2;0;255;127mspringgreen          \u001b[39m\t\u001b[38;2;70;130;180msteelblue            \u001b[39m\t\u001b[38;2;210;180;140mtan                  \u001b[39m\n",
      "\u001b[38;2;0;128;128mteal                 \u001b[39m\t\u001b[38;2;216;191;216mthistle              \u001b[39m\t\u001b[38;2;255;99;71mtomato               \u001b[39m\t\u001b[38;2;64;224;208mturquoise            \u001b[39m\n",
      "\u001b[38;2;238;130;238mviolet               \u001b[39m\t\u001b[38;2;245;222;179mwheat                \u001b[39m\t\u001b[38;2;255;255;255mwhite                \u001b[39m\t\u001b[38;2;255;255;255mw                    \u001b[39m\n",
      "\u001b[38;2;245;245;245mwhitesmoke           \u001b[39m\t\u001b[38;2;255;255;0myellow               \u001b[39m\t\u001b[38;2;255;255;0my                    \u001b[39m\t\u001b[00m\n"
     ]
    }
   ],
   "source": [
    "#| echo: false\n",
    "print(Back['75, 75, 75'])\n",
    "for i, c in enumerate(Fore.available):\n",
    "    end = '\\n' if (i+1) % 4 == 0 else '\\t'\n",
    "    print(f'{Fore[c]}{c:21s}{Fore.reset}', end=end)\n",
    "print(Back.reset_all)"
   ]
  },
  {
   "cell_type": "markdown",
   "id": "b4d4ab2a",
   "metadata": {},
   "source": [
    "`Fore` also support __rgb__ and __hex__ format:"
   ]
  },
  {
   "cell_type": "code",
   "execution_count": null,
   "id": "405eeef9",
   "metadata": {},
   "outputs": [
    {
     "data": {
      "text/plain": [
       "('\\x1b[38;2;1;2;3m', '\\x1b[38;2;255;255;255m', '\\x1b[38;2;111;222;55m')"
      ]
     },
     "execution_count": null,
     "metadata": {},
     "output_type": "execute_result"
    }
   ],
   "source": [
    "Fore['(1, 2, 3)'], Fore['#ffffff'], Fore((111, 222, 55))"
   ]
  },
  {
   "cell_type": "code",
   "execution_count": null,
   "id": "7fb5f3d0",
   "metadata": {},
   "outputs": [
    {
     "name": "stdout",
     "output_type": "stream",
     "text": [
      "\u001b[38;2;55;244;56mForeground: rgb(55, 244, 56)\u001b[39m\n",
      "\u001b[38;2;0;80;0mForeground: #005000\u001b[39m\n"
     ]
    }
   ],
   "source": [
    "print(Fore['55, 244, 56'] + 'Foreground: rgb(55, 244, 56)' + Fore.reset)\n",
    "print(Fore['#005000'] + 'Foreground: #005000' + Fore.reset)"
   ]
  },
  {
   "cell_type": "code",
   "execution_count": null,
   "id": "5d83219e",
   "metadata": {},
   "outputs": [
    {
     "data": {
      "text/markdown": [
       "---\n",
       "\n",
       "### Back\n",
       "\n"
      ],
      "text/plain": [
       "---\n",
       "\n",
       "### Back\n"
      ]
     },
     "execution_count": null,
     "metadata": {},
     "output_type": "execute_result"
    }
   ],
   "source": [
    "show_doc(Fore, name='Back')"
   ]
  },
  {
   "cell_type": "markdown",
   "id": "64a6ceee",
   "metadata": {},
   "source": [
    "Basic usage:"
   ]
  },
  {
   "cell_type": "code",
   "execution_count": null,
   "id": "58902e13",
   "metadata": {},
   "outputs": [
    {
     "data": {
      "text/plain": [
       "('\\x1b[48;2;255;0;0m', '\\x1b[48;2;0;0;255m')"
      ]
     },
     "execution_count": null,
     "metadata": {},
     "output_type": "execute_result"
    }
   ],
   "source": [
    "Back['red'], Back.blue"
   ]
  },
  {
   "cell_type": "markdown",
   "id": "adc86bdc",
   "metadata": {},
   "source": [
    "Other available colors are in `Back.available`: "
   ]
  },
  {
   "cell_type": "markdown",
   "id": "af8b3998",
   "metadata": {},
   "source": [
    "Available color in `Back`:"
   ]
  },
  {
   "cell_type": "code",
   "execution_count": null,
   "id": "2e2f5eb9",
   "metadata": {},
   "outputs": [
    {
     "name": "stdout",
     "output_type": "stream",
     "text": [
      "\u001b[48;2;240;248;255maliceblue            \u001b[49m\t\u001b[48;2;250;235;215mantiquewhite         \u001b[49m\t\u001b[48;2;0;255;255maqua                 \u001b[49m\t\u001b[48;2;127;255;212maquamarine           \u001b[49m\n",
      "\u001b[48;2;240;255;255mazure                \u001b[49m\t\u001b[48;2;255;228;196mbisque               \u001b[49m\t\u001b[48;2;0;0;0mblack                \u001b[49m\t\u001b[48;2;255;235;205mblanchedalmond       \u001b[49m\n",
      "\u001b[48;2;0;0;255mblue                 \u001b[49m\t\u001b[48;2;138;43;226mblueviolet           \u001b[49m\t\u001b[48;2;165;42;42mbrown                \u001b[49m\t\u001b[48;2;222;184;135mburlywood            \u001b[49m\n",
      "\u001b[48;2;95;158;160mcadetblue            \u001b[49m\t\u001b[48;2;127;255;0mchartreuse           \u001b[49m\t\u001b[48;2;210;105;30mchocolate            \u001b[49m\t\u001b[48;2;255;127;80mcoral                \u001b[49m\n",
      "\u001b[48;2;100;149;237mcornflowerblue       \u001b[49m\t\u001b[48;2;255;248;220mcornsilk             \u001b[49m\t\u001b[48;2;220;20;60mcrimson              \u001b[49m\t\u001b[48;2;0;255;255mcyan                 \u001b[49m\n",
      "\u001b[48;2;0;255;255mc                    \u001b[49m\t\u001b[48;2;0;0;139mdark_blue            \u001b[49m\t\u001b[48;2;0;139;139mdark_cyan            \u001b[49m\t\u001b[48;2;184;134;11mdark_goldenrod       \u001b[49m\n",
      "\u001b[48;2;169;169;169mdark_gray            \u001b[49m\t\u001b[48;2;0;100;0mdark_green           \u001b[49m\t\u001b[48;2;189;183;107mdark_khaki           \u001b[49m\t\u001b[48;2;139;0;139mdark_magenta         \u001b[49m\n",
      "\u001b[48;2;85;107;47mdark_olivegreen      \u001b[49m\t\u001b[48;2;255;140;0mdark_orange          \u001b[49m\t\u001b[48;2;153;50;204mdark_orchid          \u001b[49m\t\u001b[48;2;139;0;0mdark_red             \u001b[49m\n",
      "\u001b[48;2;233;150;122mdark_salmon          \u001b[49m\t\u001b[48;2;143;188;143mdark_seagreen        \u001b[49m\t\u001b[48;2;72;61;139mdark_slateblue       \u001b[49m\t\u001b[48;2;47;79;79mdark_slategray       \u001b[49m\n",
      "\u001b[48;2;0;206;209mdark_turquoise       \u001b[49m\t\u001b[48;2;148;0;211mdark_violet          \u001b[49m\t\u001b[48;2;255;20;147mdeep_pink            \u001b[49m\t\u001b[48;2;0;191;255mdeep_skyblue         \u001b[49m\n",
      "\u001b[48;2;105;105;105mdim_gray             \u001b[49m\t\u001b[48;2;30;144;255mdodgerblue           \u001b[49m\t\u001b[48;2;178;34;34mfirebrick            \u001b[49m\t\u001b[48;2;255;250;240mfloralwhite          \u001b[49m\n",
      "\u001b[48;2;34;139;34mforestgreen          \u001b[49m\t\u001b[48;2;255;0;255mfuchsia              \u001b[49m\t\u001b[48;2;220;220;220mgainsboro            \u001b[49m\t\u001b[48;2;248;248;255mghostwhite           \u001b[49m\n",
      "\u001b[48;2;255;215;0mgold                 \u001b[49m\t\u001b[48;2;218;165;32mgoldenrod            \u001b[49m\t\u001b[48;2;128;128;128mgray                 \u001b[49m\t\u001b[48;2;0;128;0mgreen                \u001b[49m\n",
      "\u001b[48;2;0;128;0mg                    \u001b[49m\t\u001b[48;2;173;255;47mgreenyellow          \u001b[49m\t\u001b[48;2;240;255;240mhoneydew             \u001b[49m\t\u001b[48;2;255;105;180mhotpink              \u001b[49m\n",
      "\u001b[48;2;205;92;92mindianred            \u001b[49m\t\u001b[48;2;75;0;130mindigo               \u001b[49m\t\u001b[48;2;255;255;240mivory                \u001b[49m\t\u001b[48;2;240;230;140mkhaki                \u001b[49m\n",
      "\u001b[48;2;230;230;250mlavender             \u001b[49m\t\u001b[48;2;255;240;245mlavenderblush        \u001b[49m\t\u001b[48;2;124;252;0mlawngreen            \u001b[49m\t\u001b[48;2;255;250;205mlemonchiffon         \u001b[49m\n",
      "\u001b[48;2;173;216;230mlight_blue           \u001b[49m\t\u001b[48;2;240;128;128mlight_coral          \u001b[49m\t\u001b[48;2;224;255;255mlight_cyan           \u001b[49m\t\u001b[48;2;250;250;210mlight_goldenrodyellow\u001b[49m\n",
      "\u001b[48;2;144;238;144mlight_green          \u001b[49m\t\u001b[48;2;211;211;211mlight_grey           \u001b[49m\t\u001b[48;2;255;182;193mlight_pink           \u001b[49m\t\u001b[48;2;255;160;122mlight_salmon         \u001b[49m\n",
      "\u001b[48;2;32;178;170mlight_seagreen       \u001b[49m\t\u001b[48;2;135;206;250mlight_skyblue        \u001b[49m\t\u001b[48;2;119;136;153mlight_slategray      \u001b[49m\t\u001b[48;2;176;196;222mlight_steelblue      \u001b[49m\n",
      "\u001b[48;2;255;255;224mlight_yellow         \u001b[49m\t\u001b[48;2;0;255;0mlime                 \u001b[49m\t\u001b[48;2;50;205;50mlimegreen            \u001b[49m\t\u001b[48;2;250;240;230mlinen                \u001b[49m\n",
      "\u001b[48;2;255;0;255mmagenta              \u001b[49m\t\u001b[48;2;128;0;0mmaroon               \u001b[49m\t\u001b[48;2;102;205;170mmedium_aquamarine    \u001b[49m\t\u001b[48;2;0;0;205mmedium_blue          \u001b[49m\n",
      "\u001b[48;2;186;85;211mmedium_orchid        \u001b[49m\t\u001b[48;2;147;112;219mmedium_purple        \u001b[49m\t\u001b[48;2;60;179;113mmedium_seagreen      \u001b[49m\t\u001b[48;2;123;104;238mmedium_slateblue     \u001b[49m\n",
      "\u001b[48;2;0;250;154mmedium_springgreen   \u001b[49m\t\u001b[48;2;72;209;204mmedium_turquoise     \u001b[49m\t\u001b[48;2;199;21;133mmedium_violetred     \u001b[49m\t\u001b[48;2;25;25;112mmidnightblue         \u001b[49m\n",
      "\u001b[48;2;245;255;250mmintcream            \u001b[49m\t\u001b[48;2;255;228;225mmistyrose            \u001b[49m\t\u001b[48;2;255;228;181mmoccasin             \u001b[49m\t\u001b[48;2;255;222;173mnavajowhite          \u001b[49m\n",
      "\u001b[48;2;0;0;128mnavy                 \u001b[49m\t\u001b[48;2;253;245;230moldlace              \u001b[49m\t\u001b[48;2;128;128;0molive                \u001b[49m\t\u001b[48;2;107;142;35molivedrab            \u001b[49m\n",
      "\u001b[48;2;255;165;0morange               \u001b[49m\t\u001b[48;2;255;69;0morangered            \u001b[49m\t\u001b[48;2;218;112;214morchid               \u001b[49m\t\u001b[48;2;238;232;170mpalegoldenrod        \u001b[49m\n",
      "\u001b[48;2;152;251;152mpalegreen            \u001b[49m\t\u001b[48;2;175;238;238mpaleturquoise        \u001b[49m\t\u001b[48;2;219;112;147mpalevioletred        \u001b[49m\t\u001b[48;2;255;239;213mpapayawhip           \u001b[49m\n",
      "\u001b[48;2;255;218;185mpeachpuff            \u001b[49m\t\u001b[48;2;205;133;63mperu                 \u001b[49m\t\u001b[48;2;255;192;203mpink                 \u001b[49m\t\u001b[48;2;221;160;221mplum                 \u001b[49m\n",
      "\u001b[48;2;176;224;230mpowderblue           \u001b[49m\t\u001b[48;2;128;0;128mpurple               \u001b[49m\t\u001b[48;2;255;0;0mred                  \u001b[49m\t\u001b[48;2;255;0;0mr                    \u001b[49m\n",
      "\u001b[48;2;188;143;143mrosybrown            \u001b[49m\t\u001b[48;2;65;105;225mroyalblue            \u001b[49m\t\u001b[48;2;139;69;19msaddlebrown          \u001b[49m\t\u001b[48;2;250;128;114msalmon               \u001b[49m\n",
      "\u001b[48;2;244;164;96msandybrown           \u001b[49m\t\u001b[48;2;46;139;87mseagreen             \u001b[49m\t\u001b[48;2;255;245;238mseashell             \u001b[49m\t\u001b[48;2;160;82;45msienna               \u001b[49m\n",
      "\u001b[48;2;192;192;192msilver               \u001b[49m\t\u001b[48;2;135;206;235mskyblue              \u001b[49m\t\u001b[48;2;106;90;205mslateblue            \u001b[49m\t\u001b[48;2;112;128;144mslategray            \u001b[49m\n",
      "\u001b[48;2;255;250;250msnow                 \u001b[49m\t\u001b[48;2;0;255;127mspringgreen          \u001b[49m\t\u001b[48;2;70;130;180msteelblue            \u001b[49m\t\u001b[48;2;210;180;140mtan                  \u001b[49m\n",
      "\u001b[48;2;0;128;128mteal                 \u001b[49m\t\u001b[48;2;216;191;216mthistle              \u001b[49m\t\u001b[48;2;255;99;71mtomato               \u001b[49m\t\u001b[48;2;64;224;208mturquoise            \u001b[49m\n",
      "\u001b[48;2;238;130;238mviolet               \u001b[49m\t\u001b[48;2;245;222;179mwheat                \u001b[49m\t\u001b[48;2;255;255;255mwhite                \u001b[49m\t\u001b[48;2;255;255;255mw                    \u001b[49m\n",
      "\u001b[48;2;245;245;245mwhitesmoke           \u001b[49m\t\u001b[48;2;255;255;0myellow               \u001b[49m\t\u001b[48;2;255;255;0my                    \u001b[49m\t"
     ]
    }
   ],
   "source": [
    "#| echo: false\n",
    "for i, c in enumerate(Back.available):\n",
    "    end = '\\n' if (i+1) % 4 == 0 else '\\t'\n",
    "    print(f'{Back[c]}{c:21s}{Back.reset}', end=end)"
   ]
  },
  {
   "cell_type": "markdown",
   "id": "a1e86d2e",
   "metadata": {},
   "source": [
    "`Back` also support __rgb__ and __hex__ format:"
   ]
  },
  {
   "cell_type": "code",
   "execution_count": null,
   "id": "67bbf4f5",
   "metadata": {},
   "outputs": [
    {
     "data": {
      "text/plain": [
       "('\\x1b[48;2;1;2;3m', '\\x1b[48;2;255;255;255m', '\\x1b[48;2;111;222;55m')"
      ]
     },
     "execution_count": null,
     "metadata": {},
     "output_type": "execute_result"
    }
   ],
   "source": [
    "Back['(1, 2, 3)'], Back['#ffffff'], Back((111, 222, 55))"
   ]
  },
  {
   "cell_type": "code",
   "execution_count": null,
   "id": "219868e8",
   "metadata": {},
   "outputs": [
    {
     "name": "stdout",
     "output_type": "stream",
     "text": [
      "\u001b[48;2;55;244;56mBackground: rgb(55, 244, 56)\u001b[39m\n",
      "\u001b[48;2;255;80;0mBackground: #ff5000\u001b[39m\n"
     ]
    }
   ],
   "source": [
    "print(Back['55, 244, 56'] + 'Background: rgb(55, 244, 56)' + Fore.reset)\n",
    "print(Back['#ff5000'] + 'Background: #ff5000' + Fore.reset)"
   ]
  },
  {
   "cell_type": "markdown",
   "id": "f1dbe026",
   "metadata": {},
   "source": [
    "`Fore` and `Back` also support 8-bits color:"
   ]
  },
  {
   "cell_type": "code",
   "execution_count": null,
   "id": "29112f67",
   "metadata": {},
   "outputs": [
    {
     "name": "stdout",
     "output_type": "stream",
     "text": [
      "  0: \u001b[48;5;0m    \u001b[49m    1: \u001b[48;5;1m    \u001b[49m    2: \u001b[48;5;2m    \u001b[49m    3: \u001b[48;5;3m    \u001b[49m    4: \u001b[48;5;4m    \u001b[49m    5: \u001b[48;5;5m    \u001b[49m    6: \u001b[48;5;6m    \u001b[49m    7: \u001b[48;5;7m    \u001b[49m\n",
      "  8: \u001b[48;5;8m    \u001b[49m    9: \u001b[48;5;9m    \u001b[49m   10: \u001b[48;5;10m    \u001b[49m   11: \u001b[48;5;11m    \u001b[49m   12: \u001b[48;5;12m    \u001b[49m   13: \u001b[48;5;13m    \u001b[49m   14: \u001b[48;5;14m    \u001b[49m   15: \u001b[48;5;15m    \u001b[49m\n",
      " 16: \u001b[48;5;16m    \u001b[49m   17: \u001b[48;5;17m    \u001b[49m   18: \u001b[48;5;18m    \u001b[49m   19: \u001b[48;5;19m    \u001b[49m   20: \u001b[48;5;20m    \u001b[49m   21: \u001b[48;5;21m    \u001b[49m   22: \u001b[48;5;22m    \u001b[49m   23: \u001b[48;5;23m    \u001b[49m\n",
      " 24: \u001b[48;5;24m    \u001b[49m   25: \u001b[48;5;25m    \u001b[49m   26: \u001b[48;5;26m    \u001b[49m   27: \u001b[48;5;27m    \u001b[49m   28: \u001b[48;5;28m    \u001b[49m   29: \u001b[48;5;29m    \u001b[49m   30: \u001b[48;5;30m    \u001b[49m   31: \u001b[48;5;31m    \u001b[49m\n",
      " 32: \u001b[48;5;32m    \u001b[49m   33: \u001b[48;5;33m    \u001b[49m   34: \u001b[48;5;34m    \u001b[49m   35: \u001b[48;5;35m    \u001b[49m   36: \u001b[48;5;36m    \u001b[49m   37: \u001b[48;5;37m    \u001b[49m   38: \u001b[48;5;38m    \u001b[49m   39: \u001b[48;5;39m    \u001b[49m\n",
      " 40: \u001b[48;5;40m    \u001b[49m   41: \u001b[48;5;41m    \u001b[49m   42: \u001b[48;5;42m    \u001b[49m   43: \u001b[48;5;43m    \u001b[49m   44: \u001b[48;5;44m    \u001b[49m   45: \u001b[48;5;45m    \u001b[49m   46: \u001b[48;5;46m    \u001b[49m   47: \u001b[48;5;47m    \u001b[49m\n",
      " 48: \u001b[48;5;48m    \u001b[49m   49: \u001b[48;5;49m    \u001b[49m   50: \u001b[48;5;50m    \u001b[49m   51: \u001b[48;5;51m    \u001b[49m   52: \u001b[48;5;52m    \u001b[49m   53: \u001b[48;5;53m    \u001b[49m   54: \u001b[48;5;54m    \u001b[49m   55: \u001b[48;5;55m    \u001b[49m\n",
      " 56: \u001b[48;5;56m    \u001b[49m   57: \u001b[48;5;57m    \u001b[49m   58: \u001b[48;5;58m    \u001b[49m   59: \u001b[48;5;59m    \u001b[49m   60: \u001b[48;5;60m    \u001b[49m   61: \u001b[48;5;61m    \u001b[49m   62: \u001b[48;5;62m    \u001b[49m   63: \u001b[48;5;63m    \u001b[49m\n",
      " 64: \u001b[48;5;64m    \u001b[49m   65: \u001b[48;5;65m    \u001b[49m   66: \u001b[48;5;66m    \u001b[49m   67: \u001b[48;5;67m    \u001b[49m   68: \u001b[48;5;68m    \u001b[49m   69: \u001b[48;5;69m    \u001b[49m   70: \u001b[48;5;70m    \u001b[49m   71: \u001b[48;5;71m    \u001b[49m\n",
      " 72: \u001b[48;5;72m    \u001b[49m   73: \u001b[48;5;73m    \u001b[49m   74: \u001b[48;5;74m    \u001b[49m   75: \u001b[48;5;75m    \u001b[49m   76: \u001b[48;5;76m    \u001b[49m   77: \u001b[48;5;77m    \u001b[49m   78: \u001b[48;5;78m    \u001b[49m   79: \u001b[48;5;79m    \u001b[49m\n",
      " 80: \u001b[48;5;80m    \u001b[49m   81: \u001b[48;5;81m    \u001b[49m   82: \u001b[48;5;82m    \u001b[49m   83: \u001b[48;5;83m    \u001b[49m   84: \u001b[48;5;84m    \u001b[49m   85: \u001b[48;5;85m    \u001b[49m   86: \u001b[48;5;86m    \u001b[49m   87: \u001b[48;5;87m    \u001b[49m\n",
      " 88: \u001b[48;5;88m    \u001b[49m   89: \u001b[48;5;89m    \u001b[49m   90: \u001b[48;5;90m    \u001b[49m   91: \u001b[48;5;91m    \u001b[49m   92: \u001b[48;5;92m    \u001b[49m   93: \u001b[48;5;93m    \u001b[49m   94: \u001b[48;5;94m    \u001b[49m   95: \u001b[48;5;95m    \u001b[49m\n",
      " 96: \u001b[48;5;96m    \u001b[49m   97: \u001b[48;5;97m    \u001b[49m   98: \u001b[48;5;98m    \u001b[49m   99: \u001b[48;5;99m    \u001b[49m  100: \u001b[48;5;100m    \u001b[49m  101: \u001b[48;5;101m    \u001b[49m  102: \u001b[48;5;102m    \u001b[49m  103: \u001b[48;5;103m    \u001b[49m\n",
      "104: \u001b[48;5;104m    \u001b[49m  105: \u001b[48;5;105m    \u001b[49m  106: \u001b[48;5;106m    \u001b[49m  107: \u001b[48;5;107m    \u001b[49m  108: \u001b[48;5;108m    \u001b[49m  109: \u001b[48;5;109m    \u001b[49m  110: \u001b[48;5;110m    \u001b[49m  111: \u001b[48;5;111m    \u001b[49m\n",
      "112: \u001b[48;5;112m    \u001b[49m  113: \u001b[48;5;113m    \u001b[49m  114: \u001b[48;5;114m    \u001b[49m  115: \u001b[48;5;115m    \u001b[49m  116: \u001b[48;5;116m    \u001b[49m  117: \u001b[48;5;117m    \u001b[49m  118: \u001b[48;5;118m    \u001b[49m  119: \u001b[48;5;119m    \u001b[49m\n",
      "120: \u001b[48;5;120m    \u001b[49m  121: \u001b[48;5;121m    \u001b[49m  122: \u001b[48;5;122m    \u001b[49m  123: \u001b[48;5;123m    \u001b[49m  124: \u001b[48;5;124m    \u001b[49m  125: \u001b[48;5;125m    \u001b[49m  126: \u001b[48;5;126m    \u001b[49m  127: \u001b[48;5;127m    \u001b[49m\n",
      "128: \u001b[48;5;128m    \u001b[49m  129: \u001b[48;5;129m    \u001b[49m  130: \u001b[48;5;130m    \u001b[49m  131: \u001b[48;5;131m    \u001b[49m  132: \u001b[48;5;132m    \u001b[49m  133: \u001b[48;5;133m    \u001b[49m  134: \u001b[48;5;134m    \u001b[49m  135: \u001b[48;5;135m    \u001b[49m\n",
      "136: \u001b[48;5;136m    \u001b[49m  137: \u001b[48;5;137m    \u001b[49m  138: \u001b[48;5;138m    \u001b[49m  139: \u001b[48;5;139m    \u001b[49m  140: \u001b[48;5;140m    \u001b[49m  141: \u001b[48;5;141m    \u001b[49m  142: \u001b[48;5;142m    \u001b[49m  143: \u001b[48;5;143m    \u001b[49m\n",
      "144: \u001b[48;5;144m    \u001b[49m  145: \u001b[48;5;145m    \u001b[49m  146: \u001b[48;5;146m    \u001b[49m  147: \u001b[48;5;147m    \u001b[49m  148: \u001b[48;5;148m    \u001b[49m  149: \u001b[48;5;149m    \u001b[49m  150: \u001b[48;5;150m    \u001b[49m  151: \u001b[48;5;151m    \u001b[49m\n",
      "152: \u001b[48;5;152m    \u001b[49m  153: \u001b[48;5;153m    \u001b[49m  154: \u001b[48;5;154m    \u001b[49m  155: \u001b[48;5;155m    \u001b[49m  156: \u001b[48;5;156m    \u001b[49m  157: \u001b[48;5;157m    \u001b[49m  158: \u001b[48;5;158m    \u001b[49m  159: \u001b[48;5;159m    \u001b[49m\n",
      "160: \u001b[48;5;160m    \u001b[49m  161: \u001b[48;5;161m    \u001b[49m  162: \u001b[48;5;162m    \u001b[49m  163: \u001b[48;5;163m    \u001b[49m  164: \u001b[48;5;164m    \u001b[49m  165: \u001b[48;5;165m    \u001b[49m  166: \u001b[48;5;166m    \u001b[49m  167: \u001b[48;5;167m    \u001b[49m\n",
      "168: \u001b[48;5;168m    \u001b[49m  169: \u001b[48;5;169m    \u001b[49m  170: \u001b[48;5;170m    \u001b[49m  171: \u001b[48;5;171m    \u001b[49m  172: \u001b[48;5;172m    \u001b[49m  173: \u001b[48;5;173m    \u001b[49m  174: \u001b[48;5;174m    \u001b[49m  175: \u001b[48;5;175m    \u001b[49m\n",
      "176: \u001b[48;5;176m    \u001b[49m  177: \u001b[48;5;177m    \u001b[49m  178: \u001b[48;5;178m    \u001b[49m  179: \u001b[48;5;179m    \u001b[49m  180: \u001b[48;5;180m    \u001b[49m  181: \u001b[48;5;181m    \u001b[49m  182: \u001b[48;5;182m    \u001b[49m  183: \u001b[48;5;183m    \u001b[49m\n",
      "184: \u001b[48;5;184m    \u001b[49m  185: \u001b[48;5;185m    \u001b[49m  186: \u001b[48;5;186m    \u001b[49m  187: \u001b[48;5;187m    \u001b[49m  188: \u001b[48;5;188m    \u001b[49m  189: \u001b[48;5;189m    \u001b[49m  190: \u001b[48;5;190m    \u001b[49m  191: \u001b[48;5;191m    \u001b[49m\n",
      "192: \u001b[48;5;192m    \u001b[49m  193: \u001b[48;5;193m    \u001b[49m  194: \u001b[48;5;194m    \u001b[49m  195: \u001b[48;5;195m    \u001b[49m  196: \u001b[48;5;196m    \u001b[49m  197: \u001b[48;5;197m    \u001b[49m  198: \u001b[48;5;198m    \u001b[49m  199: \u001b[48;5;199m    \u001b[49m\n",
      "200: \u001b[48;5;200m    \u001b[49m  201: \u001b[48;5;201m    \u001b[49m  202: \u001b[48;5;202m    \u001b[49m  203: \u001b[48;5;203m    \u001b[49m  204: \u001b[48;5;204m    \u001b[49m  205: \u001b[48;5;205m    \u001b[49m  206: \u001b[48;5;206m    \u001b[49m  207: \u001b[48;5;207m    \u001b[49m\n",
      "208: \u001b[48;5;208m    \u001b[49m  209: \u001b[48;5;209m    \u001b[49m  210: \u001b[48;5;210m    \u001b[49m  211: \u001b[48;5;211m    \u001b[49m  212: \u001b[48;5;212m    \u001b[49m  213: \u001b[48;5;213m    \u001b[49m  214: \u001b[48;5;214m    \u001b[49m  215: \u001b[48;5;215m    \u001b[49m\n",
      "216: \u001b[48;5;216m    \u001b[49m  217: \u001b[48;5;217m    \u001b[49m  218: \u001b[48;5;218m    \u001b[49m  219: \u001b[48;5;219m    \u001b[49m  220: \u001b[48;5;220m    \u001b[49m  221: \u001b[48;5;221m    \u001b[49m  222: \u001b[48;5;222m    \u001b[49m  223: \u001b[48;5;223m    \u001b[49m\n",
      "224: \u001b[48;5;224m    \u001b[49m  225: \u001b[48;5;225m    \u001b[49m  226: \u001b[48;5;226m    \u001b[49m  227: \u001b[48;5;227m    \u001b[49m  228: \u001b[48;5;228m    \u001b[49m  229: \u001b[48;5;229m    \u001b[49m  230: \u001b[48;5;230m    \u001b[49m  231: \u001b[48;5;231m    \u001b[49m\n",
      "232: \u001b[48;5;232m    \u001b[49m  233: \u001b[48;5;233m    \u001b[49m  234: \u001b[48;5;234m    \u001b[49m  235: \u001b[48;5;235m    \u001b[49m  236: \u001b[48;5;236m    \u001b[49m  237: \u001b[48;5;237m    \u001b[49m  238: \u001b[48;5;238m    \u001b[49m  239: \u001b[48;5;239m    \u001b[49m\n",
      "240: \u001b[48;5;240m    \u001b[49m  241: \u001b[48;5;241m    \u001b[49m  242: \u001b[48;5;242m    \u001b[49m  243: \u001b[48;5;243m    \u001b[49m  244: \u001b[48;5;244m    \u001b[49m  245: \u001b[48;5;245m    \u001b[49m  246: \u001b[48;5;246m    \u001b[49m  247: \u001b[48;5;247m    \u001b[49m\n",
      "248: \u001b[48;5;248m    \u001b[49m  249: \u001b[48;5;249m    \u001b[49m  250: \u001b[48;5;250m    \u001b[49m  251: \u001b[48;5;251m    \u001b[49m  252: \u001b[48;5;252m    \u001b[49m  253: \u001b[48;5;253m    \u001b[49m  254: \u001b[48;5;254m    \u001b[49m  255: \u001b[48;5;255m    \u001b[49m\n"
     ]
    }
   ],
   "source": [
    "for i in range(256):\n",
    "    end = '\\n' if (i+1)%8 == 0 else ' '*2\n",
    "    print(f'{i:3}: {Back[i]}    {Back.reset}', end=end)"
   ]
  },
  {
   "cell_type": "code",
   "execution_count": null,
   "id": "970e53f3",
   "metadata": {},
   "outputs": [
    {
     "data": {
      "text/markdown": [
       "---\n",
       "\n",
       "### Style\n",
       "\n"
      ],
      "text/plain": [
       "---\n",
       "\n",
       "### Style\n"
      ]
     },
     "execution_count": null,
     "metadata": {},
     "output_type": "execute_result"
    }
   ],
   "source": [
    "show_doc(Style, name='Style')"
   ]
  },
  {
   "cell_type": "markdown",
   "id": "ad526e82",
   "metadata": {},
   "source": [
    "Basic usage:"
   ]
  },
  {
   "cell_type": "code",
   "execution_count": null,
   "id": "f04610f7",
   "metadata": {},
   "outputs": [
    {
     "data": {
      "text/plain": [
       "('\\x1b[01m', '\\x1b[04m')"
      ]
     },
     "execution_count": null,
     "metadata": {},
     "output_type": "execute_result"
    }
   ],
   "source": [
    "Style['bold'], Style.underline"
   ]
  },
  {
   "cell_type": "markdown",
   "id": "b5e4e286",
   "metadata": {},
   "source": [
    "Only list the commonly used styles"
   ]
  },
  {
   "cell_type": "code",
   "execution_count": null,
   "id": "64952cdd",
   "metadata": {},
   "outputs": [
    {
     "name": "stdout",
     "output_type": "stream",
     "text": [
      "\u001b[00mreset_all\u001b[00m | \u001b[00mend\u001b[00m | \u001b[01mbold\u001b[00m | \u001b[21mno_bold\u001b[00m | \u001b[04munderline\u001b[00m | \u001b[24mno_underline\u001b[00m | \u001b[05mblink\u001b[00m | \u001b[25mno_blink\u001b[00m | \u001b[07minvert\u001b[00m | \u001b[27mno_invert\u001b[00m | "
     ]
    }
   ],
   "source": [
    "#| echo: false\n",
    "for i, c in enumerate(('reset_all', 'end', 'bold', 'no_bold', 'underline', 'no_underline', 'blink', 'no_blink', 'invert', 'no_invert')):\n",
    "    print(f'{Style[c]}{c}{Style.end}', end=' | ')"
   ]
  },
  {
   "cell_type": "markdown",
   "id": "4ac7a8a2",
   "metadata": {},
   "source": [
    "\"reset_all\" and \"end\" would reset all the ansi escape code function"
   ]
  },
  {
   "cell_type": "code",
   "execution_count": null,
   "id": "40f07dc1",
   "metadata": {},
   "outputs": [
    {
     "data": {
      "text/markdown": [
       "---\n",
       "\n",
       "[source](https://github.com/susuky/colortextpy/blob/main/colortextpy/ansicolor.py#L149){target=\"_blank\" style=\"float:right; font-size:smaller\"}\n",
       "\n",
       "### AnsiColor\n",
       "\n",
       ">      AnsiColor (fore:str=None, back:str=None, style:str=None)\n",
       "\n",
       "Integrate with `Fore`, `Back`, `Style`.\n",
       "\n",
       "|    | **Type** | **Default** | **Details** |\n",
       "| -- | -------- | ----------- | ----------- |\n",
       "| fore | str | None | Foreground color. Could be hex, rgb string or tuple, `Fore`, 8-bits color |\n",
       "| back | str | None | Background color, Could be hex, rgb string or tuple, `Back`, 8-bits color |\n",
       "| style | str | None | Text style. Seee `Style.available`. |"
      ],
      "text/plain": [
       "---\n",
       "\n",
       "[source](https://github.com/susuky/colortextpy/blob/main/colortextpy/ansicolor.py#L149){target=\"_blank\" style=\"float:right; font-size:smaller\"}\n",
       "\n",
       "### AnsiColor\n",
       "\n",
       ">      AnsiColor (fore:str=None, back:str=None, style:str=None)\n",
       "\n",
       "Integrate with `Fore`, `Back`, `Style`.\n",
       "\n",
       "|    | **Type** | **Default** | **Details** |\n",
       "| -- | -------- | ----------- | ----------- |\n",
       "| fore | str | None | Foreground color. Could be hex, rgb string or tuple, `Fore`, 8-bits color |\n",
       "| back | str | None | Background color, Could be hex, rgb string or tuple, `Back`, 8-bits color |\n",
       "| style | str | None | Text style. Seee `Style.available`. |"
      ]
     },
     "execution_count": null,
     "metadata": {},
     "output_type": "execute_result"
    }
   ],
   "source": [
    "show_doc(AnsiColor)"
   ]
  },
  {
   "cell_type": "markdown",
   "id": "07bca4fc",
   "metadata": {},
   "source": [
    "Basic usage:"
   ]
  },
  {
   "cell_type": "code",
   "execution_count": null,
   "id": "2985208c",
   "metadata": {},
   "outputs": [
    {
     "data": {
      "text/plain": [
       "'\\x1b[38;2;204;204;255m\\x1b[48;2;255;0;0m\\x1b[01m'"
      ]
     },
     "execution_count": null,
     "metadata": {},
     "output_type": "execute_result"
    }
   ],
   "source": [
    "AnsiColor(fore='#ccccff', back=Back['red'], style='bold').ansi_fmt"
   ]
  },
  {
   "cell_type": "code",
   "execution_count": null,
   "id": "fcd98e2c",
   "metadata": {},
   "outputs": [
    {
     "data": {
      "text/plain": [
       "'\\x1b[38;2;0;0;255m\\x1b[48;2;2;2;2m\\x1b[01m'"
      ]
     },
     "execution_count": null,
     "metadata": {},
     "output_type": "execute_result"
    }
   ],
   "source": [
    "AnsiColor(fore=Fore.blue, back=Back['(2, 2, 2)'], style='bold').ansi_fmt"
   ]
  },
  {
   "cell_type": "code",
   "execution_count": null,
   "id": "9e8cb181",
   "metadata": {},
   "outputs": [
    {
     "data": {
      "text/plain": [
       "('\\x1b[38;2;0;0;0m', '\\x1b[48;2;2;2;2m', '\\x1b[01m\\x1b[04m')"
      ]
     },
     "execution_count": null,
     "metadata": {},
     "output_type": "execute_result"
    }
   ],
   "source": [
    "ansi = AnsiColor(fore=Fore['0, 0, 0'], back=(2, 2, 2), style=('bold', 'underline'))\n",
    "ansi.fore, ansi.back, ansi.style"
   ]
  },
  {
   "cell_type": "code",
   "execution_count": null,
   "id": "90d88f65",
   "metadata": {},
   "outputs": [
    {
     "data": {
      "text/plain": [
       "('\\x1b[38;5;108m', '\\x1b[48;5;177m')"
      ]
     },
     "execution_count": null,
     "metadata": {},
     "output_type": "execute_result"
    }
   ],
   "source": [
    "ansi = AnsiColor(fore='108', back=177)\n",
    "ansi.fore, ansi.back"
   ]
  },
  {
   "cell_type": "code",
   "execution_count": null,
   "id": "d4cef74a",
   "metadata": {},
   "outputs": [],
   "source": [
    "#| hide\n",
    "import nbdev; nbdev.nbdev_export()"
   ]
  },
  {
   "cell_type": "code",
   "execution_count": null,
   "id": "5a90979d",
   "metadata": {},
   "outputs": [],
   "source": []
  },
  {
   "cell_type": "code",
   "execution_count": null,
   "id": "5930eaed",
   "metadata": {},
   "outputs": [],
   "source": []
  }
 ],
 "metadata": {
  "kernelspec": {
   "display_name": "python3",
   "language": "python",
   "name": "python3"
  }
 },
 "nbformat": 4,
 "nbformat_minor": 5
}
