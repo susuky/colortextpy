{
 "cells": [
  {
   "cell_type": "markdown",
   "id": "6a1cce9e",
   "metadata": {},
   "source": [
    "#  Printer\n",
    "\n",
    "> Different color for python `print`, for example:  "
   ]
  },
  {
   "cell_type": "markdown",
   "id": "84fd698c",
   "metadata": {},
   "source": [
    "```python\n",
    "colorprint('violet text', color=Fore.violet)\n",
    "colorprint('brown text', color='brown', bold=True)\n",
    "\n",
    "Printer.blue_print('blue text') # output blue text  \n",
    "Printer.red_print('red text', bold=True)   # output bold red text\n",
    "Printer.cyan_print('cyan text', file=sys.stderr) # output cyan text to sys.stderr\n",
    "```"
   ]
  },
  {
   "cell_type": "code",
   "execution_count": null,
   "id": "a9065e2c",
   "metadata": {},
   "outputs": [],
   "source": [
    "#| default_exp printer"
   ]
  },
  {
   "cell_type": "code",
   "execution_count": null,
   "id": "0ea18175",
   "metadata": {},
   "outputs": [],
   "source": [
    "#| hide\n",
    "from nbdev.showdoc import *\n",
    "from fastcore.utils import *"
   ]
  },
  {
   "cell_type": "code",
   "execution_count": null,
   "id": "3cf49887",
   "metadata": {},
   "outputs": [],
   "source": [
    "#| export\n",
    "import sys\n",
    "\n",
    "from colortextpy import colorizer, Fore\n",
    "\n",
    "\n",
    "def colorprint(*value, color='black', bold=False, sep=' ', end='\\n', file=sys.stdout, flush=False):\n",
    "    '''\n",
    "    Prints the values to a stream, or to sys.stdout by default with `Fore.color` color.\n",
    "\n",
    "    Parameters\n",
    "    ----------\n",
    "    color : str, Fore,\n",
    "        For example: 'red', Fore.red\n",
    "    \n",
    "    bold : bool\n",
    "        Whether to use bold font\n",
    "\n",
    "    file : \n",
    "        A file-like object (stream); defaults to the current sys.stdout.\n",
    "\n",
    "    sep : str  \n",
    "        String inserted between values, default a space.\n",
    "\n",
    "    end : str  \n",
    "        String appended after the last value, default a newline.\n",
    "\n",
    "    flush : bool \n",
    "        Whether to forcibly flush the stream.\n",
    "    '''\n",
    "    \n",
    "    text = sep.join(f'{f}' for f in value)\n",
    "    print(colorizer(text, fore=color, styles='bold' if bold else ''), sep=sep, end=end, file=file, flush=flush)\n",
    "    \n",
    "    \n",
    "\n",
    "class _Printer:\n",
    "    def __init__(self):\n",
    "        available = []\n",
    "        for color in Fore.available:\n",
    "            available.append(f'{color}_print')\n",
    "            self._create_printer(color)\n",
    "\n",
    "        self.available = tuple(available)\n",
    "\n",
    "            \n",
    "    def _create_printer(self, color):\n",
    "        name = f'{color}_print'\n",
    "        args = r\"*value, bold=False, sep=' ', end='\\n', file=sys.stdout, flush=False\"\n",
    "        document = f'''\n",
    "            Prints the values to a stream, or to sys.stdout by default with `Fore.{color}` color.\n",
    "\n",
    "            Parameters\n",
    "            ----------\n",
    "            bold: bool\n",
    "                whether to use bold font\n",
    "\n",
    "            file: \n",
    "                a file-like object (stream); defaults to the current sys.stdout.\n",
    "\n",
    "            sep: str  \n",
    "                string inserted between values, default a space.\n",
    "\n",
    "            end: str  \n",
    "                string appended after the last value, default a newline.\n",
    "\n",
    "            flush: bool \n",
    "                whether to forcibly flush the stream.\n",
    "\n",
    "        '''        \n",
    "        func_body = (\n",
    "        \"    text = sep.join(f'{f}' for f in value)\\n\"\n",
    "        f\"    print(colorizer(text, fore='{color}', styles='bold' if bold else ''), sep=sep, end=end, file=file, flush=flush)\"\n",
    "        )\n",
    "        exec('def {0}({1}):\\n    \"\"\"{2}\"\"\"\\n{3}'.format(name, args, document, func_body))\n",
    "        setattr(self, name, locals()[name])\n",
    "        \n",
    "    def __repr__(self):\n",
    "        return 'Printer'\n",
    "    \n",
    "Printer = _Printer()"
   ]
  },
  {
   "cell_type": "code",
   "execution_count": null,
   "id": "94849580",
   "metadata": {},
   "outputs": [
    {
     "data": {
      "text/markdown": [
       "---\n",
       "\n",
       "### colorprint\n",
       "\n",
       ">      colorprint (*value, color='black', bold=False, sep=' ', end='\\n',\n",
       ">                  file=<ipykernel.iostream.OutStream object>,\n",
       ">                  flush=False)\n",
       "\n",
       "Prints the values to a stream, or to sys.stdout by default with `Fore.color` color.\n",
       "\n",
       "|    | **Type** | **Default** | **Details** |\n",
       "| -- | -------- | ----------- | ----------- |\n",
       "| value |  |  |  |\n",
       "| color | str | black | For example: 'red', Fore.red |\n",
       "| bold | bool | False | Whether to use bold font |\n",
       "| sep | str |   | String inserted between values, default a space. |\n",
       "| end | str | <br> | String appended after the last value, default a newline. |\n",
       "| file | OutStream | <ipykernel.iostream.OutStream object> | A file-like object (stream); defaults to the current sys.stdout. |\n",
       "| flush | bool | False | Whether to forcibly flush the stream. |"
      ],
      "text/plain": [
       "---\n",
       "\n",
       "### colorprint\n",
       "\n",
       ">      colorprint (*value, color='black', bold=False, sep=' ', end='\\n',\n",
       ">                  file=<ipykernel.iostream.OutStream object>,\n",
       ">                  flush=False)\n",
       "\n",
       "Prints the values to a stream, or to sys.stdout by default with `Fore.color` color.\n",
       "\n",
       "|    | **Type** | **Default** | **Details** |\n",
       "| -- | -------- | ----------- | ----------- |\n",
       "| value |  |  |  |\n",
       "| color | str | black | For example: 'red', Fore.red |\n",
       "| bold | bool | False | Whether to use bold font |\n",
       "| sep | str |   | String inserted between values, default a space. |\n",
       "| end | str | <br> | String appended after the last value, default a newline. |\n",
       "| file | OutStream | <ipykernel.iostream.OutStream object> | A file-like object (stream); defaults to the current sys.stdout. |\n",
       "| flush | bool | False | Whether to forcibly flush the stream. |"
      ]
     },
     "execution_count": null,
     "metadata": {},
     "output_type": "execute_result"
    }
   ],
   "source": [
    "show_doc(colorprint)"
   ]
  },
  {
   "cell_type": "code",
   "execution_count": null,
   "id": "0cd1614c",
   "metadata": {},
   "outputs": [
    {
     "data": {
      "text/markdown": [
       "---\n",
       "\n",
       "### Printer\n",
       "\n"
      ],
      "text/plain": [
       "---\n",
       "\n",
       "### Printer\n"
      ]
     },
     "execution_count": null,
     "metadata": {},
     "output_type": "execute_result"
    }
   ],
   "source": [
    "show_doc(Printer)"
   ]
  },
  {
   "cell_type": "markdown",
   "id": "3903484c",
   "metadata": {},
   "source": [
    "Here are some example printer:"
   ]
  },
  {
   "cell_type": "code",
   "execution_count": null,
   "id": "72285d64",
   "metadata": {},
   "outputs": [
    {
     "data": {
      "text/markdown": [
       "---\n",
       "\n",
       "### blue_print\n",
       "\n",
       ">      blue_print (*value, bold=False, sep=' ', end='\\n',\n",
       ">                  file=<ipykernel.iostream.OutStream object>,\n",
       ">                  flush=False)\n",
       "\n",
       "Prints the values to a stream, or to sys.stdout by default with `Fore.blue` color."
      ],
      "text/plain": [
       "---\n",
       "\n",
       "### blue_print\n",
       "\n",
       ">      blue_print (*value, bold=False, sep=' ', end='\\n',\n",
       ">                  file=<ipykernel.iostream.OutStream object>,\n",
       ">                  flush=False)\n",
       "\n",
       "Prints the values to a stream, or to sys.stdout by default with `Fore.blue` color."
      ]
     },
     "execution_count": null,
     "metadata": {},
     "output_type": "execute_result"
    }
   ],
   "source": [
    "show_doc(Printer.blue_print)"
   ]
  },
  {
   "cell_type": "code",
   "execution_count": null,
   "id": "68da2671",
   "metadata": {},
   "outputs": [
    {
     "data": {
      "text/markdown": [
       "---\n",
       "\n",
       "### violet_print\n",
       "\n",
       ">      violet_print (*value, bold=False, sep=' ', end='\\n',\n",
       ">                    file=<ipykernel.iostream.OutStream object at\n",
       ">                    0x7f34bececaf0>, flush=False)\n",
       "\n",
       "Prints the values to a stream, or to sys.stdout by default with `Fore.violet` color."
      ],
      "text/plain": [
       "---\n",
       "\n",
       "### violet_print\n",
       "\n",
       ">      violet_print (*value, bold=False, sep=' ', end='\\n',\n",
       ">                    file=<ipykernel.iostream.OutStream object at\n",
       ">                    0x7f34bececaf0>, flush=False)\n",
       "\n",
       "Prints the values to a stream, or to sys.stdout by default with `Fore.violet` color."
      ]
     },
     "execution_count": null,
     "metadata": {},
     "output_type": "execute_result"
    }
   ],
   "source": [
    "show_doc(Printer.violet_print)"
   ]
  },
  {
   "cell_type": "code",
   "execution_count": null,
   "id": "afab4750",
   "metadata": {},
   "outputs": [
    {
     "data": {
      "text/markdown": [
       "---\n",
       "\n",
       "### yellow_print\n",
       "\n",
       ">      yellow_print (*value, bold=False, sep=' ', end='\\n',\n",
       ">                    file=<ipykernel.iostream.OutStream object at\n",
       ">                    0x7f34bececaf0>, flush=False)\n",
       "\n",
       "Prints the values to a stream, or to sys.stdout by default with `Fore.yellow` color."
      ],
      "text/plain": [
       "---\n",
       "\n",
       "### yellow_print\n",
       "\n",
       ">      yellow_print (*value, bold=False, sep=' ', end='\\n',\n",
       ">                    file=<ipykernel.iostream.OutStream object at\n",
       ">                    0x7f34bececaf0>, flush=False)\n",
       "\n",
       "Prints the values to a stream, or to sys.stdout by default with `Fore.yellow` color."
      ]
     },
     "execution_count": null,
     "metadata": {},
     "output_type": "execute_result"
    }
   ],
   "source": [
    "show_doc(Printer.yellow_print)"
   ]
  },
  {
   "cell_type": "markdown",
   "id": "ddf72d81",
   "metadata": {},
   "source": [
    "Here are other available printers:"
   ]
  },
  {
   "cell_type": "code",
   "execution_count": null,
   "id": "de6cb21d",
   "metadata": {},
   "outputs": [
    {
     "name": "stdout",
     "output_type": "stream",
     "text": [
      "\u001b[38;2;240;248;255m\u001b[01maliceblue_print\u001b[00m\n",
      "\u001b[38;2;250;235;215m\u001b[01mantiquewhite_print\u001b[00m\n",
      "\u001b[38;2;0;255;255m\u001b[01maqua_print\u001b[00m\n",
      "\u001b[38;2;127;255;212m\u001b[01maquamarine_print\u001b[00m\n",
      "\u001b[38;2;240;255;255m\u001b[01mazure_print\u001b[00m\n",
      "\u001b[38;2;255;228;196m\u001b[01mbisque_print\u001b[00m\n",
      "\u001b[38;2;0;0;0m\u001b[01mblack_print\u001b[00m\n",
      "\u001b[38;2;255;235;205m\u001b[01mblanchedalmond_print\u001b[00m\n",
      "\u001b[38;2;0;0;255m\u001b[01mblue_print\u001b[00m\n",
      "\u001b[38;2;138;43;226m\u001b[01mblueviolet_print\u001b[00m\n",
      "\u001b[38;2;165;42;42m\u001b[01mbrown_print\u001b[00m\n",
      "\u001b[38;2;222;184;135m\u001b[01mburlywood_print\u001b[00m\n",
      "\u001b[38;2;95;158;160m\u001b[01mcadetblue_print\u001b[00m\n",
      "\u001b[38;2;127;255;0m\u001b[01mchartreuse_print\u001b[00m\n",
      "\u001b[38;2;210;105;30m\u001b[01mchocolate_print\u001b[00m\n",
      "\u001b[38;2;255;127;80m\u001b[01mcoral_print\u001b[00m\n",
      "\u001b[38;2;100;149;237m\u001b[01mcornflowerblue_print\u001b[00m\n",
      "\u001b[38;2;255;248;220m\u001b[01mcornsilk_print\u001b[00m\n",
      "\u001b[38;2;220;20;60m\u001b[01mcrimson_print\u001b[00m\n",
      "\u001b[38;2;0;255;255m\u001b[01mcyan_print\u001b[00m\n",
      "\u001b[38;2;0;255;255m\u001b[01mc_print\u001b[00m\n",
      "\u001b[38;2;0;0;139m\u001b[01mdark_blue_print\u001b[00m\n",
      "\u001b[38;2;0;139;139m\u001b[01mdark_cyan_print\u001b[00m\n",
      "\u001b[38;2;184;134;11m\u001b[01mdark_goldenrod_print\u001b[00m\n",
      "\u001b[38;2;169;169;169m\u001b[01mdark_gray_print\u001b[00m\n",
      "\u001b[38;2;0;100;0m\u001b[01mdark_green_print\u001b[00m\n",
      "\u001b[38;2;189;183;107m\u001b[01mdark_khaki_print\u001b[00m\n",
      "\u001b[38;2;139;0;139m\u001b[01mdark_magenta_print\u001b[00m\n",
      "\u001b[38;2;85;107;47m\u001b[01mdark_olivegreen_print\u001b[00m\n",
      "\u001b[38;2;255;140;0m\u001b[01mdark_orange_print\u001b[00m\n",
      "\u001b[38;2;153;50;204m\u001b[01mdark_orchid_print\u001b[00m\n",
      "\u001b[38;2;139;0;0m\u001b[01mdark_red_print\u001b[00m\n",
      "\u001b[38;2;233;150;122m\u001b[01mdark_salmon_print\u001b[00m\n",
      "\u001b[38;2;143;188;143m\u001b[01mdark_seagreen_print\u001b[00m\n",
      "\u001b[38;2;72;61;139m\u001b[01mdark_slateblue_print\u001b[00m\n",
      "\u001b[38;2;47;79;79m\u001b[01mdark_slategray_print\u001b[00m\n",
      "\u001b[38;2;0;206;209m\u001b[01mdark_turquoise_print\u001b[00m\n",
      "\u001b[38;2;148;0;211m\u001b[01mdark_violet_print\u001b[00m\n",
      "\u001b[38;2;255;20;147m\u001b[01mdeep_pink_print\u001b[00m\n",
      "\u001b[38;2;0;191;255m\u001b[01mdeep_skyblue_print\u001b[00m\n",
      "\u001b[38;2;105;105;105m\u001b[01mdim_gray_print\u001b[00m\n",
      "\u001b[38;2;30;144;255m\u001b[01mdodgerblue_print\u001b[00m\n",
      "\u001b[38;2;178;34;34m\u001b[01mfirebrick_print\u001b[00m\n",
      "\u001b[38;2;255;250;240m\u001b[01mfloralwhite_print\u001b[00m\n",
      "\u001b[38;2;34;139;34m\u001b[01mforestgreen_print\u001b[00m\n",
      "\u001b[38;2;255;0;255m\u001b[01mfuchsia_print\u001b[00m\n",
      "\u001b[38;2;220;220;220m\u001b[01mgainsboro_print\u001b[00m\n",
      "\u001b[38;2;248;248;255m\u001b[01mghostwhite_print\u001b[00m\n",
      "\u001b[38;2;255;215;0m\u001b[01mgold_print\u001b[00m\n",
      "\u001b[38;2;218;165;32m\u001b[01mgoldenrod_print\u001b[00m\n",
      "\u001b[38;2;128;128;128m\u001b[01mgray_print\u001b[00m\n",
      "\u001b[38;2;0;128;0m\u001b[01mgreen_print\u001b[00m\n",
      "\u001b[38;2;0;128;0m\u001b[01mg_print\u001b[00m\n",
      "\u001b[38;2;173;255;47m\u001b[01mgreenyellow_print\u001b[00m\n",
      "\u001b[38;2;240;255;240m\u001b[01mhoneydew_print\u001b[00m\n",
      "\u001b[38;2;255;105;180m\u001b[01mhotpink_print\u001b[00m\n",
      "\u001b[38;2;205;92;92m\u001b[01mindianred_print\u001b[00m\n",
      "\u001b[38;2;75;0;130m\u001b[01mindigo_print\u001b[00m\n",
      "\u001b[38;2;255;255;240m\u001b[01mivory_print\u001b[00m\n",
      "\u001b[38;2;240;230;140m\u001b[01mkhaki_print\u001b[00m\n",
      "\u001b[38;2;230;230;250m\u001b[01mlavender_print\u001b[00m\n",
      "\u001b[38;2;255;240;245m\u001b[01mlavenderblush_print\u001b[00m\n",
      "\u001b[38;2;124;252;0m\u001b[01mlawngreen_print\u001b[00m\n",
      "\u001b[38;2;255;250;205m\u001b[01mlemonchiffon_print\u001b[00m\n",
      "\u001b[38;2;173;216;230m\u001b[01mlight_blue_print\u001b[00m\n",
      "\u001b[38;2;240;128;128m\u001b[01mlight_coral_print\u001b[00m\n",
      "\u001b[38;2;224;255;255m\u001b[01mlight_cyan_print\u001b[00m\n",
      "\u001b[38;2;250;250;210m\u001b[01mlight_goldenrodyellow_print\u001b[00m\n",
      "\u001b[38;2;144;238;144m\u001b[01mlight_green_print\u001b[00m\n",
      "\u001b[38;2;211;211;211m\u001b[01mlight_grey_print\u001b[00m\n",
      "\u001b[38;2;255;182;193m\u001b[01mlight_pink_print\u001b[00m\n",
      "\u001b[38;2;255;160;122m\u001b[01mlight_salmon_print\u001b[00m\n",
      "\u001b[38;2;32;178;170m\u001b[01mlight_seagreen_print\u001b[00m\n",
      "\u001b[38;2;135;206;250m\u001b[01mlight_skyblue_print\u001b[00m\n",
      "\u001b[38;2;119;136;153m\u001b[01mlight_slategray_print\u001b[00m\n",
      "\u001b[38;2;176;196;222m\u001b[01mlight_steelblue_print\u001b[00m\n",
      "\u001b[38;2;255;255;224m\u001b[01mlight_yellow_print\u001b[00m\n",
      "\u001b[38;2;0;255;0m\u001b[01mlime_print\u001b[00m\n",
      "\u001b[38;2;50;205;50m\u001b[01mlimegreen_print\u001b[00m\n",
      "\u001b[38;2;250;240;230m\u001b[01mlinen_print\u001b[00m\n",
      "\u001b[38;2;255;0;255m\u001b[01mmagenta_print\u001b[00m\n",
      "\u001b[38;2;128;0;0m\u001b[01mmaroon_print\u001b[00m\n",
      "\u001b[38;2;102;205;170m\u001b[01mmedium_aquamarine_print\u001b[00m\n",
      "\u001b[38;2;0;0;205m\u001b[01mmedium_blue_print\u001b[00m\n",
      "\u001b[38;2;186;85;211m\u001b[01mmedium_orchid_print\u001b[00m\n",
      "\u001b[38;2;147;112;219m\u001b[01mmedium_purple_print\u001b[00m\n",
      "\u001b[38;2;60;179;113m\u001b[01mmedium_seagreen_print\u001b[00m\n",
      "\u001b[38;2;123;104;238m\u001b[01mmedium_slateblue_print\u001b[00m\n",
      "\u001b[38;2;0;250;154m\u001b[01mmedium_springgreen_print\u001b[00m\n",
      "\u001b[38;2;72;209;204m\u001b[01mmedium_turquoise_print\u001b[00m\n",
      "\u001b[38;2;199;21;133m\u001b[01mmedium_violetred_print\u001b[00m\n",
      "\u001b[38;2;25;25;112m\u001b[01mmidnightblue_print\u001b[00m\n",
      "\u001b[38;2;245;255;250m\u001b[01mmintcream_print\u001b[00m\n",
      "\u001b[38;2;255;228;225m\u001b[01mmistyrose_print\u001b[00m\n",
      "\u001b[38;2;255;228;181m\u001b[01mmoccasin_print\u001b[00m\n",
      "\u001b[38;2;255;222;173m\u001b[01mnavajowhite_print\u001b[00m\n",
      "\u001b[38;2;0;0;128m\u001b[01mnavy_print\u001b[00m\n",
      "\u001b[38;2;253;245;230m\u001b[01moldlace_print\u001b[00m\n",
      "\u001b[38;2;128;128;0m\u001b[01molive_print\u001b[00m\n",
      "\u001b[38;2;107;142;35m\u001b[01molivedrab_print\u001b[00m\n",
      "\u001b[38;2;255;165;0m\u001b[01morange_print\u001b[00m\n",
      "\u001b[38;2;255;69;0m\u001b[01morangered_print\u001b[00m\n",
      "\u001b[38;2;218;112;214m\u001b[01morchid_print\u001b[00m\n",
      "\u001b[38;2;238;232;170m\u001b[01mpalegoldenrod_print\u001b[00m\n",
      "\u001b[38;2;152;251;152m\u001b[01mpalegreen_print\u001b[00m\n",
      "\u001b[38;2;175;238;238m\u001b[01mpaleturquoise_print\u001b[00m\n",
      "\u001b[38;2;219;112;147m\u001b[01mpalevioletred_print\u001b[00m\n",
      "\u001b[38;2;255;239;213m\u001b[01mpapayawhip_print\u001b[00m\n",
      "\u001b[38;2;255;218;185m\u001b[01mpeachpuff_print\u001b[00m\n",
      "\u001b[38;2;205;133;63m\u001b[01mperu_print\u001b[00m\n",
      "\u001b[38;2;255;192;203m\u001b[01mpink_print\u001b[00m\n",
      "\u001b[38;2;221;160;221m\u001b[01mplum_print\u001b[00m\n",
      "\u001b[38;2;176;224;230m\u001b[01mpowderblue_print\u001b[00m\n",
      "\u001b[38;2;128;0;128m\u001b[01mpurple_print\u001b[00m\n",
      "\u001b[38;2;255;0;0m\u001b[01mred_print\u001b[00m\n",
      "\u001b[38;2;255;0;0m\u001b[01mr_print\u001b[00m\n",
      "\u001b[38;2;188;143;143m\u001b[01mrosybrown_print\u001b[00m\n",
      "\u001b[38;2;65;105;225m\u001b[01mroyalblue_print\u001b[00m\n",
      "\u001b[38;2;139;69;19m\u001b[01msaddlebrown_print\u001b[00m\n",
      "\u001b[38;2;250;128;114m\u001b[01msalmon_print\u001b[00m\n",
      "\u001b[38;2;244;164;96m\u001b[01msandybrown_print\u001b[00m\n",
      "\u001b[38;2;46;139;87m\u001b[01mseagreen_print\u001b[00m\n",
      "\u001b[38;2;255;245;238m\u001b[01mseashell_print\u001b[00m\n",
      "\u001b[38;2;160;82;45m\u001b[01msienna_print\u001b[00m\n",
      "\u001b[38;2;192;192;192m\u001b[01msilver_print\u001b[00m\n",
      "\u001b[38;2;135;206;235m\u001b[01mskyblue_print\u001b[00m\n",
      "\u001b[38;2;106;90;205m\u001b[01mslateblue_print\u001b[00m\n",
      "\u001b[38;2;112;128;144m\u001b[01mslategray_print\u001b[00m\n",
      "\u001b[38;2;255;250;250m\u001b[01msnow_print\u001b[00m\n",
      "\u001b[38;2;0;255;127m\u001b[01mspringgreen_print\u001b[00m\n",
      "\u001b[38;2;70;130;180m\u001b[01msteelblue_print\u001b[00m\n",
      "\u001b[38;2;210;180;140m\u001b[01mtan_print\u001b[00m\n",
      "\u001b[38;2;0;128;128m\u001b[01mteal_print\u001b[00m\n",
      "\u001b[38;2;216;191;216m\u001b[01mthistle_print\u001b[00m\n",
      "\u001b[38;2;255;99;71m\u001b[01mtomato_print\u001b[00m\n",
      "\u001b[38;2;64;224;208m\u001b[01mturquoise_print\u001b[00m\n",
      "\u001b[38;2;238;130;238m\u001b[01mviolet_print\u001b[00m\n",
      "\u001b[38;2;245;222;179m\u001b[01mwheat_print\u001b[00m\n",
      "\u001b[38;2;255;255;255m\u001b[01mwhite_print\u001b[00m\n",
      "\u001b[38;2;255;255;255m\u001b[01mw_print\u001b[00m\n",
      "\u001b[38;2;245;245;245m\u001b[01mwhitesmoke_print\u001b[00m\n",
      "\u001b[38;2;255;255;0m\u001b[01myellow_print\u001b[00m\n",
      "\u001b[38;2;255;255;0m\u001b[01my_print\u001b[00m\n"
     ]
    }
   ],
   "source": [
    "#| echo: false\n",
    "for printer in Printer.available:\n",
    "    getattr(Printer, printer)(printer, bold=True)"
   ]
  },
  {
   "cell_type": "code",
   "execution_count": null,
   "id": "6558c704",
   "metadata": {},
   "outputs": [],
   "source": [
    "#| hide\n",
    "import nbdev; nbdev.nbdev_export()"
   ]
  },
  {
   "cell_type": "code",
   "execution_count": null,
   "id": "c5fc7a46",
   "metadata": {},
   "outputs": [],
   "source": []
  }
 ],
 "metadata": {
  "kernelspec": {
   "display_name": "python3",
   "language": "python",
   "name": "python3"
  }
 },
 "nbformat": 4,
 "nbformat_minor": 5
}
