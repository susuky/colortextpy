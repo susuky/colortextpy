{
 "cells": [
  {
   "cell_type": "markdown",
   "id": "6a1cce9e",
   "metadata": {},
   "source": [
    "#  Printer\n",
    "\n",
    "> Different color for python `print`, for example:  "
   ]
  },
  {
   "cell_type": "markdown",
   "id": "84fd698c",
   "metadata": {},
   "source": [
    "```python\n",
    "blue_print('blue text') # output blue text  \n",
    "red_print('red text', bold=True)   # output bold red text\n",
    "cyan_print('cyan text', file=sys.stderr) # output cyan text to sys.stderr\n",
    "```"
   ]
  },
  {
   "cell_type": "code",
   "execution_count": null,
   "id": "a9065e2c",
   "metadata": {},
   "outputs": [],
   "source": [
    "#| default_exp printer"
   ]
  },
  {
   "cell_type": "code",
   "execution_count": null,
   "id": "0ea18175",
   "metadata": {},
   "outputs": [],
   "source": [
    "#| hide\n",
    "from nbdev.showdoc import *\n",
    "from fastcore.utils import *"
   ]
  },
  {
   "cell_type": "code",
   "execution_count": null,
   "id": "e0f6b7d3",
   "metadata": {},
   "outputs": [],
   "source": [
    "#| export\n",
    "import sys\n",
    "\n",
    "from colortextpy.ansicolor import Fore, Back, Style\n",
    "\n",
    "\n",
    "def _create_printer(color):\n",
    "    name = f'{color}_print'\n",
    "    args = r\"*value, bold=False, sep=' ', end='\\n', file=sys.stdout, flush=False\"\n",
    "    document = f'''\n",
    "        Prints the values to a stream, or to sys.stdout by default with `Fore.{color}` color.\n",
    "\n",
    "        Parameters\n",
    "        ----------\n",
    "        bold: bool\n",
    "            whether to use bold font\n",
    "\n",
    "        file: \n",
    "            a file-like object (stream); defaults to the current sys.stdout.\n",
    "\n",
    "        sep: str  \n",
    "            string inserted between values, default a space.\n",
    "\n",
    "        end: str  \n",
    "            string appended after the last value, default a newline.\n",
    "\n",
    "        flush: bool \n",
    "            whether to forcibly flush the stream.\n",
    "\n",
    "    '''        \n",
    "    func_body = (\n",
    "    \"    prefix = Style['bold'] if bold else ''\\n\"\n",
    "    f\"    color = Fore['{color}']\\n\"\n",
    "    \"    text = sep.join(f'{f}' for f in value)\\n\"\n",
    "    \"    reset = Fore.reset_all\\n\"\n",
    "    \"    print(f'{prefix}{color}{text}{reset}', sep=sep, end=end, file=file, flush=flush)\"\n",
    "    )\n",
    "    exec('def {0}({1}):\\n    \"\"\"{2}\"\"\"\\n{3}'.format(name, args, document, func_body), globals())\n",
    "\n",
    "    \n",
    "available = []\n",
    "\n",
    "for color in Fore.available:\n",
    "    available.append(f'{color}_print')\n",
    "    _create_printer(color)\n",
    "    \n",
    "available = tuple(available)"
   ]
  },
  {
   "cell_type": "markdown",
   "id": "3903484c",
   "metadata": {},
   "source": [
    "Here are some example printer:"
   ]
  },
  {
   "cell_type": "code",
   "execution_count": null,
   "id": "72285d64",
   "metadata": {},
   "outputs": [
    {
     "data": {
      "text/markdown": [
       "---\n",
       "\n",
       "### blue_print\n",
       "\n",
       ">      blue_print (*value, bold=False, sep=' ', end='\\n',\n",
       ">                  file=<ipykernel.iostream.OutStream object>,\n",
       ">                  flush=False)\n",
       "\n",
       "Prints the values to a stream, or to sys.stdout by default with `Fore.blue` color."
      ],
      "text/plain": [
       "---\n",
       "\n",
       "### blue_print\n",
       "\n",
       ">      blue_print (*value, bold=False, sep=' ', end='\\n',\n",
       ">                  file=<ipykernel.iostream.OutStream object>,\n",
       ">                  flush=False)\n",
       "\n",
       "Prints the values to a stream, or to sys.stdout by default with `Fore.blue` color."
      ]
     },
     "execution_count": null,
     "metadata": {},
     "output_type": "execute_result"
    }
   ],
   "source": [
    "show_doc(blue_print)"
   ]
  },
  {
   "cell_type": "code",
   "execution_count": null,
   "id": "68da2671",
   "metadata": {},
   "outputs": [
    {
     "data": {
      "text/markdown": [
       "---\n",
       "\n",
       "### violet_print\n",
       "\n",
       ">      violet_print (*value, bold=False, sep=' ', end='\\n',\n",
       ">                    file=<ipykernel.iostream.OutStream object at\n",
       ">                    0x7f951206f400>, flush=False)\n",
       "\n",
       "Prints the values to a stream, or to sys.stdout by default with `Fore.violet` color."
      ],
      "text/plain": [
       "---\n",
       "\n",
       "### violet_print\n",
       "\n",
       ">      violet_print (*value, bold=False, sep=' ', end='\\n',\n",
       ">                    file=<ipykernel.iostream.OutStream object at\n",
       ">                    0x7f951206f400>, flush=False)\n",
       "\n",
       "Prints the values to a stream, or to sys.stdout by default with `Fore.violet` color."
      ]
     },
     "execution_count": null,
     "metadata": {},
     "output_type": "execute_result"
    }
   ],
   "source": [
    "show_doc(violet_print)"
   ]
  },
  {
   "cell_type": "code",
   "execution_count": null,
   "id": "afab4750",
   "metadata": {},
   "outputs": [
    {
     "data": {
      "text/markdown": [
       "---\n",
       "\n",
       "### yellow_print\n",
       "\n",
       ">      yellow_print (*value, bold=False, sep=' ', end='\\n',\n",
       ">                    file=<ipykernel.iostream.OutStream object at\n",
       ">                    0x7f951206f400>, flush=False)\n",
       "\n",
       "Prints the values to a stream, or to sys.stdout by default with `Fore.yellow` color."
      ],
      "text/plain": [
       "---\n",
       "\n",
       "### yellow_print\n",
       "\n",
       ">      yellow_print (*value, bold=False, sep=' ', end='\\n',\n",
       ">                    file=<ipykernel.iostream.OutStream object at\n",
       ">                    0x7f951206f400>, flush=False)\n",
       "\n",
       "Prints the values to a stream, or to sys.stdout by default with `Fore.yellow` color."
      ]
     },
     "execution_count": null,
     "metadata": {},
     "output_type": "execute_result"
    }
   ],
   "source": [
    "show_doc(yellow_print)"
   ]
  },
  {
   "cell_type": "markdown",
   "id": "ddf72d81",
   "metadata": {},
   "source": [
    "Here are other available printers:"
   ]
  },
  {
   "cell_type": "code",
   "execution_count": null,
   "id": "de6cb21d",
   "metadata": {},
   "outputs": [
    {
     "name": "stdout",
     "output_type": "stream",
     "text": [
      "\u001b[01m\u001b[38;2;240;248;255maliceblue_print\u001b[00m\n",
      "\u001b[01m\u001b[38;2;250;235;215mantiquewhite_print\u001b[00m\n",
      "\u001b[01m\u001b[38;2;0;255;255maqua_print\u001b[00m\n",
      "\u001b[01m\u001b[38;2;127;255;212maquamarine_print\u001b[00m\n",
      "\u001b[01m\u001b[38;2;240;255;255mazure_print\u001b[00m\n",
      "\u001b[01m\u001b[38;2;255;228;196mbisque_print\u001b[00m\n",
      "\u001b[01m\u001b[38;2;0;0;0mblack_print\u001b[00m\n",
      "\u001b[01m\u001b[38;2;255;235;205mblanchedalmond_print\u001b[00m\n",
      "\u001b[01m\u001b[38;2;0;0;255mblue_print\u001b[00m\n",
      "\u001b[01m\u001b[38;2;138;43;226mblueviolet_print\u001b[00m\n",
      "\u001b[01m\u001b[38;2;165;42;42mbrown_print\u001b[00m\n",
      "\u001b[01m\u001b[38;2;222;184;135mburlywood_print\u001b[00m\n",
      "\u001b[01m\u001b[38;2;95;158;160mcadetblue_print\u001b[00m\n",
      "\u001b[01m\u001b[38;2;127;255;0mchartreuse_print\u001b[00m\n",
      "\u001b[01m\u001b[38;2;210;105;30mchocolate_print\u001b[00m\n",
      "\u001b[01m\u001b[38;2;255;127;80mcoral_print\u001b[00m\n",
      "\u001b[01m\u001b[38;2;100;149;237mcornflowerblue_print\u001b[00m\n",
      "\u001b[01m\u001b[38;2;255;248;220mcornsilk_print\u001b[00m\n",
      "\u001b[01m\u001b[38;2;220;20;60mcrimson_print\u001b[00m\n",
      "\u001b[01m\u001b[38;2;0;255;255mcyan_print\u001b[00m\n",
      "\u001b[01m\u001b[38;2;0;255;255mc_print\u001b[00m\n",
      "\u001b[01m\u001b[38;2;0;0;139mdark_blue_print\u001b[00m\n",
      "\u001b[01m\u001b[38;2;0;139;139mdark_cyan_print\u001b[00m\n",
      "\u001b[01m\u001b[38;2;184;134;11mdark_goldenrod_print\u001b[00m\n",
      "\u001b[01m\u001b[38;2;169;169;169mdark_gray_print\u001b[00m\n",
      "\u001b[01m\u001b[38;2;0;100;0mdark_green_print\u001b[00m\n",
      "\u001b[01m\u001b[38;2;189;183;107mdark_khaki_print\u001b[00m\n",
      "\u001b[01m\u001b[38;2;139;0;139mdark_magenta_print\u001b[00m\n",
      "\u001b[01m\u001b[38;2;85;107;47mdark_olivegreen_print\u001b[00m\n",
      "\u001b[01m\u001b[38;2;255;140;0mdark_orange_print\u001b[00m\n",
      "\u001b[01m\u001b[38;2;153;50;204mdark_orchid_print\u001b[00m\n",
      "\u001b[01m\u001b[38;2;139;0;0mdark_red_print\u001b[00m\n",
      "\u001b[01m\u001b[38;2;233;150;122mdark_salmon_print\u001b[00m\n",
      "\u001b[01m\u001b[38;2;143;188;143mdark_seagreen_print\u001b[00m\n",
      "\u001b[01m\u001b[38;2;72;61;139mdark_slateblue_print\u001b[00m\n",
      "\u001b[01m\u001b[38;2;47;79;79mdark_slategray_print\u001b[00m\n",
      "\u001b[01m\u001b[38;2;0;206;209mdark_turquoise_print\u001b[00m\n",
      "\u001b[01m\u001b[38;2;148;0;211mdark_violet_print\u001b[00m\n",
      "\u001b[01m\u001b[38;2;255;20;147mdeep_pink_print\u001b[00m\n",
      "\u001b[01m\u001b[38;2;0;191;255mdeep_skyblue_print\u001b[00m\n",
      "\u001b[01m\u001b[38;2;105;105;105mdim_gray_print\u001b[00m\n",
      "\u001b[01m\u001b[38;2;30;144;255mdodgerblue_print\u001b[00m\n",
      "\u001b[01m\u001b[38;2;178;34;34mfirebrick_print\u001b[00m\n",
      "\u001b[01m\u001b[38;2;255;250;240mfloralwhite_print\u001b[00m\n",
      "\u001b[01m\u001b[38;2;34;139;34mforestgreen_print\u001b[00m\n",
      "\u001b[01m\u001b[38;2;255;0;255mfuchsia_print\u001b[00m\n",
      "\u001b[01m\u001b[38;2;220;220;220mgainsboro_print\u001b[00m\n",
      "\u001b[01m\u001b[38;2;248;248;255mghostwhite_print\u001b[00m\n",
      "\u001b[01m\u001b[38;2;255;215;0mgold_print\u001b[00m\n",
      "\u001b[01m\u001b[38;2;218;165;32mgoldenrod_print\u001b[00m\n",
      "\u001b[01m\u001b[38;2;128;128;128mgray_print\u001b[00m\n",
      "\u001b[01m\u001b[38;2;0;128;0mgreen_print\u001b[00m\n",
      "\u001b[01m\u001b[38;2;0;128;0mg_print\u001b[00m\n",
      "\u001b[01m\u001b[38;2;173;255;47mgreenyellow_print\u001b[00m\n",
      "\u001b[01m\u001b[38;2;240;255;240mhoneydew_print\u001b[00m\n",
      "\u001b[01m\u001b[38;2;255;105;180mhotpink_print\u001b[00m\n",
      "\u001b[01m\u001b[38;2;205;92;92mindianred_print\u001b[00m\n",
      "\u001b[01m\u001b[38;2;75;0;130mindigo_print\u001b[00m\n",
      "\u001b[01m\u001b[38;2;255;255;240mivory_print\u001b[00m\n",
      "\u001b[01m\u001b[38;2;240;230;140mkhaki_print\u001b[00m\n",
      "\u001b[01m\u001b[38;2;230;230;250mlavender_print\u001b[00m\n",
      "\u001b[01m\u001b[38;2;255;240;245mlavenderblush_print\u001b[00m\n",
      "\u001b[01m\u001b[38;2;124;252;0mlawngreen_print\u001b[00m\n",
      "\u001b[01m\u001b[38;2;255;250;205mlemonchiffon_print\u001b[00m\n",
      "\u001b[01m\u001b[38;2;173;216;230mlight_blue_print\u001b[00m\n",
      "\u001b[01m\u001b[38;2;240;128;128mlight_coral_print\u001b[00m\n",
      "\u001b[01m\u001b[38;2;224;255;255mlight_cyan_print\u001b[00m\n",
      "\u001b[01m\u001b[38;2;250;250;210mlight_goldenrodyellow_print\u001b[00m\n",
      "\u001b[01m\u001b[38;2;144;238;144mlight_green_print\u001b[00m\n",
      "\u001b[01m\u001b[38;2;211;211;211mlight_grey_print\u001b[00m\n",
      "\u001b[01m\u001b[38;2;255;182;193mlight_pink_print\u001b[00m\n",
      "\u001b[01m\u001b[38;2;255;160;122mlight_salmon_print\u001b[00m\n",
      "\u001b[01m\u001b[38;2;32;178;170mlight_seagreen_print\u001b[00m\n",
      "\u001b[01m\u001b[38;2;135;206;250mlight_skyblue_print\u001b[00m\n",
      "\u001b[01m\u001b[38;2;119;136;153mlight_slategray_print\u001b[00m\n",
      "\u001b[01m\u001b[38;2;176;196;222mlight_steelblue_print\u001b[00m\n",
      "\u001b[01m\u001b[38;2;255;255;224mlight_yellow_print\u001b[00m\n",
      "\u001b[01m\u001b[38;2;0;255;0mlime_print\u001b[00m\n",
      "\u001b[01m\u001b[38;2;50;205;50mlimegreen_print\u001b[00m\n",
      "\u001b[01m\u001b[38;2;250;240;230mlinen_print\u001b[00m\n",
      "\u001b[01m\u001b[38;2;255;0;255mmagenta_print\u001b[00m\n",
      "\u001b[01m\u001b[38;2;128;0;0mmaroon_print\u001b[00m\n",
      "\u001b[01m\u001b[38;2;102;205;170mmedium_aquamarine_print\u001b[00m\n",
      "\u001b[01m\u001b[38;2;0;0;205mmedium_blue_print\u001b[00m\n",
      "\u001b[01m\u001b[38;2;186;85;211mmedium_orchid_print\u001b[00m\n",
      "\u001b[01m\u001b[38;2;147;112;219mmedium_purple_print\u001b[00m\n",
      "\u001b[01m\u001b[38;2;60;179;113mmedium_seagreen_print\u001b[00m\n",
      "\u001b[01m\u001b[38;2;123;104;238mmedium_slateblue_print\u001b[00m\n",
      "\u001b[01m\u001b[38;2;0;250;154mmedium_springgreen_print\u001b[00m\n",
      "\u001b[01m\u001b[38;2;72;209;204mmedium_turquoise_print\u001b[00m\n",
      "\u001b[01m\u001b[38;2;199;21;133mmedium_violetred_print\u001b[00m\n",
      "\u001b[01m\u001b[38;2;25;25;112mmidnightblue_print\u001b[00m\n",
      "\u001b[01m\u001b[38;2;245;255;250mmintcream_print\u001b[00m\n",
      "\u001b[01m\u001b[38;2;255;228;225mmistyrose_print\u001b[00m\n",
      "\u001b[01m\u001b[38;2;255;228;181mmoccasin_print\u001b[00m\n",
      "\u001b[01m\u001b[38;2;255;222;173mnavajowhite_print\u001b[00m\n",
      "\u001b[01m\u001b[38;2;0;0;128mnavy_print\u001b[00m\n",
      "\u001b[01m\u001b[38;2;253;245;230moldlace_print\u001b[00m\n",
      "\u001b[01m\u001b[38;2;128;128;0molive_print\u001b[00m\n",
      "\u001b[01m\u001b[38;2;107;142;35molivedrab_print\u001b[00m\n",
      "\u001b[01m\u001b[38;2;255;165;0morange_print\u001b[00m\n",
      "\u001b[01m\u001b[38;2;255;69;0morangered_print\u001b[00m\n",
      "\u001b[01m\u001b[38;2;218;112;214morchid_print\u001b[00m\n",
      "\u001b[01m\u001b[38;2;238;232;170mpalegoldenrod_print\u001b[00m\n",
      "\u001b[01m\u001b[38;2;152;251;152mpalegreen_print\u001b[00m\n",
      "\u001b[01m\u001b[38;2;175;238;238mpaleturquoise_print\u001b[00m\n",
      "\u001b[01m\u001b[38;2;219;112;147mpalevioletred_print\u001b[00m\n",
      "\u001b[01m\u001b[38;2;255;239;213mpapayawhip_print\u001b[00m\n",
      "\u001b[01m\u001b[38;2;255;218;185mpeachpuff_print\u001b[00m\n",
      "\u001b[01m\u001b[38;2;205;133;63mperu_print\u001b[00m\n",
      "\u001b[01m\u001b[38;2;255;192;203mpink_print\u001b[00m\n",
      "\u001b[01m\u001b[38;2;221;160;221mplum_print\u001b[00m\n",
      "\u001b[01m\u001b[38;2;176;224;230mpowderblue_print\u001b[00m\n",
      "\u001b[01m\u001b[38;2;128;0;128mpurple_print\u001b[00m\n",
      "\u001b[01m\u001b[38;2;255;0;0mred_print\u001b[00m\n",
      "\u001b[01m\u001b[38;2;255;0;0mr_print\u001b[00m\n",
      "\u001b[01m\u001b[38;2;188;143;143mrosybrown_print\u001b[00m\n",
      "\u001b[01m\u001b[38;2;65;105;225mroyalblue_print\u001b[00m\n",
      "\u001b[01m\u001b[38;2;139;69;19msaddlebrown_print\u001b[00m\n",
      "\u001b[01m\u001b[38;2;250;128;114msalmon_print\u001b[00m\n",
      "\u001b[01m\u001b[38;2;244;164;96msandybrown_print\u001b[00m\n",
      "\u001b[01m\u001b[38;2;46;139;87mseagreen_print\u001b[00m\n",
      "\u001b[01m\u001b[38;2;255;245;238mseashell_print\u001b[00m\n",
      "\u001b[01m\u001b[38;2;160;82;45msienna_print\u001b[00m\n",
      "\u001b[01m\u001b[38;2;192;192;192msilver_print\u001b[00m\n",
      "\u001b[01m\u001b[38;2;135;206;235mskyblue_print\u001b[00m\n",
      "\u001b[01m\u001b[38;2;106;90;205mslateblue_print\u001b[00m\n",
      "\u001b[01m\u001b[38;2;112;128;144mslategray_print\u001b[00m\n",
      "\u001b[01m\u001b[38;2;255;250;250msnow_print\u001b[00m\n",
      "\u001b[01m\u001b[38;2;0;255;127mspringgreen_print\u001b[00m\n",
      "\u001b[01m\u001b[38;2;70;130;180msteelblue_print\u001b[00m\n",
      "\u001b[01m\u001b[38;2;210;180;140mtan_print\u001b[00m\n",
      "\u001b[01m\u001b[38;2;0;128;128mteal_print\u001b[00m\n",
      "\u001b[01m\u001b[38;2;216;191;216mthistle_print\u001b[00m\n",
      "\u001b[01m\u001b[38;2;255;99;71mtomato_print\u001b[00m\n",
      "\u001b[01m\u001b[38;2;64;224;208mturquoise_print\u001b[00m\n",
      "\u001b[01m\u001b[38;2;238;130;238mviolet_print\u001b[00m\n",
      "\u001b[01m\u001b[38;2;245;222;179mwheat_print\u001b[00m\n",
      "\u001b[01m\u001b[38;2;255;255;255mwhite_print\u001b[00m\n",
      "\u001b[01m\u001b[38;2;255;255;255mw_print\u001b[00m\n",
      "\u001b[01m\u001b[38;2;245;245;245mwhitesmoke_print\u001b[00m\n",
      "\u001b[01m\u001b[38;2;255;255;0myellow_print\u001b[00m\n",
      "\u001b[01m\u001b[38;2;255;255;0my_print\u001b[00m\n"
     ]
    }
   ],
   "source": [
    "#| echo: false\n",
    "for printer in available:\n",
    "    globals()[printer](printer, bold=True)"
   ]
  },
  {
   "cell_type": "code",
   "execution_count": null,
   "id": "6558c704",
   "metadata": {},
   "outputs": [],
   "source": [
    "#| hide\n",
    "import nbdev; nbdev.nbdev_export()"
   ]
  },
  {
   "cell_type": "code",
   "execution_count": null,
   "id": "c5fc7a46",
   "metadata": {},
   "outputs": [],
   "source": []
  }
 ],
 "metadata": {
  "kernelspec": {
   "display_name": "python3",
   "language": "python",
   "name": "python3"
  }
 },
 "nbformat": 4,
 "nbformat_minor": 5
}
