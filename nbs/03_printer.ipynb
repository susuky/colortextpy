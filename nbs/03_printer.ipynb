{
 "cells": [
  {
   "cell_type": "markdown",
   "id": "6a1cce9e",
   "metadata": {},
   "source": [
    "#  Printer\n",
    "\n",
    "> Different color for python `print`, for example:  "
   ]
  },
  {
   "cell_type": "markdown",
   "id": "84fd698c",
   "metadata": {},
   "source": [
    "```python\n",
    "colorprint('violet text', color=Fore.violet)\n",
    "colorprint('brown text', color='brown', bold=True)\n",
    "\n",
    "Printer.blue_print('blue text') # output blue text  \n",
    "Printer.red_print('red text', bold=True)   # output bold red text\n",
    "Printer.cyan_print('cyan text', file=sys.stderr) # output cyan text to sys.stderr\n",
    "```"
   ]
  },
  {
   "cell_type": "code",
   "execution_count": null,
   "id": "a9065e2c",
   "metadata": {},
   "outputs": [],
   "source": [
    "#| default_exp printer"
   ]
  },
  {
   "cell_type": "code",
   "execution_count": null,
   "id": "0ea18175",
   "metadata": {},
   "outputs": [],
   "source": [
    "#| hide\n",
    "from nbdev.showdoc import *\n",
    "from fastcore.utils import *\n",
    "from colortextpy import colorize, Back, Color"
   ]
  },
  {
   "cell_type": "code",
   "execution_count": null,
   "id": "3cf49887",
   "metadata": {},
   "outputs": [],
   "source": [
    "#| export\n",
    "import sys\n",
    "\n",
    "from colortextpy import colorize, Fore\n",
    "\n",
    "\n",
    "def colorprint(*value, color=None, background=None, bold=False, sep=' ', end='\\n', file=sys.stdout, flush=False):\n",
    "    '''\n",
    "    Prints the values to a stream, or to sys.stdout by default with `Fore.color` color.\n",
    "\n",
    "    Parameters\n",
    "    ----------\n",
    "    color : str, Fore,\n",
    "        Text color. Acceptable format: 'red', Fore.red, '#ff0000', (255, 0, 0)\n",
    "    \n",
    "    background : str, Fore,\n",
    "        background color. Acceptable format: 'red', Back.red, '#ff0000', (255, 0, 0)    \n",
    "    \n",
    "    bold : bool\n",
    "        Whether to use bold font\n",
    "\n",
    "    file : \n",
    "        A file-like object (stream); defaults to the current sys.stdout.\n",
    "\n",
    "    sep : str  \n",
    "        String inserted between values, default a space.\n",
    "\n",
    "    end : str  \n",
    "        String appended after the last value, default a newline.\n",
    "\n",
    "    flush : bool \n",
    "        Whether to forcibly flush the stream.\n",
    "    '''\n",
    "    \n",
    "    text = sep.join(f'{f}' for f in value)\n",
    "    print(\n",
    "        colorize(text, fore=color, back=background, style='bold' if bold else ''), \n",
    "        sep=sep, \n",
    "        end=end, \n",
    "        file=file, \n",
    "        flush=flush\n",
    "    )\n",
    "\n",
    "class _Printer:\n",
    "    def __init__(self):\n",
    "        available = []\n",
    "        for color in Fore.available:\n",
    "            available.append(f'{color}_print')\n",
    "            self._create_printer(color)\n",
    "\n",
    "        self.available = tuple(available)\n",
    "\n",
    "            \n",
    "    def _create_printer(self, color):\n",
    "        name = f'{color}_print'\n",
    "        args = r\"*value, bold=False, sep=' ', end='\\n', file=sys.stdout, flush=False\"\n",
    "        document = f'''\n",
    "            Prints the values to a stream, or to sys.stdout by default with `Fore.{color}` color.\n",
    "\n",
    "            Parameters\n",
    "            ----------\n",
    "            bold: bool\n",
    "                whether to use bold font\n",
    "\n",
    "            file: \n",
    "                a file-like object (stream); defaults to the current sys.stdout.\n",
    "\n",
    "            sep: str  \n",
    "                string inserted between values, default a space.\n",
    "\n",
    "            end: str  \n",
    "                string appended after the last value, default a newline.\n",
    "\n",
    "            flush: bool \n",
    "                whether to forcibly flush the stream.\n",
    "\n",
    "        '''        \n",
    "        func_body = (\n",
    "        \"    text = sep.join(f'{f}' for f in value)\\n\"\n",
    "        f\"    print(colorize(text, fore='{color}', style='bold' if bold else ''), sep=sep, end=end, file=file, flush=flush)\"\n",
    "        )\n",
    "        exec('def {0}({1}):\\n    \"\"\"{2}\"\"\"\\n{3}'.format(name, args, document, func_body))\n",
    "        setattr(self, name, locals()[name])\n",
    "        \n",
    "    def __repr__(self):\n",
    "        return 'Printer'\n",
    "    \n",
    "Printer = _Printer()"
   ]
  },
  {
   "cell_type": "code",
   "execution_count": null,
   "id": "0cd1614c",
   "metadata": {},
   "outputs": [
    {
     "data": {
      "text/markdown": [
       "---\n",
       "\n",
       "### Printer\n",
       "\n"
      ],
      "text/plain": [
       "---\n",
       "\n",
       "### Printer\n"
      ]
     },
     "execution_count": null,
     "metadata": {},
     "output_type": "execute_result"
    }
   ],
   "source": [
    "show_doc(Printer)"
   ]
  },
  {
   "cell_type": "markdown",
   "id": "3903484c",
   "metadata": {},
   "source": [
    "Here are some example printer:"
   ]
  },
  {
   "cell_type": "code",
   "execution_count": null,
   "id": "72285d64",
   "metadata": {},
   "outputs": [
    {
     "data": {
      "text/markdown": [
       "---\n",
       "\n",
       "### blue_print\n",
       "\n",
       ">      blue_print (*value, bold=False, sep=' ', end='\\n',\n",
       ">                  file=<ipykernel.iostream.OutStream object>,\n",
       ">                  flush=False)\n",
       "\n",
       "Prints the values to a stream, or to sys.stdout by default with `Fore.blue` color."
      ],
      "text/plain": [
       "---\n",
       "\n",
       "### blue_print\n",
       "\n",
       ">      blue_print (*value, bold=False, sep=' ', end='\\n',\n",
       ">                  file=<ipykernel.iostream.OutStream object>,\n",
       ">                  flush=False)\n",
       "\n",
       "Prints the values to a stream, or to sys.stdout by default with `Fore.blue` color."
      ]
     },
     "execution_count": null,
     "metadata": {},
     "output_type": "execute_result"
    }
   ],
   "source": [
    "show_doc(Printer.blue_print)"
   ]
  },
  {
   "cell_type": "code",
   "execution_count": null,
   "id": "68da2671",
   "metadata": {},
   "outputs": [
    {
     "data": {
      "text/markdown": [
       "---\n",
       "\n",
       "### violet_print\n",
       "\n",
       ">      violet_print (*value, bold=False, sep=' ', end='\\n',\n",
       ">                    file=<ipykernel.iostream.OutStream object at\n",
       ">                    0x7f2dabebfb80>, flush=False)\n",
       "\n",
       "Prints the values to a stream, or to sys.stdout by default with `Fore.violet` color."
      ],
      "text/plain": [
       "---\n",
       "\n",
       "### violet_print\n",
       "\n",
       ">      violet_print (*value, bold=False, sep=' ', end='\\n',\n",
       ">                    file=<ipykernel.iostream.OutStream object at\n",
       ">                    0x7f2dabebfb80>, flush=False)\n",
       "\n",
       "Prints the values to a stream, or to sys.stdout by default with `Fore.violet` color."
      ]
     },
     "execution_count": null,
     "metadata": {},
     "output_type": "execute_result"
    }
   ],
   "source": [
    "show_doc(Printer.violet_print)"
   ]
  },
  {
   "cell_type": "code",
   "execution_count": null,
   "id": "afab4750",
   "metadata": {},
   "outputs": [
    {
     "data": {
      "text/markdown": [
       "---\n",
       "\n",
       "### yellow_print\n",
       "\n",
       ">      yellow_print (*value, bold=False, sep=' ', end='\\n',\n",
       ">                    file=<ipykernel.iostream.OutStream object at\n",
       ">                    0x7f2dabebfb80>, flush=False)\n",
       "\n",
       "Prints the values to a stream, or to sys.stdout by default with `Fore.yellow` color."
      ],
      "text/plain": [
       "---\n",
       "\n",
       "### yellow_print\n",
       "\n",
       ">      yellow_print (*value, bold=False, sep=' ', end='\\n',\n",
       ">                    file=<ipykernel.iostream.OutStream object at\n",
       ">                    0x7f2dabebfb80>, flush=False)\n",
       "\n",
       "Prints the values to a stream, or to sys.stdout by default with `Fore.yellow` color."
      ]
     },
     "execution_count": null,
     "metadata": {},
     "output_type": "execute_result"
    }
   ],
   "source": [
    "show_doc(Printer.yellow_print)"
   ]
  },
  {
   "cell_type": "markdown",
   "id": "ddf72d81",
   "metadata": {},
   "source": [
    "Here are other available printers:"
   ]
  },
  {
   "cell_type": "code",
   "execution_count": null,
   "id": "68a3d2e5",
   "metadata": {},
   "outputs": [],
   "source": [
    "#| output: false\n",
    "#| code-fold: true\n",
    "\n",
    "def _get_background(name):\n",
    "    color = name[:-6]\n",
    "    background = (\n",
    "        Back['75, 70, 75'] \n",
    "        if sum(Color[color].rgb) / 3 > 165 else \n",
    "        Back['240, 250, 250']\n",
    "    )\n",
    "    return background\n",
    "\n",
    "\n",
    "for i, printer in enumerate(Printer.available, 1):\n",
    "    end = '\\n' if i%3 == 0 else '\\t'\n",
    "    background = _get_background(printer)\n",
    "    print(background, end='')\n",
    "    getattr(Printer, printer)(f'{printer:28}', bold=True, end=end)"
   ]
  },
  {
   "cell_type": "markdown",
   "id": "a8bf44cd",
   "metadata": {},
   "source": [
    "![](images/print-0.png)"
   ]
  },
  {
   "cell_type": "code",
   "execution_count": null,
   "id": "0fc717fe",
   "metadata": {},
   "outputs": [
    {
     "data": {
      "text/markdown": [
       "---\n",
       "\n",
       "[source](https://github.com/susuky/colortextpy/blob/main/colortextpy/printer.py#L12){target=\"_blank\" style=\"float:right; font-size:smaller\"}\n",
       "\n",
       "### colorprint\n",
       "\n",
       ">      colorprint (*value, color=None, background=None, bold=False, sep=' ',\n",
       ">                  end='\\n', file=<ipykernel.iostream.OutStream object at\n",
       ">                  0x7f2dabebfb80>, flush=False)\n",
       "\n",
       "Prints the values to a stream, or to sys.stdout by default with `Fore.color` color.\n",
       "\n",
       "|    | **Type** | **Default** | **Details** |\n",
       "| -- | -------- | ----------- | ----------- |\n",
       "| value |  |  |  |\n",
       "| color | NoneType | None | Text color. Acceptable format: 'red', Fore.red, '#ff0000', (255, 0, 0) |\n",
       "| background | NoneType | None | background color. Acceptable format: 'red', Back.red, '#ff0000', (255, 0, 0)     |\n",
       "| bold | bool | False | Whether to use bold font |\n",
       "| sep | str |   | String inserted between values, default a space. |\n",
       "| end | str | <br> | String appended after the last value, default a newline. |\n",
       "| file | OutStream | <ipykernel.iostream.OutStream object> | A file-like object (stream); defaults to the current sys.stdout. |\n",
       "| flush | bool | False | Whether to forcibly flush the stream. |"
      ],
      "text/plain": [
       "---\n",
       "\n",
       "[source](https://github.com/susuky/colortextpy/blob/main/colortextpy/printer.py#L12){target=\"_blank\" style=\"float:right; font-size:smaller\"}\n",
       "\n",
       "### colorprint\n",
       "\n",
       ">      colorprint (*value, color=None, background=None, bold=False, sep=' ',\n",
       ">                  end='\\n', file=<ipykernel.iostream.OutStream object at\n",
       ">                  0x7f2dabebfb80>, flush=False)\n",
       "\n",
       "Prints the values to a stream, or to sys.stdout by default with `Fore.color` color.\n",
       "\n",
       "|    | **Type** | **Default** | **Details** |\n",
       "| -- | -------- | ----------- | ----------- |\n",
       "| value |  |  |  |\n",
       "| color | NoneType | None | Text color. Acceptable format: 'red', Fore.red, '#ff0000', (255, 0, 0) |\n",
       "| background | NoneType | None | background color. Acceptable format: 'red', Back.red, '#ff0000', (255, 0, 0)     |\n",
       "| bold | bool | False | Whether to use bold font |\n",
       "| sep | str |   | String inserted between values, default a space. |\n",
       "| end | str | <br> | String appended after the last value, default a newline. |\n",
       "| file | OutStream | <ipykernel.iostream.OutStream object> | A file-like object (stream); defaults to the current sys.stdout. |\n",
       "| flush | bool | False | Whether to forcibly flush the stream. |"
      ]
     },
     "execution_count": null,
     "metadata": {},
     "output_type": "execute_result"
    }
   ],
   "source": [
    "show_doc(colorprint)"
   ]
  },
  {
   "cell_type": "code",
   "execution_count": null,
   "id": "4d833823",
   "metadata": {},
   "outputs": [],
   "source": [
    "#| output: false\n",
    "colorprint('default')\n",
    "colorprint('#ff3567', color='#ff3567')\n",
    "colorprint('#123456', color=Fore['#123456'])\n",
    "colorprint(4, color=4)\n",
    "colorprint(137, color=Fore['137'])\n",
    "colorprint('(50, 234, 33)', color=(50, 234, 33))\n",
    "colorprint('(50, 24, 133)', color='(50, 24, 133)')\n",
    "colorprint('dark_green', color=Fore.dark_green)\n",
    "\n",
    "colorprint('violet', background='violet', bold=False)\n",
    "colorprint('violet', background='violet', bold=True)\n",
    "colorprint('violet', color=Fore.green, background='violet', bold=True)"
   ]
  },
  {
   "cell_type": "markdown",
   "id": "2d642b82",
   "metadata": {},
   "source": [
    "![](images/print-1.png)"
   ]
  },
  {
   "cell_type": "code",
   "execution_count": null,
   "id": "6558c704",
   "metadata": {},
   "outputs": [],
   "source": [
    "#| hide\n",
    "import nbdev; nbdev.nbdev_export()"
   ]
  },
  {
   "cell_type": "code",
   "execution_count": null,
   "id": "cd042db3",
   "metadata": {},
   "outputs": [],
   "source": []
  },
  {
   "cell_type": "code",
   "execution_count": null,
   "id": "32df0b56",
   "metadata": {},
   "outputs": [],
   "source": []
  },
  {
   "cell_type": "code",
   "execution_count": null,
   "id": "bf6252f0",
   "metadata": {},
   "outputs": [],
   "source": []
  }
 ],
 "metadata": {
  "kernelspec": {
   "display_name": "python3",
   "language": "python",
   "name": "python3"
  }
 },
 "nbformat": 4,
 "nbformat_minor": 5
}
