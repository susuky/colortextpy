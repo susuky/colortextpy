{
 "cells": [
  {
   "cell_type": "markdown",
   "metadata": {},
   "source": [
    "# color\n",
    "\n",
    "> Use `enum.Enum` to store color with hex, rgb, bgr format."
   ]
  },
  {
   "cell_type": "code",
   "execution_count": null,
   "metadata": {},
   "outputs": [],
   "source": [
    "#| default_exp color"
   ]
  },
  {
   "cell_type": "code",
   "execution_count": null,
   "metadata": {},
   "outputs": [],
   "source": [
    "#| hide\n",
    "import matplotlib.pyplot as plt\n",
    "\n",
    "from nbdev.showdoc import *\n",
    "from fastcore.utils import *"
   ]
  },
  {
   "cell_type": "code",
   "execution_count": null,
   "metadata": {},
   "outputs": [],
   "source": [
    "#| export\n",
    "import enum\n",
    "\n",
    "__all__ = ['Color']\n",
    "\n",
    "class EnumMeta(enum.Enum):\n",
    "    '''\n",
    "    Add some custom members for `enum.Enum`\n",
    "    '''\n",
    "    def __repr__(self):\n",
    "        return '<%s.%s>' % (self.__class__.__name__, self.name)\n",
    "    \n",
    "    def __str__(self):\n",
    "        return self.name.lower()\n",
    "    \n",
    "    @property\n",
    "    def str(self):\n",
    "        return self.name.lower()\n",
    "    \n",
    "    @classmethod\n",
    "    @property\n",
    "    def available(cls):\n",
    "        return tuple(cls.__members__.keys())\n",
    "\n",
    "\n",
    "class Color(EnumMeta):\n",
    "    '''\n",
    "    Use enum.Enum to store color with **hex**, **rgb**, **bgr** format.\n",
    "    '''\n",
    "    aliceblue             = (  0, '#f0f8ff', (240, 248, 255), (255, 248, 240))\n",
    "    antiquewhite          = (  1, '#faebd7', (250, 235, 215), (215, 235, 250))\n",
    "    aqua                  = (  2, '#00ffff', (0, 255, 255), (255, 255, 0))\n",
    "    aquamarine            = (  3, '#7fffd4', (127, 255, 212), (212, 255, 127))\n",
    "    azure                 = (  4, '#f0ffff', (240, 255, 255), (255, 255, 240))\n",
    "    bisque                = (  5, '#ffe4c4', (255, 228, 196), (196, 228, 255))\n",
    "    black                 = (  6, '#000000', (0, 0, 0), (0, 0, 0))\n",
    "    blanchedalmond        = (  7, '#ffebcd', (255, 235, 205), (205, 235, 255))\n",
    "    blue                  = (  8, '#0000ff', (0, 0, 255), (255, 0, 0))\n",
    "    blueviolet            = (  9, '#8a2be2', (138, 43, 226), (226, 43, 138))\n",
    "    brown                 = ( 10, '#a52a2a', (165, 42, 42), (42, 42, 165))\n",
    "    burlywood             = ( 11, '#deb887', (222, 184, 135), (135, 184, 222))\n",
    "    cadetblue             = ( 12, '#5f9ea0', (95, 158, 160), (160, 158, 95))\n",
    "    chartreuse            = ( 13, '#7fff00', (127, 255, 0), (0, 255, 127))\n",
    "    chocolate             = ( 14, '#d2691e', (210, 105, 30), (30, 105, 210))\n",
    "    coral                 = ( 15, '#ff7f50', (255, 127, 80), (80, 127, 255))\n",
    "    cornflowerblue        = ( 16, '#6495ed', (100, 149, 237), (237, 149, 100))\n",
    "    cornsilk              = ( 17, '#fff8dc', (255, 248, 220), (220, 248, 255))\n",
    "    crimson               = ( 18, '#dc143c', (220, 20, 60), (60, 20, 220))\n",
    "    cyan                  = ( 19, '#00ffff', (0, 255, 255), (255, 255, 0))\n",
    "    c                     = ( 19, '#00ffff', (0, 255, 255), (255, 255, 0))\n",
    "    dark_blue             = ( 20, '#00008b', (0, 0, 139), (139, 0, 0))\n",
    "    dark_cyan             = ( 21, '#008b8b', (0, 139, 139), (139, 139, 0))\n",
    "    dark_goldenrod        = ( 22, '#b8860b', (184, 134, 11), (11, 134, 184))\n",
    "    dark_gray             = ( 23, '#a9a9a9', (169, 169, 169), (169, 169, 169))\n",
    "    dark_green            = ( 24, '#006400', (0, 100, 0), (0, 100, 0))\n",
    "    dark_khaki            = ( 25, '#bdb76b', (189, 183, 107), (107, 183, 189))\n",
    "    dark_magenta          = ( 26, '#8b008b', (139, 0, 139), (139, 0, 139))\n",
    "    dark_olivegreen       = ( 27, '#556b2f', (85, 107, 47), (47, 107, 85))\n",
    "    dark_orange           = ( 28, '#ff8c00', (255, 140, 0), (0, 140, 255))\n",
    "    dark_orchid           = ( 29, '#9932cc', (153, 50, 204), (204, 50, 153))\n",
    "    dark_red              = ( 30, '#8b0000', (139, 0, 0), (0, 0, 139))\n",
    "    dark_salmon           = ( 31, '#e9967a', (233, 150, 122), (122, 150, 233))\n",
    "    dark_seagreen         = ( 32, '#8fbc8f', (143, 188, 143), (143, 188, 143))\n",
    "    dark_slateblue        = ( 33, '#483d8b', (72, 61, 139), (139, 61, 72))\n",
    "    dark_slategray        = ( 34, '#2f4f4f', (47, 79, 79), (79, 79, 47))\n",
    "    dark_turquoise        = ( 35, '#00ced1', (0, 206, 209), (209, 206, 0))\n",
    "    dark_violet           = ( 36, '#9400d3', (148, 0, 211), (211, 0, 148))\n",
    "    deep_pink             = ( 37, '#ff1493', (255, 20, 147), (147, 20, 255))\n",
    "    deep_skyblue          = ( 38, '#00bfff', (0, 191, 255), (255, 191, 0))\n",
    "    dim_gray              = ( 39, '#696969', (105, 105, 105), (105, 105, 105))\n",
    "    dodgerblue            = ( 40, '#1e90ff', (30, 144, 255), (255, 144, 30))\n",
    "    firebrick             = ( 41, '#b22222', (178, 34, 34), (34, 34, 178))\n",
    "    floralwhite           = ( 42, '#fffaf0', (255, 250, 240), (240, 250, 255))\n",
    "    forestgreen           = ( 43, '#228b22', (34, 139, 34), (34, 139, 34))\n",
    "    fuchsia               = ( 44, '#ff00ff', (255, 0, 255), (255, 0, 255))\n",
    "    gainsboro             = ( 45, '#dcdcdc', (220, 220, 220), (220, 220, 220))\n",
    "    ghostwhite            = ( 46, '#f8f8ff', (248, 248, 255), (255, 248, 248))\n",
    "    gold                  = ( 47, '#ffd700', (255, 215, 0), (0, 215, 255))\n",
    "    goldenrod             = ( 48, '#daa520', (218, 165, 32), (32, 165, 218))\n",
    "    gray                  = ( 49, '#808080', (128, 128, 128), (128, 128, 128))\n",
    "    green                 = ( 50, '#008000', (0, 128, 0), (0, 128, 0))\n",
    "    g                     = ( 50, '#008000', (0, 128, 0), (0, 128, 0))\n",
    "    greenyellow           = ( 51, '#adff2f', (173, 255, 47), (47, 255, 173))\n",
    "    honeydew              = ( 52, '#f0fff0', (240, 255, 240), (240, 255, 240))\n",
    "    hotpink               = ( 53, '#ff69b4', (255, 105, 180), (180, 105, 255))\n",
    "    indianred             = ( 54, '#cd5c5c', (205, 92, 92), (92, 92, 205))\n",
    "    indigo                = ( 55, '#4b0082', (75, 0, 130), (130, 0, 75))\n",
    "    ivory                 = ( 56, '#fffff0', (255, 255, 240), (240, 255, 255))\n",
    "    khaki                 = ( 57, '#f0e68c', (240, 230, 140), (140, 230, 240))\n",
    "    lavender              = ( 58, '#e6e6fa', (230, 230, 250), (250, 230, 230))\n",
    "    lavenderblush         = ( 59, '#fff0f5', (255, 240, 245), (245, 240, 255))\n",
    "    lawngreen             = ( 60, '#7cfc00', (124, 252, 0), (0, 252, 124))\n",
    "    lemonchiffon          = ( 61, '#fffacd', (255, 250, 205), (205, 250, 255))\n",
    "    light_blue            = ( 62, '#add8e6', (173, 216, 230), (230, 216, 173))\n",
    "    light_coral           = ( 63, '#f08080', (240, 128, 128), (128, 128, 240))\n",
    "    light_cyan            = ( 64, '#e0ffff', (224, 255, 255), (255, 255, 224))\n",
    "    light_goldenrodyellow = ( 65, '#fafad2', (250, 250, 210), (210, 250, 250))\n",
    "    light_green           = ( 66, '#90ee90', (144, 238, 144), (144, 238, 144))\n",
    "    light_grey            = ( 67, '#d3d3d3', (211, 211, 211), (211, 211, 211))\n",
    "    light_pink            = ( 68, '#ffb6c1', (255, 182, 193), (193, 182, 255))\n",
    "    light_salmon          = ( 69, '#ffa07a', (255, 160, 122), (122, 160, 255))\n",
    "    light_seagreen        = ( 70, '#20b2aa', (32, 178, 170), (170, 178, 32))\n",
    "    light_skyblue         = ( 71, '#87cefa', (135, 206, 250), (250, 206, 135))\n",
    "    light_slategray       = ( 72, '#778899', (119, 136, 153), (153, 136, 119))\n",
    "    light_steelblue       = ( 73, '#b0c4de', (176, 196, 222), (222, 196, 176))\n",
    "    light_yellow          = ( 74, '#ffffe0', (255, 255, 224), (224, 255, 255))\n",
    "    lime                  = ( 75, '#00ff00', (0, 255, 0), (0, 255, 0))\n",
    "    limegreen             = ( 76, '#32cd32', (50, 205, 50), (50, 205, 50))\n",
    "    linen                 = ( 77, '#faf0e6', (250, 240, 230), (230, 240, 250))\n",
    "    magenta               = ( 78, '#ff00ff', (255, 0, 255), (255, 0, 255))\n",
    "    maroon                = ( 79, '#800000', (128, 0, 0), (0, 0, 128))\n",
    "    medium_aquamarine     = ( 80, '#66cdaa', (102, 205, 170), (170, 205, 102))\n",
    "    medium_blue           = ( 81, '#0000cd', (0, 0, 205), (205, 0, 0))\n",
    "    medium_orchid         = ( 82, '#ba55d3', (186, 85, 211), (211, 85, 186))\n",
    "    medium_purple         = ( 83, '#9370db', (147, 112, 219), (219, 112, 147))\n",
    "    medium_seagreen       = ( 84, '#3cb371', (60, 179, 113), (113, 179, 60))\n",
    "    medium_slateblue      = ( 85, '#7b68ee', (123, 104, 238), (238, 104, 123))\n",
    "    medium_springgreen    = ( 86, '#00fa9a', (0, 250, 154), (154, 250, 0))\n",
    "    medium_turquoise      = ( 87, '#48d1cc', (72, 209, 204), (204, 209, 72))\n",
    "    medium_violetred      = ( 88, '#c71585', (199, 21, 133), (133, 21, 199))\n",
    "    midnightblue          = ( 89, '#191970', (25, 25, 112), (112, 25, 25))\n",
    "    mintcream             = ( 90, '#f5fffa', (245, 255, 250), (250, 255, 245))\n",
    "    mistyrose             = ( 91, '#ffe4e1', (255, 228, 225), (225, 228, 255))\n",
    "    moccasin              = ( 92, '#ffe4b5', (255, 228, 181), (181, 228, 255))\n",
    "    navajowhite           = ( 93, '#ffdead', (255, 222, 173), (173, 222, 255))\n",
    "    navy                  = ( 94, '#000080', (0, 0, 128), (128, 0, 0))\n",
    "    oldlace               = ( 95, '#fdf5e6', (253, 245, 230), (230, 245, 253))\n",
    "    olive                 = ( 96, '#808000', (128, 128, 0), (0, 128, 128))\n",
    "    olivedrab             = ( 97, '#6b8e23', (107, 142, 35), (35, 142, 107))\n",
    "    orange                = ( 98, '#ffa500', (255, 165, 0), (0, 165, 255))\n",
    "    orangered             = ( 99, '#ff4500', (255, 69, 0), (0, 69, 255))\n",
    "    orchid                = (100, '#da70d6', (218, 112, 214), (214, 112, 218))\n",
    "    palegoldenrod         = (101, '#eee8aa', (238, 232, 170), (170, 232, 238))\n",
    "    palegreen             = (102, '#98fb98', (152, 251, 152), (152, 251, 152))\n",
    "    paleturquoise         = (103, '#afeeee', (175, 238, 238), (238, 238, 175))\n",
    "    palevioletred         = (104, '#db7093', (219, 112, 147), (147, 112, 219))\n",
    "    papayawhip            = (105, '#ffefd5', (255, 239, 213), (213, 239, 255))\n",
    "    peachpuff             = (106, '#ffdab9', (255, 218, 185), (185, 218, 255))\n",
    "    peru                  = (107, '#cd853f', (205, 133, 63), (63, 133, 205))\n",
    "    pink                  = (108, '#ffc0cb', (255, 192, 203), (203, 192, 255))\n",
    "    plum                  = (109, '#dda0dd', (221, 160, 221), (221, 160, 221))\n",
    "    powderblue            = (110, '#b0e0e6', (176, 224, 230), (230, 224, 176))\n",
    "    purple                = (111, '#800080', (128, 0, 128), (128, 0, 128))\n",
    "    red                   = (112, '#ff0000', (255, 0, 0), (0, 0, 255))\n",
    "    r                     = (112, '#ff0000', (255, 0, 0), (0, 0, 255))\n",
    "    rosybrown             = (113, '#bc8f8f', (188, 143, 143), (143, 143, 188))\n",
    "    royalblue             = (114, '#4169e1', (65, 105, 225), (225, 105, 65))\n",
    "    saddlebrown           = (115, '#8b4513', (139, 69, 19), (19, 69, 139))\n",
    "    salmon                = (116, '#fa8072', (250, 128, 114), (114, 128, 250))\n",
    "    sandybrown            = (117, '#f4a460', (244, 164, 96), (96, 164, 244))\n",
    "    seagreen              = (118, '#2e8b57', (46, 139, 87), (87, 139, 46))\n",
    "    seashell              = (119, '#fff5ee', (255, 245, 238), (238, 245, 255))\n",
    "    sienna                = (120, '#a0522d', (160, 82, 45), (45, 82, 160))\n",
    "    silver                = (121, '#c0c0c0', (192, 192, 192), (192, 192, 192))\n",
    "    skyblue               = (122, '#87ceeb', (135, 206, 235), (235, 206, 135))\n",
    "    slateblue             = (123, '#6a5acd', (106, 90, 205), (205, 90, 106))\n",
    "    slategray             = (124, '#708090', (112, 128, 144), (144, 128, 112))\n",
    "    snow                  = (125, '#fffafa', (255, 250, 250), (250, 250, 255))\n",
    "    springgreen           = (126, '#00ff7f', (0, 255, 127), (127, 255, 0))\n",
    "    steelblue             = (127, '#4682b4', (70, 130, 180), (180, 130, 70))\n",
    "    tan                   = (128, '#d2b48c', (210, 180, 140), (140, 180, 210))\n",
    "    teal                  = (129, '#008080', (0, 128, 128), (128, 128, 0))\n",
    "    thistle               = (130, '#d8bfd8', (216, 191, 216), (216, 191, 216))\n",
    "    tomato                = (131, '#ff6347', (255, 99, 71), (71, 99, 255))\n",
    "    turquoise             = (132, '#40e0d0', (64, 224, 208), (208, 224, 64))\n",
    "    violet                = (133, '#ee82ee', (238, 130, 238), (238, 130, 238))\n",
    "    wheat                 = (134, '#f5deb3', (245, 222, 179), (179, 222, 245))\n",
    "    white                 = (135, '#ffffff', (255, 255, 255), (255, 255, 255))\n",
    "    w                     = (135, '#ffffff', (255, 255, 255), (255, 255, 255))\n",
    "    whitesmoke            = (136, '#f5f5f5', (245, 245, 245), (245, 245, 245))\n",
    "    yellow                = (137, '#ffff00', (255, 255, 0), (0, 255, 255))\n",
    "    y                     = (137, '#ffff00', (255, 255, 0), (0, 255, 255))\n",
    "\n",
    "    def __init__(self, value, hex_code, rgb, bgr):\n",
    "        self._value_ = value\n",
    "        self._hex_code = hex_code\n",
    "        self._rgb = rgb\n",
    "        self._bgr = bgr\n",
    "    \n",
    "    @property\n",
    "    def hex(self):\n",
    "        return self._hex_code\n",
    "    \n",
    "    @property\n",
    "    def rgb(self):\n",
    "        return self._rgb\n",
    "                            \n",
    "    @property\n",
    "    def bgr(self):\n",
    "        return self._bgr\n",
    "    \n",
    "    @property\n",
    "    def __contains__(cls, other):\n",
    "        return other in cls.available"
   ]
  },
  {
   "cell_type": "code",
   "execution_count": null,
   "metadata": {},
   "outputs": [
    {
     "data": {
      "text/markdown": [
       "---\n",
       "\n",
       "[source](https://github.com/susuky/colortextpy/blob/main/colortextpy/color.py#L31){target=\"_blank\" style=\"float:right; font-size:smaller\"}\n",
       "\n",
       "### Color\n",
       "\n",
       ">      Color (value, names=None, module=None, qualname=None, type=None, start=1)\n",
       "\n",
       "Use enum.Enum to store color with **hex**, **rgb**, **bgr** format."
      ],
      "text/plain": [
       "---\n",
       "\n",
       "[source](https://github.com/susuky/colortextpy/blob/main/colortextpy/color.py#L31){target=\"_blank\" style=\"float:right; font-size:smaller\"}\n",
       "\n",
       "### Color\n",
       "\n",
       ">      Color (value, names=None, module=None, qualname=None, type=None, start=1)\n",
       "\n",
       "Use enum.Enum to store color with **hex**, **rgb**, **bgr** format."
      ]
     },
     "execution_count": null,
     "metadata": {},
     "output_type": "execute_result"
    }
   ],
   "source": [
    "show_doc(Color)"
   ]
  },
  {
   "cell_type": "code",
   "execution_count": null,
   "metadata": {},
   "outputs": [
    {
     "data": {
      "text/plain": [
       "('red', '#ff0000', (255, 0, 0))"
      ]
     },
     "execution_count": null,
     "metadata": {},
     "output_type": "execute_result"
    }
   ],
   "source": [
    "Color.red.name, Color.red.hex, Color.red.rgb"
   ]
  },
  {
   "cell_type": "code",
   "execution_count": null,
   "metadata": {},
   "outputs": [],
   "source": [
    "#| output: false\n",
    "Color.available"
   ]
  },
  {
   "cell_type": "code",
   "execution_count": null,
   "metadata": {
    "hide_input": false
   },
   "outputs": [
    {
     "name": "stdout",
     "output_type": "stream",
     "text": [
      "aliceblue            \tantiquewhite         \taqua                 \taquamarine           \tazure                \n",
      "bisque               \tblack                \tblanchedalmond       \tblue                 \tblueviolet           \n",
      "brown                \tburlywood            \tcadetblue            \tchartreuse           \tchocolate            \n",
      "coral                \tcornflowerblue       \tcornsilk             \tcrimson              \tcyan                 \n",
      "c                    \tdark_blue            \tdark_cyan            \tdark_goldenrod       \tdark_gray            \n",
      "dark_green           \tdark_khaki           \tdark_magenta         \tdark_olivegreen      \tdark_orange          \n",
      "dark_orchid          \tdark_red             \tdark_salmon          \tdark_seagreen        \tdark_slateblue       \n",
      "dark_slategray       \tdark_turquoise       \tdark_violet          \tdeep_pink            \tdeep_skyblue         \n",
      "dim_gray             \tdodgerblue           \tfirebrick            \tfloralwhite          \tforestgreen          \n",
      "fuchsia              \tgainsboro            \tghostwhite           \tgold                 \tgoldenrod            \n",
      "gray                 \tgreen                \tg                    \tgreenyellow          \thoneydew             \n",
      "hotpink              \tindianred            \tindigo               \tivory                \tkhaki                \n",
      "lavender             \tlavenderblush        \tlawngreen            \tlemonchiffon         \tlight_blue           \n",
      "light_coral          \tlight_cyan           \tlight_goldenrodyellow\tlight_green          \tlight_grey           \n",
      "light_pink           \tlight_salmon         \tlight_seagreen       \tlight_skyblue        \tlight_slategray      \n",
      "light_steelblue      \tlight_yellow         \tlime                 \tlimegreen            \tlinen                \n",
      "magenta              \tmaroon               \tmedium_aquamarine    \tmedium_blue          \tmedium_orchid        \n",
      "medium_purple        \tmedium_seagreen      \tmedium_slateblue     \tmedium_springgreen   \tmedium_turquoise     \n",
      "medium_violetred     \tmidnightblue         \tmintcream            \tmistyrose            \tmoccasin             \n",
      "navajowhite          \tnavy                 \toldlace              \tolive                \tolivedrab            \n",
      "orange               \torangered            \torchid               \tpalegoldenrod        \tpalegreen            \n",
      "paleturquoise        \tpalevioletred        \tpapayawhip           \tpeachpuff            \tperu                 \n",
      "pink                 \tplum                 \tpowderblue           \tpurple               \tred                  \n",
      "r                    \trosybrown            \troyalblue            \tsaddlebrown          \tsalmon               \n",
      "sandybrown           \tseagreen             \tseashell             \tsienna               \tsilver               \n",
      "skyblue              \tslateblue            \tslategray            \tsnow                 \tspringgreen          \n",
      "steelblue            \ttan                  \tteal                 \tthistle              \ttomato               \n",
      "turquoise            \tviolet               \twheat                \twhite                \tw                    \n",
      "whitesmoke           \tyellow               \ty                    \t"
     ]
    }
   ],
   "source": [
    "#| echo: false\n",
    "for i, c in enumerate(Color.available):\n",
    "    end = '\\n' if (i+1) % 5 == 0 else '\\t'\n",
    "    print(f'{c:21s}', end=end)"
   ]
  },
  {
   "cell_type": "markdown",
   "metadata": {},
   "source": [
    "It could also be used in `matplotlib.pyplot`: "
   ]
  },
  {
   "cell_type": "code",
   "execution_count": null,
   "metadata": {},
   "outputs": [
    {
     "data": {
      "text/plain": [
       "[<matplotlib.lines.Line2D>]"
      ]
     },
     "execution_count": null,
     "metadata": {},
     "output_type": "execute_result"
    },
    {
     "data": {
      "image/png": "[encoded data removed]",
      "text/plain": [
       "<Figure size 900x600 with 1 Axes>"
      ]
     },
     "metadata": {},
     "output_type": "display_data"
    }
   ],
   "source": [
    "plt.plot(range(5), color=Color.red.hex)"
   ]
  },
  {
   "cell_type": "code",
   "execution_count": null,
   "metadata": {},
   "outputs": [],
   "source": [
    "#| hide\n",
    "import nbdev; nbdev.nbdev_export()"
   ]
  },
  {
   "cell_type": "code",
   "execution_count": null,
   "metadata": {},
   "outputs": [],
   "source": []
  },
  {
   "cell_type": "code",
   "execution_count": null,
   "metadata": {},
   "outputs": [],
   "source": []
  }
 ],
 "metadata": {
  "kernelspec": {
   "display_name": "python3",
   "language": "python",
   "name": "python3"
  }
 },
 "nbformat": 4,
 "nbformat_minor": 4
}
